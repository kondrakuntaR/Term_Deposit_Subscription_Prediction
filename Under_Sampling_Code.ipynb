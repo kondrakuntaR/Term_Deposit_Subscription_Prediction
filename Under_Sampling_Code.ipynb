{
  "cells": [
    {
      "cell_type": "markdown",
      "id": "932525f5",
      "metadata": {
        "id": "932525f5"
      },
      "source": [
        "# Term Deposit Subscription Prediction"
      ]
    },
    {
      "cell_type": "markdown",
      "id": "444acd57",
      "metadata": {
        "id": "444acd57"
      },
      "source": [
        "\n",
        "### - Sai Venkata Manoj Vungarala\n",
        "### - Ishal Abhishek Mummidivarapu\n",
        "### - Ramya Kondrakunta"
      ]
    },
    {
      "cell_type": "markdown",
      "id": "0450d4bf",
      "metadata": {
        "id": "0450d4bf"
      },
      "source": [
        "## 1. Data Pre-processing"
      ]
    },
    {
      "cell_type": "code",
      "execution_count": 2,
      "id": "3BZ_0n4LqR8H",
      "metadata": {
        "colab": {
          "base_uri": "https://localhost:8080/"
        },
        "id": "3BZ_0n4LqR8H",
        "outputId": "3ec6ae4a-6576-455a-e735-c6fe44134ba6"
      },
      "outputs": [
        {
          "output_type": "stream",
          "name": "stdout",
          "text": [
            "Collecting category_encoders\n",
            "  Downloading category_encoders-2.3.0-py2.py3-none-any.whl (82 kB)\n",
            "\u001b[?25l\r\u001b[K     |████                            | 10 kB 15.5 MB/s eta 0:00:01\r\u001b[K     |████████                        | 20 kB 22.0 MB/s eta 0:00:01\r\u001b[K     |████████████                    | 30 kB 20.3 MB/s eta 0:00:01\r\u001b[K     |████████████████                | 40 kB 17.6 MB/s eta 0:00:01\r\u001b[K     |████████████████████            | 51 kB 7.3 MB/s eta 0:00:01\r\u001b[K     |████████████████████████        | 61 kB 8.4 MB/s eta 0:00:01\r\u001b[K     |████████████████████████████    | 71 kB 7.5 MB/s eta 0:00:01\r\u001b[K     |███████████████████████████████▉| 81 kB 8.3 MB/s eta 0:00:01\r\u001b[K     |████████████████████████████████| 82 kB 414 kB/s \n",
            "\u001b[?25hRequirement already satisfied: scipy>=1.0.0 in /usr/local/lib/python3.7/dist-packages (from category_encoders) (1.4.1)\n",
            "Requirement already satisfied: numpy>=1.14.0 in /usr/local/lib/python3.7/dist-packages (from category_encoders) (1.19.5)\n",
            "Requirement already satisfied: patsy>=0.5.1 in /usr/local/lib/python3.7/dist-packages (from category_encoders) (0.5.2)\n",
            "Requirement already satisfied: scikit-learn>=0.20.0 in /usr/local/lib/python3.7/dist-packages (from category_encoders) (1.0.1)\n",
            "Requirement already satisfied: statsmodels>=0.9.0 in /usr/local/lib/python3.7/dist-packages (from category_encoders) (0.10.2)\n",
            "Requirement already satisfied: pandas>=0.21.1 in /usr/local/lib/python3.7/dist-packages (from category_encoders) (1.1.5)\n",
            "Requirement already satisfied: pytz>=2017.2 in /usr/local/lib/python3.7/dist-packages (from pandas>=0.21.1->category_encoders) (2018.9)\n",
            "Requirement already satisfied: python-dateutil>=2.7.3 in /usr/local/lib/python3.7/dist-packages (from pandas>=0.21.1->category_encoders) (2.8.2)\n",
            "Requirement already satisfied: six in /usr/local/lib/python3.7/dist-packages (from patsy>=0.5.1->category_encoders) (1.15.0)\n",
            "Requirement already satisfied: joblib>=0.11 in /usr/local/lib/python3.7/dist-packages (from scikit-learn>=0.20.0->category_encoders) (1.1.0)\n",
            "Requirement already satisfied: threadpoolctl>=2.0.0 in /usr/local/lib/python3.7/dist-packages (from scikit-learn>=0.20.0->category_encoders) (3.0.0)\n",
            "Installing collected packages: category-encoders\n",
            "Successfully installed category-encoders-2.3.0\n"
          ]
        }
      ],
      "source": [
        "!pip install category_encoders"
      ]
    },
    {
      "cell_type": "code",
      "execution_count": 3,
      "id": "35b1b7e5",
      "metadata": {
        "colab": {
          "base_uri": "https://localhost:8080/"
        },
        "id": "35b1b7e5",
        "outputId": "651eb3e9-4e7e-49e4-a15f-29907b4b6f73"
      },
      "outputs": [
        {
          "output_type": "stream",
          "name": "stdout",
          "text": [
            "Requirement already satisfied: imbalanced-learn in /usr/local/lib/python3.7/dist-packages (0.8.1)\n",
            "Requirement already satisfied: joblib>=0.11 in /usr/local/lib/python3.7/dist-packages (from imbalanced-learn) (1.1.0)\n",
            "Requirement already satisfied: scikit-learn>=0.24 in /usr/local/lib/python3.7/dist-packages (from imbalanced-learn) (1.0.1)\n",
            "Requirement already satisfied: scipy>=0.19.1 in /usr/local/lib/python3.7/dist-packages (from imbalanced-learn) (1.4.1)\n",
            "Requirement already satisfied: numpy>=1.13.3 in /usr/local/lib/python3.7/dist-packages (from imbalanced-learn) (1.19.5)\n",
            "Requirement already satisfied: threadpoolctl>=2.0.0 in /usr/local/lib/python3.7/dist-packages (from scikit-learn>=0.24->imbalanced-learn) (3.0.0)\n"
          ]
        }
      ],
      "source": [
        "!pip install imbalanced-learn"
      ]
    },
    {
      "cell_type": "code",
      "execution_count": 4,
      "id": "fa580d85",
      "metadata": {
        "colab": {
          "base_uri": "https://localhost:8080/"
        },
        "id": "fa580d85",
        "outputId": "792b23cb-090a-4f92-94a3-68aa507c9fa1"
      },
      "outputs": [
        {
          "output_type": "stream",
          "name": "stderr",
          "text": [
            "/usr/local/lib/python3.7/dist-packages/statsmodels/tools/_testing.py:19: FutureWarning: pandas.util.testing is deprecated. Use the functions in the public API at pandas.testing instead.\n",
            "  import pandas.util.testing as tm\n"
          ]
        }
      ],
      "source": [
        "# Importing the required libraries\n",
        "import pandas as pd\n",
        "import numpy as np\n",
        "import seaborn as sns\n",
        "import category_encoders as ce\n",
        "from sklearn.model_selection import train_test_split, GridSearchCV\n",
        "from sklearn.metrics import roc_curve, roc_auc_score, auc, confusion_matrix, classification_report,accuracy_score, log_loss,precision_score, f1_score\n",
        "from sklearn.tree import DecisionTreeClassifier\n",
        "from sklearn.ensemble import RandomForestClassifier, GradientBoostingClassifier\n",
        "from sklearn.naive_bayes import GaussianNB\n",
        "from sklearn.linear_model import LogisticRegression\n",
        "from imblearn.over_sampling import SMOTE\n",
        "from sklearn.preprocessing import StandardScaler\n",
        "from sklearn.utils.class_weight import compute_class_weight\n",
        "import matplotlib.pyplot as plt\n",
        "%matplotlib inline"
      ]
    },
    {
      "cell_type": "code",
      "execution_count": 5,
      "id": "e1017cc2",
      "metadata": {
        "id": "e1017cc2"
      },
      "outputs": [],
      "source": [
        "# Reading the csv file\n",
        "df = pd.read_csv(\"bank-full.csv\",sep=';')"
      ]
    },
    {
      "cell_type": "code",
      "execution_count": 6,
      "id": "f5b1be9d",
      "metadata": {
        "colab": {
          "base_uri": "https://localhost:8080/",
          "height": 0
        },
        "id": "f5b1be9d",
        "outputId": "03e97c6a-ea92-45b3-be87-51cd80797386"
      },
      "outputs": [
        {
          "output_type": "execute_result",
          "data": {
            "text/html": [
              "<div>\n",
              "<style scoped>\n",
              "    .dataframe tbody tr th:only-of-type {\n",
              "        vertical-align: middle;\n",
              "    }\n",
              "\n",
              "    .dataframe tbody tr th {\n",
              "        vertical-align: top;\n",
              "    }\n",
              "\n",
              "    .dataframe thead th {\n",
              "        text-align: right;\n",
              "    }\n",
              "</style>\n",
              "<table border=\"1\" class=\"dataframe\">\n",
              "  <thead>\n",
              "    <tr style=\"text-align: right;\">\n",
              "      <th></th>\n",
              "      <th>age</th>\n",
              "      <th>job</th>\n",
              "      <th>marital</th>\n",
              "      <th>education</th>\n",
              "      <th>default</th>\n",
              "      <th>balance</th>\n",
              "      <th>housing</th>\n",
              "      <th>loan</th>\n",
              "      <th>contact</th>\n",
              "      <th>day</th>\n",
              "      <th>month</th>\n",
              "      <th>duration</th>\n",
              "      <th>campaign</th>\n",
              "      <th>pdays</th>\n",
              "      <th>previous</th>\n",
              "      <th>poutcome</th>\n",
              "      <th>y</th>\n",
              "    </tr>\n",
              "  </thead>\n",
              "  <tbody>\n",
              "    <tr>\n",
              "      <th>0</th>\n",
              "      <td>58</td>\n",
              "      <td>management</td>\n",
              "      <td>married</td>\n",
              "      <td>tertiary</td>\n",
              "      <td>no</td>\n",
              "      <td>2143</td>\n",
              "      <td>yes</td>\n",
              "      <td>no</td>\n",
              "      <td>unknown</td>\n",
              "      <td>5</td>\n",
              "      <td>may</td>\n",
              "      <td>261</td>\n",
              "      <td>1</td>\n",
              "      <td>-1</td>\n",
              "      <td>0</td>\n",
              "      <td>unknown</td>\n",
              "      <td>no</td>\n",
              "    </tr>\n",
              "    <tr>\n",
              "      <th>1</th>\n",
              "      <td>44</td>\n",
              "      <td>technician</td>\n",
              "      <td>single</td>\n",
              "      <td>secondary</td>\n",
              "      <td>no</td>\n",
              "      <td>29</td>\n",
              "      <td>yes</td>\n",
              "      <td>no</td>\n",
              "      <td>unknown</td>\n",
              "      <td>5</td>\n",
              "      <td>may</td>\n",
              "      <td>151</td>\n",
              "      <td>1</td>\n",
              "      <td>-1</td>\n",
              "      <td>0</td>\n",
              "      <td>unknown</td>\n",
              "      <td>no</td>\n",
              "    </tr>\n",
              "    <tr>\n",
              "      <th>2</th>\n",
              "      <td>33</td>\n",
              "      <td>entrepreneur</td>\n",
              "      <td>married</td>\n",
              "      <td>secondary</td>\n",
              "      <td>no</td>\n",
              "      <td>2</td>\n",
              "      <td>yes</td>\n",
              "      <td>yes</td>\n",
              "      <td>unknown</td>\n",
              "      <td>5</td>\n",
              "      <td>may</td>\n",
              "      <td>76</td>\n",
              "      <td>1</td>\n",
              "      <td>-1</td>\n",
              "      <td>0</td>\n",
              "      <td>unknown</td>\n",
              "      <td>no</td>\n",
              "    </tr>\n",
              "    <tr>\n",
              "      <th>3</th>\n",
              "      <td>47</td>\n",
              "      <td>blue-collar</td>\n",
              "      <td>married</td>\n",
              "      <td>unknown</td>\n",
              "      <td>no</td>\n",
              "      <td>1506</td>\n",
              "      <td>yes</td>\n",
              "      <td>no</td>\n",
              "      <td>unknown</td>\n",
              "      <td>5</td>\n",
              "      <td>may</td>\n",
              "      <td>92</td>\n",
              "      <td>1</td>\n",
              "      <td>-1</td>\n",
              "      <td>0</td>\n",
              "      <td>unknown</td>\n",
              "      <td>no</td>\n",
              "    </tr>\n",
              "    <tr>\n",
              "      <th>4</th>\n",
              "      <td>33</td>\n",
              "      <td>unknown</td>\n",
              "      <td>single</td>\n",
              "      <td>unknown</td>\n",
              "      <td>no</td>\n",
              "      <td>1</td>\n",
              "      <td>no</td>\n",
              "      <td>no</td>\n",
              "      <td>unknown</td>\n",
              "      <td>5</td>\n",
              "      <td>may</td>\n",
              "      <td>198</td>\n",
              "      <td>1</td>\n",
              "      <td>-1</td>\n",
              "      <td>0</td>\n",
              "      <td>unknown</td>\n",
              "      <td>no</td>\n",
              "    </tr>\n",
              "    <tr>\n",
              "      <th>...</th>\n",
              "      <td>...</td>\n",
              "      <td>...</td>\n",
              "      <td>...</td>\n",
              "      <td>...</td>\n",
              "      <td>...</td>\n",
              "      <td>...</td>\n",
              "      <td>...</td>\n",
              "      <td>...</td>\n",
              "      <td>...</td>\n",
              "      <td>...</td>\n",
              "      <td>...</td>\n",
              "      <td>...</td>\n",
              "      <td>...</td>\n",
              "      <td>...</td>\n",
              "      <td>...</td>\n",
              "      <td>...</td>\n",
              "      <td>...</td>\n",
              "    </tr>\n",
              "    <tr>\n",
              "      <th>45206</th>\n",
              "      <td>51</td>\n",
              "      <td>technician</td>\n",
              "      <td>married</td>\n",
              "      <td>tertiary</td>\n",
              "      <td>no</td>\n",
              "      <td>825</td>\n",
              "      <td>no</td>\n",
              "      <td>no</td>\n",
              "      <td>cellular</td>\n",
              "      <td>17</td>\n",
              "      <td>nov</td>\n",
              "      <td>977</td>\n",
              "      <td>3</td>\n",
              "      <td>-1</td>\n",
              "      <td>0</td>\n",
              "      <td>unknown</td>\n",
              "      <td>yes</td>\n",
              "    </tr>\n",
              "    <tr>\n",
              "      <th>45207</th>\n",
              "      <td>71</td>\n",
              "      <td>retired</td>\n",
              "      <td>divorced</td>\n",
              "      <td>primary</td>\n",
              "      <td>no</td>\n",
              "      <td>1729</td>\n",
              "      <td>no</td>\n",
              "      <td>no</td>\n",
              "      <td>cellular</td>\n",
              "      <td>17</td>\n",
              "      <td>nov</td>\n",
              "      <td>456</td>\n",
              "      <td>2</td>\n",
              "      <td>-1</td>\n",
              "      <td>0</td>\n",
              "      <td>unknown</td>\n",
              "      <td>yes</td>\n",
              "    </tr>\n",
              "    <tr>\n",
              "      <th>45208</th>\n",
              "      <td>72</td>\n",
              "      <td>retired</td>\n",
              "      <td>married</td>\n",
              "      <td>secondary</td>\n",
              "      <td>no</td>\n",
              "      <td>5715</td>\n",
              "      <td>no</td>\n",
              "      <td>no</td>\n",
              "      <td>cellular</td>\n",
              "      <td>17</td>\n",
              "      <td>nov</td>\n",
              "      <td>1127</td>\n",
              "      <td>5</td>\n",
              "      <td>184</td>\n",
              "      <td>3</td>\n",
              "      <td>success</td>\n",
              "      <td>yes</td>\n",
              "    </tr>\n",
              "    <tr>\n",
              "      <th>45209</th>\n",
              "      <td>57</td>\n",
              "      <td>blue-collar</td>\n",
              "      <td>married</td>\n",
              "      <td>secondary</td>\n",
              "      <td>no</td>\n",
              "      <td>668</td>\n",
              "      <td>no</td>\n",
              "      <td>no</td>\n",
              "      <td>telephone</td>\n",
              "      <td>17</td>\n",
              "      <td>nov</td>\n",
              "      <td>508</td>\n",
              "      <td>4</td>\n",
              "      <td>-1</td>\n",
              "      <td>0</td>\n",
              "      <td>unknown</td>\n",
              "      <td>no</td>\n",
              "    </tr>\n",
              "    <tr>\n",
              "      <th>45210</th>\n",
              "      <td>37</td>\n",
              "      <td>entrepreneur</td>\n",
              "      <td>married</td>\n",
              "      <td>secondary</td>\n",
              "      <td>no</td>\n",
              "      <td>2971</td>\n",
              "      <td>no</td>\n",
              "      <td>no</td>\n",
              "      <td>cellular</td>\n",
              "      <td>17</td>\n",
              "      <td>nov</td>\n",
              "      <td>361</td>\n",
              "      <td>2</td>\n",
              "      <td>188</td>\n",
              "      <td>11</td>\n",
              "      <td>other</td>\n",
              "      <td>no</td>\n",
              "    </tr>\n",
              "  </tbody>\n",
              "</table>\n",
              "<p>45211 rows × 17 columns</p>\n",
              "</div>"
            ],
            "text/plain": [
              "       age           job   marital  education  ... pdays  previous poutcome    y\n",
              "0       58    management   married   tertiary  ...    -1         0  unknown   no\n",
              "1       44    technician    single  secondary  ...    -1         0  unknown   no\n",
              "2       33  entrepreneur   married  secondary  ...    -1         0  unknown   no\n",
              "3       47   blue-collar   married    unknown  ...    -1         0  unknown   no\n",
              "4       33       unknown    single    unknown  ...    -1         0  unknown   no\n",
              "...    ...           ...       ...        ...  ...   ...       ...      ...  ...\n",
              "45206   51    technician   married   tertiary  ...    -1         0  unknown  yes\n",
              "45207   71       retired  divorced    primary  ...    -1         0  unknown  yes\n",
              "45208   72       retired   married  secondary  ...   184         3  success  yes\n",
              "45209   57   blue-collar   married  secondary  ...    -1         0  unknown   no\n",
              "45210   37  entrepreneur   married  secondary  ...   188        11    other   no\n",
              "\n",
              "[45211 rows x 17 columns]"
            ]
          },
          "metadata": {},
          "execution_count": 6
        }
      ],
      "source": [
        "df"
      ]
    },
    {
      "cell_type": "code",
      "execution_count": 7,
      "id": "d0e9f78f",
      "metadata": {
        "colab": {
          "base_uri": "https://localhost:8080/"
        },
        "id": "d0e9f78f",
        "outputId": "2b7f8a36-3600-4099-ad28-6f80f2e47779"
      },
      "outputs": [
        {
          "output_type": "execute_result",
          "data": {
            "text/plain": [
              "age          False\n",
              "job          False\n",
              "marital      False\n",
              "education    False\n",
              "default      False\n",
              "balance      False\n",
              "housing      False\n",
              "loan         False\n",
              "contact      False\n",
              "day          False\n",
              "month        False\n",
              "duration     False\n",
              "campaign     False\n",
              "pdays        False\n",
              "previous     False\n",
              "poutcome     False\n",
              "y            False\n",
              "dtype: bool"
            ]
          },
          "metadata": {},
          "execution_count": 7
        }
      ],
      "source": [
        "# Checking for null values\n",
        "df.isnull().any()"
      ]
    },
    {
      "cell_type": "code",
      "execution_count": 8,
      "id": "818e5d16",
      "metadata": {
        "id": "818e5d16"
      },
      "outputs": [],
      "source": [
        "# Replacing yes with 1 and no with 0\n",
        "df.y = df.y.eq('yes').mul(1)\n",
        "df.default = df.default.eq('yes').mul(1)\n",
        "df.housing = df.housing.eq('yes').mul(1)\n",
        "df.loan = df.loan.eq('yes').mul(1)"
      ]
    },
    {
      "cell_type": "markdown",
      "id": "788073d0",
      "metadata": {
        "id": "788073d0"
      },
      "source": [
        "## 2. Ordinal Encoding"
      ]
    },
    {
      "cell_type": "code",
      "execution_count": 9,
      "id": "2c144b74",
      "metadata": {
        "id": "2c144b74"
      },
      "outputs": [],
      "source": [
        "# Using Ordinal Encoding to convert categorical columns\n",
        "encoder= ce.OrdinalEncoder(cols=['contact'],return_df=True,\n",
        "                           mapping=[{'col':'contact',\n",
        "'mapping':{'cellular':2, 'telephone':0, 'unknown':1}}])"
      ]
    },
    {
      "cell_type": "code",
      "execution_count": 10,
      "id": "c106fea7",
      "metadata": {
        "id": "c106fea7"
      },
      "outputs": [],
      "source": [
        "df[['contact']] = encoder.fit_transform(df[['contact']])"
      ]
    },
    {
      "cell_type": "code",
      "execution_count": 11,
      "id": "fa583a63",
      "metadata": {
        "id": "fa583a63"
      },
      "outputs": [],
      "source": [
        "# Using Ordinal Encoding to convert categorical columns\n",
        "encoder= ce.OrdinalEncoder(cols=['month'],return_df=True,\n",
        "                           mapping=[{'col':'month',\n",
        "'mapping':{'apr':9, 'aug':11, 'dec':1, 'feb':7, 'jan':2, 'jul':10, 'jun':8, 'mar':3, 'may':12,\n",
        "       'nov':6, 'oct':5, 'sep':4}}])"
      ]
    },
    {
      "cell_type": "code",
      "execution_count": 12,
      "id": "0ea7f76f",
      "metadata": {
        "id": "0ea7f76f"
      },
      "outputs": [],
      "source": [
        "df[['month']] = encoder.fit_transform(df[['month']])"
      ]
    },
    {
      "cell_type": "code",
      "execution_count": 13,
      "id": "c9f0ddd0",
      "metadata": {
        "id": "c9f0ddd0"
      },
      "outputs": [],
      "source": [
        "# Using Ordinal Encoding to convert categorical columns\n",
        "encoder= ce.OrdinalEncoder(cols=['job'],return_df=True,\n",
        "                           mapping=[{'col':'job',\n",
        "'mapping':{'unemployed':0,'unknown':1,'student':2,'housemaid':3,'blue-collar':4,'technician':5,'services':6,\n",
        "           'retired':7,'admin':8,'self-employed':9,'entrepreneur':10,'management':11}}])"
      ]
    },
    {
      "cell_type": "code",
      "execution_count": 14,
      "id": "37f9ee18",
      "metadata": {
        "id": "37f9ee18"
      },
      "outputs": [],
      "source": [
        "df[['job']] = encoder.fit_transform(df[['job']])"
      ]
    },
    {
      "cell_type": "code",
      "execution_count": 15,
      "id": "e5de5e02",
      "metadata": {
        "id": "e5de5e02"
      },
      "outputs": [],
      "source": [
        "# Using Ordinal Encoding to convert categorical columns\n",
        "encoder= ce.OrdinalEncoder(cols=['marital'],return_df=True,\n",
        "                           mapping=[{'col':'marital',\n",
        "'mapping':{'single':0,'divorced':1,'married':2}}])"
      ]
    },
    {
      "cell_type": "code",
      "execution_count": 16,
      "id": "6754c463",
      "metadata": {
        "id": "6754c463"
      },
      "outputs": [],
      "source": [
        "df[['marital']] = encoder.fit_transform(df[['marital']])"
      ]
    },
    {
      "cell_type": "code",
      "execution_count": 17,
      "id": "d673ded4",
      "metadata": {
        "id": "d673ded4"
      },
      "outputs": [],
      "source": [
        "# Using Ordinal Encoding to convert categorical columns\n",
        "encoder= ce.OrdinalEncoder(cols=['education'],return_df=True,\n",
        "                           mapping=[{'col':'education',\n",
        "'mapping':{'unknown':0,'primary':1,'secondary':2,'tertiary':3}}])"
      ]
    },
    {
      "cell_type": "code",
      "execution_count": 18,
      "id": "93d8779a",
      "metadata": {
        "id": "93d8779a"
      },
      "outputs": [],
      "source": [
        "df[['education']] = encoder.fit_transform(df[['education']])"
      ]
    },
    {
      "cell_type": "code",
      "execution_count": 19,
      "id": "be875de3",
      "metadata": {
        "id": "be875de3"
      },
      "outputs": [],
      "source": [
        "# Using Ordinal Encoding to convert categorical columns\n",
        "encoder= ce.OrdinalEncoder(cols=['poutcome'],return_df=True,\n",
        "                           mapping=[{'col':'poutcome',\n",
        "'mapping':{'failure':0,'other':1,'unknown':2,'success':3}}])"
      ]
    },
    {
      "cell_type": "code",
      "execution_count": 20,
      "id": "06cae376",
      "metadata": {
        "id": "06cae376"
      },
      "outputs": [],
      "source": [
        "df[['poutcome']] = encoder.fit_transform(df[['poutcome']])"
      ]
    },
    {
      "cell_type": "code",
      "execution_count": 21,
      "id": "f39f6bc7",
      "metadata": {
        "colab": {
          "base_uri": "https://localhost:8080/",
          "height": 0
        },
        "id": "f39f6bc7",
        "outputId": "4954e4a5-1594-4061-f058-2b9f401d8ab3"
      },
      "outputs": [
        {
          "output_type": "execute_result",
          "data": {
            "text/html": [
              "<div>\n",
              "<style scoped>\n",
              "    .dataframe tbody tr th:only-of-type {\n",
              "        vertical-align: middle;\n",
              "    }\n",
              "\n",
              "    .dataframe tbody tr th {\n",
              "        vertical-align: top;\n",
              "    }\n",
              "\n",
              "    .dataframe thead th {\n",
              "        text-align: right;\n",
              "    }\n",
              "</style>\n",
              "<table border=\"1\" class=\"dataframe\">\n",
              "  <thead>\n",
              "    <tr style=\"text-align: right;\">\n",
              "      <th></th>\n",
              "      <th>age</th>\n",
              "      <th>job</th>\n",
              "      <th>marital</th>\n",
              "      <th>education</th>\n",
              "      <th>default</th>\n",
              "      <th>balance</th>\n",
              "      <th>housing</th>\n",
              "      <th>loan</th>\n",
              "      <th>contact</th>\n",
              "      <th>day</th>\n",
              "      <th>month</th>\n",
              "      <th>duration</th>\n",
              "      <th>campaign</th>\n",
              "      <th>pdays</th>\n",
              "      <th>previous</th>\n",
              "      <th>poutcome</th>\n",
              "      <th>y</th>\n",
              "    </tr>\n",
              "  </thead>\n",
              "  <tbody>\n",
              "    <tr>\n",
              "      <th>0</th>\n",
              "      <td>58</td>\n",
              "      <td>11.0</td>\n",
              "      <td>2</td>\n",
              "      <td>3</td>\n",
              "      <td>0</td>\n",
              "      <td>2143</td>\n",
              "      <td>1</td>\n",
              "      <td>0</td>\n",
              "      <td>1</td>\n",
              "      <td>5</td>\n",
              "      <td>12</td>\n",
              "      <td>261</td>\n",
              "      <td>1</td>\n",
              "      <td>-1</td>\n",
              "      <td>0</td>\n",
              "      <td>2</td>\n",
              "      <td>0</td>\n",
              "    </tr>\n",
              "    <tr>\n",
              "      <th>1</th>\n",
              "      <td>44</td>\n",
              "      <td>5.0</td>\n",
              "      <td>0</td>\n",
              "      <td>2</td>\n",
              "      <td>0</td>\n",
              "      <td>29</td>\n",
              "      <td>1</td>\n",
              "      <td>0</td>\n",
              "      <td>1</td>\n",
              "      <td>5</td>\n",
              "      <td>12</td>\n",
              "      <td>151</td>\n",
              "      <td>1</td>\n",
              "      <td>-1</td>\n",
              "      <td>0</td>\n",
              "      <td>2</td>\n",
              "      <td>0</td>\n",
              "    </tr>\n",
              "    <tr>\n",
              "      <th>2</th>\n",
              "      <td>33</td>\n",
              "      <td>10.0</td>\n",
              "      <td>2</td>\n",
              "      <td>2</td>\n",
              "      <td>0</td>\n",
              "      <td>2</td>\n",
              "      <td>1</td>\n",
              "      <td>1</td>\n",
              "      <td>1</td>\n",
              "      <td>5</td>\n",
              "      <td>12</td>\n",
              "      <td>76</td>\n",
              "      <td>1</td>\n",
              "      <td>-1</td>\n",
              "      <td>0</td>\n",
              "      <td>2</td>\n",
              "      <td>0</td>\n",
              "    </tr>\n",
              "    <tr>\n",
              "      <th>3</th>\n",
              "      <td>47</td>\n",
              "      <td>4.0</td>\n",
              "      <td>2</td>\n",
              "      <td>0</td>\n",
              "      <td>0</td>\n",
              "      <td>1506</td>\n",
              "      <td>1</td>\n",
              "      <td>0</td>\n",
              "      <td>1</td>\n",
              "      <td>5</td>\n",
              "      <td>12</td>\n",
              "      <td>92</td>\n",
              "      <td>1</td>\n",
              "      <td>-1</td>\n",
              "      <td>0</td>\n",
              "      <td>2</td>\n",
              "      <td>0</td>\n",
              "    </tr>\n",
              "    <tr>\n",
              "      <th>4</th>\n",
              "      <td>33</td>\n",
              "      <td>1.0</td>\n",
              "      <td>0</td>\n",
              "      <td>0</td>\n",
              "      <td>0</td>\n",
              "      <td>1</td>\n",
              "      <td>0</td>\n",
              "      <td>0</td>\n",
              "      <td>1</td>\n",
              "      <td>5</td>\n",
              "      <td>12</td>\n",
              "      <td>198</td>\n",
              "      <td>1</td>\n",
              "      <td>-1</td>\n",
              "      <td>0</td>\n",
              "      <td>2</td>\n",
              "      <td>0</td>\n",
              "    </tr>\n",
              "    <tr>\n",
              "      <th>...</th>\n",
              "      <td>...</td>\n",
              "      <td>...</td>\n",
              "      <td>...</td>\n",
              "      <td>...</td>\n",
              "      <td>...</td>\n",
              "      <td>...</td>\n",
              "      <td>...</td>\n",
              "      <td>...</td>\n",
              "      <td>...</td>\n",
              "      <td>...</td>\n",
              "      <td>...</td>\n",
              "      <td>...</td>\n",
              "      <td>...</td>\n",
              "      <td>...</td>\n",
              "      <td>...</td>\n",
              "      <td>...</td>\n",
              "      <td>...</td>\n",
              "    </tr>\n",
              "    <tr>\n",
              "      <th>45206</th>\n",
              "      <td>51</td>\n",
              "      <td>5.0</td>\n",
              "      <td>2</td>\n",
              "      <td>3</td>\n",
              "      <td>0</td>\n",
              "      <td>825</td>\n",
              "      <td>0</td>\n",
              "      <td>0</td>\n",
              "      <td>2</td>\n",
              "      <td>17</td>\n",
              "      <td>6</td>\n",
              "      <td>977</td>\n",
              "      <td>3</td>\n",
              "      <td>-1</td>\n",
              "      <td>0</td>\n",
              "      <td>2</td>\n",
              "      <td>1</td>\n",
              "    </tr>\n",
              "    <tr>\n",
              "      <th>45207</th>\n",
              "      <td>71</td>\n",
              "      <td>7.0</td>\n",
              "      <td>1</td>\n",
              "      <td>1</td>\n",
              "      <td>0</td>\n",
              "      <td>1729</td>\n",
              "      <td>0</td>\n",
              "      <td>0</td>\n",
              "      <td>2</td>\n",
              "      <td>17</td>\n",
              "      <td>6</td>\n",
              "      <td>456</td>\n",
              "      <td>2</td>\n",
              "      <td>-1</td>\n",
              "      <td>0</td>\n",
              "      <td>2</td>\n",
              "      <td>1</td>\n",
              "    </tr>\n",
              "    <tr>\n",
              "      <th>45208</th>\n",
              "      <td>72</td>\n",
              "      <td>7.0</td>\n",
              "      <td>2</td>\n",
              "      <td>2</td>\n",
              "      <td>0</td>\n",
              "      <td>5715</td>\n",
              "      <td>0</td>\n",
              "      <td>0</td>\n",
              "      <td>2</td>\n",
              "      <td>17</td>\n",
              "      <td>6</td>\n",
              "      <td>1127</td>\n",
              "      <td>5</td>\n",
              "      <td>184</td>\n",
              "      <td>3</td>\n",
              "      <td>3</td>\n",
              "      <td>1</td>\n",
              "    </tr>\n",
              "    <tr>\n",
              "      <th>45209</th>\n",
              "      <td>57</td>\n",
              "      <td>4.0</td>\n",
              "      <td>2</td>\n",
              "      <td>2</td>\n",
              "      <td>0</td>\n",
              "      <td>668</td>\n",
              "      <td>0</td>\n",
              "      <td>0</td>\n",
              "      <td>0</td>\n",
              "      <td>17</td>\n",
              "      <td>6</td>\n",
              "      <td>508</td>\n",
              "      <td>4</td>\n",
              "      <td>-1</td>\n",
              "      <td>0</td>\n",
              "      <td>2</td>\n",
              "      <td>0</td>\n",
              "    </tr>\n",
              "    <tr>\n",
              "      <th>45210</th>\n",
              "      <td>37</td>\n",
              "      <td>10.0</td>\n",
              "      <td>2</td>\n",
              "      <td>2</td>\n",
              "      <td>0</td>\n",
              "      <td>2971</td>\n",
              "      <td>0</td>\n",
              "      <td>0</td>\n",
              "      <td>2</td>\n",
              "      <td>17</td>\n",
              "      <td>6</td>\n",
              "      <td>361</td>\n",
              "      <td>2</td>\n",
              "      <td>188</td>\n",
              "      <td>11</td>\n",
              "      <td>1</td>\n",
              "      <td>0</td>\n",
              "    </tr>\n",
              "  </tbody>\n",
              "</table>\n",
              "<p>45211 rows × 17 columns</p>\n",
              "</div>"
            ],
            "text/plain": [
              "       age   job  marital  education  ...  pdays  previous  poutcome  y\n",
              "0       58  11.0        2          3  ...     -1         0         2  0\n",
              "1       44   5.0        0          2  ...     -1         0         2  0\n",
              "2       33  10.0        2          2  ...     -1         0         2  0\n",
              "3       47   4.0        2          0  ...     -1         0         2  0\n",
              "4       33   1.0        0          0  ...     -1         0         2  0\n",
              "...    ...   ...      ...        ...  ...    ...       ...       ... ..\n",
              "45206   51   5.0        2          3  ...     -1         0         2  1\n",
              "45207   71   7.0        1          1  ...     -1         0         2  1\n",
              "45208   72   7.0        2          2  ...    184         3         3  1\n",
              "45209   57   4.0        2          2  ...     -1         0         2  0\n",
              "45210   37  10.0        2          2  ...    188        11         1  0\n",
              "\n",
              "[45211 rows x 17 columns]"
            ]
          },
          "metadata": {},
          "execution_count": 21
        }
      ],
      "source": [
        "df"
      ]
    },
    {
      "cell_type": "markdown",
      "id": "0651c0a8",
      "metadata": {
        "id": "0651c0a8"
      },
      "source": [
        "## 3. Correlation and Heat Map"
      ]
    },
    {
      "cell_type": "code",
      "execution_count": 22,
      "id": "413c3ca6",
      "metadata": {
        "colab": {
          "base_uri": "https://localhost:8080/",
          "height": 0
        },
        "id": "413c3ca6",
        "outputId": "168b1181-ca0a-46a2-c5f1-7ccc7f7d6720",
        "scrolled": false
      },
      "outputs": [
        {
          "output_type": "execute_result",
          "data": {
            "text/html": [
              "<div>\n",
              "<style scoped>\n",
              "    .dataframe tbody tr th:only-of-type {\n",
              "        vertical-align: middle;\n",
              "    }\n",
              "\n",
              "    .dataframe tbody tr th {\n",
              "        vertical-align: top;\n",
              "    }\n",
              "\n",
              "    .dataframe thead th {\n",
              "        text-align: right;\n",
              "    }\n",
              "</style>\n",
              "<table border=\"1\" class=\"dataframe\">\n",
              "  <thead>\n",
              "    <tr style=\"text-align: right;\">\n",
              "      <th></th>\n",
              "      <th>age</th>\n",
              "      <th>job</th>\n",
              "      <th>marital</th>\n",
              "      <th>education</th>\n",
              "      <th>default</th>\n",
              "      <th>balance</th>\n",
              "      <th>housing</th>\n",
              "      <th>loan</th>\n",
              "      <th>contact</th>\n",
              "      <th>day</th>\n",
              "      <th>month</th>\n",
              "      <th>duration</th>\n",
              "      <th>campaign</th>\n",
              "      <th>pdays</th>\n",
              "      <th>previous</th>\n",
              "      <th>poutcome</th>\n",
              "      <th>y</th>\n",
              "    </tr>\n",
              "  </thead>\n",
              "  <tbody>\n",
              "    <tr>\n",
              "      <th>age</th>\n",
              "      <td>1.000000</td>\n",
              "      <td>0.078259</td>\n",
              "      <td>0.376104</td>\n",
              "      <td>-0.173615</td>\n",
              "      <td>-0.017879</td>\n",
              "      <td>0.097783</td>\n",
              "      <td>-0.185513</td>\n",
              "      <td>-0.015655</td>\n",
              "      <td>-0.122114</td>\n",
              "      <td>-0.009120</td>\n",
              "      <td>-0.086378</td>\n",
              "      <td>-0.004648</td>\n",
              "      <td>0.004760</td>\n",
              "      <td>-0.023758</td>\n",
              "      <td>0.001288</td>\n",
              "      <td>0.020678</td>\n",
              "      <td>0.025155</td>\n",
              "    </tr>\n",
              "    <tr>\n",
              "      <th>job</th>\n",
              "      <td>0.078259</td>\n",
              "      <td>1.000000</td>\n",
              "      <td>0.035643</td>\n",
              "      <td>0.376480</td>\n",
              "      <td>0.008913</td>\n",
              "      <td>0.067506</td>\n",
              "      <td>-0.063879</td>\n",
              "      <td>-0.015011</td>\n",
              "      <td>0.064248</td>\n",
              "      <td>0.022594</td>\n",
              "      <td>-0.027862</td>\n",
              "      <td>0.003221</td>\n",
              "      <td>0.023540</td>\n",
              "      <td>-0.023232</td>\n",
              "      <td>0.006032</td>\n",
              "      <td>0.007397</td>\n",
              "      <td>0.016835</td>\n",
              "    </tr>\n",
              "    <tr>\n",
              "      <th>marital</th>\n",
              "      <td>0.376104</td>\n",
              "      <td>0.035643</td>\n",
              "      <td>1.000000</td>\n",
              "      <td>-0.137510</td>\n",
              "      <td>-0.009584</td>\n",
              "      <td>0.020602</td>\n",
              "      <td>0.020202</td>\n",
              "      <td>0.046738</td>\n",
              "      <td>-0.058796</td>\n",
              "      <td>0.007701</td>\n",
              "      <td>0.022085</td>\n",
              "      <td>-0.022895</td>\n",
              "      <td>0.029121</td>\n",
              "      <td>-0.029490</td>\n",
              "      <td>-0.015676</td>\n",
              "      <td>0.007471</td>\n",
              "      <td>-0.065668</td>\n",
              "    </tr>\n",
              "    <tr>\n",
              "      <th>education</th>\n",
              "      <td>-0.173615</td>\n",
              "      <td>0.376480</td>\n",
              "      <td>-0.137510</td>\n",
              "      <td>1.000000</td>\n",
              "      <td>-0.009035</td>\n",
              "      <td>0.050572</td>\n",
              "      <td>-0.038689</td>\n",
              "      <td>0.004307</td>\n",
              "      <td>0.156922</td>\n",
              "      <td>0.021661</td>\n",
              "      <td>-0.046916</td>\n",
              "      <td>0.002554</td>\n",
              "      <td>0.000194</td>\n",
              "      <td>0.007092</td>\n",
              "      <td>0.025295</td>\n",
              "      <td>-0.009235</td>\n",
              "      <td>0.051341</td>\n",
              "    </tr>\n",
              "    <tr>\n",
              "      <th>default</th>\n",
              "      <td>-0.017879</td>\n",
              "      <td>0.008913</td>\n",
              "      <td>-0.009584</td>\n",
              "      <td>-0.009035</td>\n",
              "      <td>1.000000</td>\n",
              "      <td>-0.066745</td>\n",
              "      <td>-0.006025</td>\n",
              "      <td>0.077234</td>\n",
              "      <td>-0.000961</td>\n",
              "      <td>0.009424</td>\n",
              "      <td>0.015682</td>\n",
              "      <td>-0.010021</td>\n",
              "      <td>0.016822</td>\n",
              "      <td>-0.029979</td>\n",
              "      <td>-0.018329</td>\n",
              "      <td>0.022274</td>\n",
              "      <td>-0.022419</td>\n",
              "    </tr>\n",
              "    <tr>\n",
              "      <th>balance</th>\n",
              "      <td>0.097783</td>\n",
              "      <td>0.067506</td>\n",
              "      <td>0.020602</td>\n",
              "      <td>0.050572</td>\n",
              "      <td>-0.066745</td>\n",
              "      <td>1.000000</td>\n",
              "      <td>-0.068768</td>\n",
              "      <td>-0.084350</td>\n",
              "      <td>-0.002844</td>\n",
              "      <td>0.004503</td>\n",
              "      <td>-0.093798</td>\n",
              "      <td>0.021560</td>\n",
              "      <td>-0.014578</td>\n",
              "      <td>0.003435</td>\n",
              "      <td>0.016674</td>\n",
              "      <td>-0.004008</td>\n",
              "      <td>0.052838</td>\n",
              "    </tr>\n",
              "    <tr>\n",
              "      <th>housing</th>\n",
              "      <td>-0.185513</td>\n",
              "      <td>-0.063879</td>\n",
              "      <td>0.020202</td>\n",
              "      <td>-0.038689</td>\n",
              "      <td>-0.006025</td>\n",
              "      <td>-0.068768</td>\n",
              "      <td>1.000000</td>\n",
              "      <td>0.041323</td>\n",
              "      <td>-0.089783</td>\n",
              "      <td>-0.027982</td>\n",
              "      <td>0.244022</td>\n",
              "      <td>0.005075</td>\n",
              "      <td>-0.023599</td>\n",
              "      <td>0.124178</td>\n",
              "      <td>0.037076</td>\n",
              "      <td>-0.134047</td>\n",
              "      <td>-0.139173</td>\n",
              "    </tr>\n",
              "    <tr>\n",
              "      <th>loan</th>\n",
              "      <td>-0.015655</td>\n",
              "      <td>-0.015011</td>\n",
              "      <td>0.046738</td>\n",
              "      <td>0.004307</td>\n",
              "      <td>0.077234</td>\n",
              "      <td>-0.084350</td>\n",
              "      <td>0.041323</td>\n",
              "      <td>1.000000</td>\n",
              "      <td>0.015964</td>\n",
              "      <td>0.011370</td>\n",
              "      <td>0.014244</td>\n",
              "      <td>-0.012412</td>\n",
              "      <td>0.009980</td>\n",
              "      <td>-0.022754</td>\n",
              "      <td>-0.011043</td>\n",
              "      <td>-0.009605</td>\n",
              "      <td>-0.068185</td>\n",
              "    </tr>\n",
              "    <tr>\n",
              "      <th>contact</th>\n",
              "      <td>-0.122114</td>\n",
              "      <td>0.064248</td>\n",
              "      <td>-0.058796</td>\n",
              "      <td>0.156922</td>\n",
              "      <td>-0.000961</td>\n",
              "      <td>-0.002844</td>\n",
              "      <td>-0.089783</td>\n",
              "      <td>0.015964</td>\n",
              "      <td>1.000000</td>\n",
              "      <td>0.006302</td>\n",
              "      <td>-0.118184</td>\n",
              "      <td>0.029350</td>\n",
              "      <td>-0.046971</td>\n",
              "      <td>0.170654</td>\n",
              "      <td>0.091911</td>\n",
              "      <td>-0.142421</td>\n",
              "      <td>0.100822</td>\n",
              "    </tr>\n",
              "    <tr>\n",
              "      <th>day</th>\n",
              "      <td>-0.009120</td>\n",
              "      <td>0.022594</td>\n",
              "      <td>0.007701</td>\n",
              "      <td>0.021661</td>\n",
              "      <td>0.009424</td>\n",
              "      <td>0.004503</td>\n",
              "      <td>-0.027982</td>\n",
              "      <td>0.011370</td>\n",
              "      <td>0.006302</td>\n",
              "      <td>1.000000</td>\n",
              "      <td>-0.043602</td>\n",
              "      <td>-0.030206</td>\n",
              "      <td>0.162490</td>\n",
              "      <td>-0.093044</td>\n",
              "      <td>-0.051710</td>\n",
              "      <td>0.064721</td>\n",
              "      <td>-0.028348</td>\n",
              "    </tr>\n",
              "    <tr>\n",
              "      <th>month</th>\n",
              "      <td>-0.086378</td>\n",
              "      <td>-0.027862</td>\n",
              "      <td>0.022085</td>\n",
              "      <td>-0.046916</td>\n",
              "      <td>0.015682</td>\n",
              "      <td>-0.093798</td>\n",
              "      <td>0.244022</td>\n",
              "      <td>0.014244</td>\n",
              "      <td>-0.118184</td>\n",
              "      <td>-0.043602</td>\n",
              "      <td>1.000000</td>\n",
              "      <td>-0.010123</td>\n",
              "      <td>0.097368</td>\n",
              "      <td>-0.074225</td>\n",
              "      <td>-0.098699</td>\n",
              "      <td>0.086150</td>\n",
              "      <td>-0.150419</td>\n",
              "    </tr>\n",
              "    <tr>\n",
              "      <th>duration</th>\n",
              "      <td>-0.004648</td>\n",
              "      <td>0.003221</td>\n",
              "      <td>-0.022895</td>\n",
              "      <td>0.002554</td>\n",
              "      <td>-0.010021</td>\n",
              "      <td>0.021560</td>\n",
              "      <td>0.005075</td>\n",
              "      <td>-0.012412</td>\n",
              "      <td>0.029350</td>\n",
              "      <td>-0.030206</td>\n",
              "      <td>-0.010123</td>\n",
              "      <td>1.000000</td>\n",
              "      <td>-0.084570</td>\n",
              "      <td>-0.001565</td>\n",
              "      <td>0.001203</td>\n",
              "      <td>0.029232</td>\n",
              "      <td>0.394521</td>\n",
              "    </tr>\n",
              "    <tr>\n",
              "      <th>campaign</th>\n",
              "      <td>0.004760</td>\n",
              "      <td>0.023540</td>\n",
              "      <td>0.029121</td>\n",
              "      <td>0.000194</td>\n",
              "      <td>0.016822</td>\n",
              "      <td>-0.014578</td>\n",
              "      <td>-0.023599</td>\n",
              "      <td>0.009980</td>\n",
              "      <td>-0.046971</td>\n",
              "      <td>0.162490</td>\n",
              "      <td>0.097368</td>\n",
              "      <td>-0.084570</td>\n",
              "      <td>1.000000</td>\n",
              "      <td>-0.088628</td>\n",
              "      <td>-0.032855</td>\n",
              "      <td>0.071612</td>\n",
              "      <td>-0.073172</td>\n",
              "    </tr>\n",
              "    <tr>\n",
              "      <th>pdays</th>\n",
              "      <td>-0.023758</td>\n",
              "      <td>-0.023232</td>\n",
              "      <td>-0.029490</td>\n",
              "      <td>0.007092</td>\n",
              "      <td>-0.029979</td>\n",
              "      <td>0.003435</td>\n",
              "      <td>0.124178</td>\n",
              "      <td>-0.022754</td>\n",
              "      <td>0.170654</td>\n",
              "      <td>-0.093044</td>\n",
              "      <td>-0.074225</td>\n",
              "      <td>-0.001565</td>\n",
              "      <td>-0.088628</td>\n",
              "      <td>1.000000</td>\n",
              "      <td>0.454820</td>\n",
              "      <td>-0.697576</td>\n",
              "      <td>0.103621</td>\n",
              "    </tr>\n",
              "    <tr>\n",
              "      <th>previous</th>\n",
              "      <td>0.001288</td>\n",
              "      <td>0.006032</td>\n",
              "      <td>-0.015676</td>\n",
              "      <td>0.025295</td>\n",
              "      <td>-0.018329</td>\n",
              "      <td>0.016674</td>\n",
              "      <td>0.037076</td>\n",
              "      <td>-0.011043</td>\n",
              "      <td>0.091911</td>\n",
              "      <td>-0.051710</td>\n",
              "      <td>-0.098699</td>\n",
              "      <td>0.001203</td>\n",
              "      <td>-0.032855</td>\n",
              "      <td>0.454820</td>\n",
              "      <td>1.000000</td>\n",
              "      <td>-0.358357</td>\n",
              "      <td>0.093236</td>\n",
              "    </tr>\n",
              "    <tr>\n",
              "      <th>poutcome</th>\n",
              "      <td>0.020678</td>\n",
              "      <td>0.007397</td>\n",
              "      <td>0.007471</td>\n",
              "      <td>-0.009235</td>\n",
              "      <td>0.022274</td>\n",
              "      <td>-0.004008</td>\n",
              "      <td>-0.134047</td>\n",
              "      <td>-0.009605</td>\n",
              "      <td>-0.142421</td>\n",
              "      <td>0.064721</td>\n",
              "      <td>0.086150</td>\n",
              "      <td>0.029232</td>\n",
              "      <td>0.071612</td>\n",
              "      <td>-0.697576</td>\n",
              "      <td>-0.358357</td>\n",
              "      <td>1.000000</td>\n",
              "      <td>0.063098</td>\n",
              "    </tr>\n",
              "    <tr>\n",
              "      <th>y</th>\n",
              "      <td>0.025155</td>\n",
              "      <td>0.016835</td>\n",
              "      <td>-0.065668</td>\n",
              "      <td>0.051341</td>\n",
              "      <td>-0.022419</td>\n",
              "      <td>0.052838</td>\n",
              "      <td>-0.139173</td>\n",
              "      <td>-0.068185</td>\n",
              "      <td>0.100822</td>\n",
              "      <td>-0.028348</td>\n",
              "      <td>-0.150419</td>\n",
              "      <td>0.394521</td>\n",
              "      <td>-0.073172</td>\n",
              "      <td>0.103621</td>\n",
              "      <td>0.093236</td>\n",
              "      <td>0.063098</td>\n",
              "      <td>1.000000</td>\n",
              "    </tr>\n",
              "  </tbody>\n",
              "</table>\n",
              "</div>"
            ],
            "text/plain": [
              "                age       job   marital  ...  previous  poutcome         y\n",
              "age        1.000000  0.078259  0.376104  ...  0.001288  0.020678  0.025155\n",
              "job        0.078259  1.000000  0.035643  ...  0.006032  0.007397  0.016835\n",
              "marital    0.376104  0.035643  1.000000  ... -0.015676  0.007471 -0.065668\n",
              "education -0.173615  0.376480 -0.137510  ...  0.025295 -0.009235  0.051341\n",
              "default   -0.017879  0.008913 -0.009584  ... -0.018329  0.022274 -0.022419\n",
              "balance    0.097783  0.067506  0.020602  ...  0.016674 -0.004008  0.052838\n",
              "housing   -0.185513 -0.063879  0.020202  ...  0.037076 -0.134047 -0.139173\n",
              "loan      -0.015655 -0.015011  0.046738  ... -0.011043 -0.009605 -0.068185\n",
              "contact   -0.122114  0.064248 -0.058796  ...  0.091911 -0.142421  0.100822\n",
              "day       -0.009120  0.022594  0.007701  ... -0.051710  0.064721 -0.028348\n",
              "month     -0.086378 -0.027862  0.022085  ... -0.098699  0.086150 -0.150419\n",
              "duration  -0.004648  0.003221 -0.022895  ...  0.001203  0.029232  0.394521\n",
              "campaign   0.004760  0.023540  0.029121  ... -0.032855  0.071612 -0.073172\n",
              "pdays     -0.023758 -0.023232 -0.029490  ...  0.454820 -0.697576  0.103621\n",
              "previous   0.001288  0.006032 -0.015676  ...  1.000000 -0.358357  0.093236\n",
              "poutcome   0.020678  0.007397  0.007471  ... -0.358357  1.000000  0.063098\n",
              "y          0.025155  0.016835 -0.065668  ...  0.093236  0.063098  1.000000\n",
              "\n",
              "[17 rows x 17 columns]"
            ]
          },
          "metadata": {},
          "execution_count": 22
        }
      ],
      "source": [
        "# Finding the correlation\n",
        "df.corr()"
      ]
    },
    {
      "cell_type": "code",
      "execution_count": 23,
      "id": "88ae6cdd",
      "metadata": {
        "colab": {
          "base_uri": "https://localhost:8080/",
          "height": 0
        },
        "id": "88ae6cdd",
        "outputId": "4dd74ba8-23b5-40e0-eee5-91298566cd50"
      },
      "outputs": [
        {
          "output_type": "execute_result",
          "data": {
            "text/plain": [
              "<matplotlib.axes._subplots.AxesSubplot at 0x7ff51ec7a410>"
            ]
          },
          "metadata": {},
          "execution_count": 23
        },
        {
          "output_type": "display_data",
          "data": {
            "image/png": "[encoded data removed]",
            "text/plain": [
              "<Figure size 432x288 with 2 Axes>"
            ]
          },
          "metadata": {
            "needs_background": "light"
          }
        }
      ],
      "source": [
        "# Displaying the Heat Map\n",
        "sns.heatmap(df.corr())"
      ]
    },
    {
      "cell_type": "markdown",
      "id": "0f7049a1",
      "metadata": {
        "id": "0f7049a1"
      },
      "source": [
        "## 4. Training and Testing the Data"
      ]
    },
    {
      "cell_type": "code",
      "execution_count": 24,
      "id": "458d76af",
      "metadata": {
        "id": "458d76af"
      },
      "outputs": [],
      "source": [
        "# training the dataset\n",
        "X = df.drop(\"y\", axis=1)\n",
        "y = df[\"y\"]\n",
        "X, X_test, y, y_test = train_test_split(X, y, test_size=0.2, random_state=42)\n"
      ]
    },
    {
      "cell_type": "code",
      "execution_count": null,
      "id": "799ed644",
      "metadata": {
        "colab": {
          "base_uri": "https://localhost:8080/"
        },
        "id": "799ed644",
        "outputId": "37a17afe-e5e6-40da-f298-5466c8c7a544"
      },
      "outputs": [
        {
          "name": "stdout",
          "output_type": "stream",
          "text": [
            "==============================\n",
            "DecisionTreeClassifier\n",
            "****Results****\n",
            "Accuracy: 100.0000%\n",
            "precision_score: \n",
            " 1.0\n",
            "f1_score: \n",
            " 1.0\n",
            "confusion_matrix: \n",
            " [[31970     0]\n",
            " [    0  4198]]\n",
            "log_loss: \n",
            " 9.992007221626413e-16\n",
            "==============================\n",
            "RandomForestClassifier\n",
            "****Results****\n",
            "Accuracy: 100.0000%\n",
            "precision_score: \n",
            " 1.0\n",
            "f1_score: \n",
            " 1.0\n",
            "confusion_matrix: \n",
            " [[31970     0]\n",
            " [    0  4198]]\n",
            "log_loss: \n",
            " 9.992007221626413e-16\n",
            "==============================\n",
            "GradientBoostingClassifier\n",
            "****Results****\n",
            "Accuracy: 90.8344%\n",
            "precision_score: \n",
            " 0.6769539078156313\n",
            "f1_score: \n",
            " 0.5047064096817571\n",
            "confusion_matrix: \n",
            " [[31164   806]\n",
            " [ 2509  1689]]\n",
            "log_loss: \n",
            " 3.1656903402084073\n",
            "==============================\n",
            "LogisticRegression\n",
            "****Results****\n",
            "Accuracy: 88.8907%\n",
            "precision_score: \n",
            " 0.5669642857142857\n",
            "f1_score: \n",
            " 0.2749909779862865\n",
            "confusion_matrix: \n",
            " [[31388   582]\n",
            " [ 3436   762]]\n",
            "log_loss: \n",
            " 3.8370180524346247\n",
            "==============================\n",
            "GaussianNB\n",
            "****Results****\n",
            "Accuracy: 85.7222%\n",
            "precision_score: \n",
            " 0.39242761692650335\n",
            "f1_score: \n",
            " 0.4056169429097606\n",
            "confusion_matrix: \n",
            " [[29242  2728]\n",
            " [ 2436  1762]]\n",
            "log_loss: \n",
            " 4.931442783817418\n",
            "==============================\n"
          ]
        },
        {
          "name": "stderr",
          "output_type": "stream",
          "text": [
            "/usr/local/lib/python3.7/dist-packages/sklearn/linear_model/_logistic.py:818: ConvergenceWarning: lbfgs failed to converge (status=1):\n",
            "STOP: TOTAL NO. of ITERATIONS REACHED LIMIT.\n",
            "\n",
            "Increase the number of iterations (max_iter) or scale the data as shown in:\n",
            "    https://scikit-learn.org/stable/modules/preprocessing.html\n",
            "Please also refer to the documentation for alternative solver options:\n",
            "    https://scikit-learn.org/stable/modules/linear_model.html#logistic-regression\n",
            "  extra_warning_msg=_LOGISTIC_SOLVER_CONVERGENCE_MSG,\n"
          ]
        }
      ],
      "source": [
        "# Implimenting different models\n",
        "classifiers = [\n",
        "    DecisionTreeClassifier(),\n",
        "    RandomForestClassifier(),\n",
        "    GradientBoostingClassifier(),\n",
        "    LogisticRegression(),\n",
        "    GaussianNB()]\n",
        "\n",
        "# Logging for Visual Comparison\n",
        "log_cols=[\"Classifier\", \"Accuracy\", 'Log Loss']\n",
        "log = pd.DataFrame(columns=log_cols)\n",
        "\n",
        "for clf in classifiers:\n",
        "    clf.fit(X,y)\n",
        "    name = clf.__class__.__name__\n",
        "    \n",
        "    print(\"=\"*30)\n",
        "    print(name)\n",
        "    try:\n",
        "        print('****Results****')\n",
        "        train_predictions = clf.predict(X)\n",
        "        acc = accuracy_score(y, train_predictions)\n",
        "        print(\"Accuracy: {:.4%}\".format(acc))\n",
        "        print(\"precision_score: \\n\",precision_score(y, train_predictions))\n",
        "        print(\"f1_score: \\n\",f1_score(y, train_predictions))\n",
        "        print(\"confusion_matrix: \\n\",confusion_matrix(y, train_predictions))\n",
        "        print(\"log_loss: \\n\",log_loss(y, train_predictions))\n",
        "        log_entry = pd.DataFrame([[name, acc*100, log_loss(y, train_predictions)]], columns=log_cols)\n",
        "        log = log.append(log_entry)\n",
        "    except Exception as e:\n",
        "        print (e)\n",
        "    \n",
        "print(\"=\"*30)"
      ]
    },
    {
      "cell_type": "code",
      "execution_count": null,
      "id": "8490f6e7",
      "metadata": {
        "colab": {
          "base_uri": "https://localhost:8080/",
          "height": 573
        },
        "id": "8490f6e7",
        "outputId": "e368eba5-8078-4a15-a6d8-3bf0b71cbf11"
      },
      "outputs": [
        {
          "data": {
            "image/png": "[encoded data removed]",
            "text/plain": [
              "<Figure size 432x288 with 1 Axes>"
            ]
          },
          "metadata": {
            "needs_background": "light"
          },
          "output_type": "display_data"
        },
        {
          "data": {
            "image/png": "[encoded data removed]",
            "text/plain": [
              "<Figure size 432x288 with 1 Axes>"
            ]
          },
          "metadata": {
            "needs_background": "light"
          },
          "output_type": "display_data"
        }
      ],
      "source": [
        "# Comparison between Classifier Accuracy and Accuracy Percentage \n",
        "sns.set_color_codes(\"muted\")\n",
        "sns.barplot(x='Accuracy', y='Classifier', data=log, color=\"b\")\n",
        "\n",
        "plt.xlabel('Accuracy %')\n",
        "plt.title('Classifier Accuracy')\n",
        "plt.show()\n",
        "\n",
        "sns.set_color_codes(\"muted\")\n",
        "sns.barplot(x='Log Loss', y='Classifier', data=log, color=\"g\")\n",
        "\n",
        "plt.xlabel('Log Loss')\n",
        "plt.title('Classifier Log Loss')\n",
        "plt.show()"
      ]
    },
    {
      "cell_type": "code",
      "execution_count": null,
      "id": "6e342556",
      "metadata": {
        "colab": {
          "base_uri": "https://localhost:8080/"
        },
        "id": "6e342556",
        "outputId": "f58e3c49-abbb-4d2a-9dbb-a2305b8be693"
      },
      "outputs": [
        {
          "name": "stdout",
          "output_type": "stream",
          "text": [
            "==============================\n",
            "DecisionTreeClassifier\n",
            "****Results****\n",
            "Accuracy: 85.4473%\n",
            "precision_score: \n",
            " 0.40425531914893614\n",
            "f1_score: \n",
            " 0.41924095322153576\n",
            "confusion_matrix: \n",
            " [[7252  700]\n",
            " [ 616  475]]\n",
            "log_loss: \n",
            " 5.026383882992768\n",
            "==============================\n",
            "RandomForestClassifier\n",
            "****Results****\n",
            "Accuracy: 89.5499%\n",
            "precision_score: \n",
            " 0.6126543209876543\n",
            "f1_score: \n",
            " 0.4565842438182864\n",
            "confusion_matrix: \n",
            " [[7701  251]\n",
            " [ 694  397]]\n",
            "log_loss: \n",
            " 3.6093491531732362\n",
            "==============================\n",
            "GradientBoostingClassifier\n",
            "****Results****\n",
            "Accuracy: 89.7047%\n",
            "precision_score: \n",
            " 0.621580547112462\n",
            "f1_score: \n",
            " 0.46769582618639227\n",
            "confusion_matrix: \n",
            " [[7703  249]\n",
            " [ 682  409]]\n",
            "log_loss: \n",
            " 3.5558774658212946\n",
            "==============================\n",
            "LogisticRegression\n",
            "****Results****\n",
            "Accuracy: 88.5768%\n",
            "precision_score: \n",
            " 0.5814606741573034\n",
            "f1_score: \n",
            " 0.286109191430546\n",
            "confusion_matrix: \n",
            " [[7803  149]\n",
            " [ 884  207]]\n",
            "log_loss: \n",
            " 3.9454467716421364\n",
            "==============================\n",
            "GaussianNB\n",
            "****Results****\n",
            "Accuracy: 85.1266%\n",
            "precision_score: \n",
            " 0.39327731092436974\n",
            "f1_score: \n",
            " 0.4103463393248575\n",
            "confusion_matrix: \n",
            " [[7230  722]\n",
            " [ 623  468]]\n",
            "log_loss: \n",
            " 5.137148242894999\n",
            "==============================\n"
          ]
        },
        {
          "name": "stderr",
          "output_type": "stream",
          "text": [
            "/usr/local/lib/python3.7/dist-packages/sklearn/linear_model/_logistic.py:818: ConvergenceWarning: lbfgs failed to converge (status=1):\n",
            "STOP: TOTAL NO. of ITERATIONS REACHED LIMIT.\n",
            "\n",
            "Increase the number of iterations (max_iter) or scale the data as shown in:\n",
            "    https://scikit-learn.org/stable/modules/preprocessing.html\n",
            "Please also refer to the documentation for alternative solver options:\n",
            "    https://scikit-learn.org/stable/modules/linear_model.html#logistic-regression\n",
            "  extra_warning_msg=_LOGISTIC_SOLVER_CONVERGENCE_MSG,\n"
          ]
        }
      ],
      "source": [
        "# Implimenting different models\n",
        "classifiers = [\n",
        "    DecisionTreeClassifier(),\n",
        "    RandomForestClassifier(),\n",
        "    GradientBoostingClassifier(),\n",
        "    LogisticRegression(),\n",
        "    GaussianNB()]\n",
        "\n",
        "# Logging for Visual Comparison\n",
        "log_cols=[\"Classifier\", \"Accuracy\", 'Log Loss']\n",
        "log = pd.DataFrame(columns=log_cols)\n",
        "\n",
        "for clf in classifiers:\n",
        "    clf.fit(X,y)\n",
        "    name = clf.__class__.__name__\n",
        "    \n",
        "    print(\"=\"*30)\n",
        "    print(name)\n",
        "    try:\n",
        "        print('****Results****')\n",
        "        train_predictions = clf.predict(X_test)\n",
        "        acc = accuracy_score(y_test, train_predictions)\n",
        "        print(\"Accuracy: {:.4%}\".format(acc))\n",
        "        print(\"precision_score: \\n\",precision_score(y_test, train_predictions))\n",
        "        print(\"f1_score: \\n\",f1_score(y_test, train_predictions))\n",
        "        print(\"confusion_matrix: \\n\",confusion_matrix(y_test, train_predictions))\n",
        "        print(\"log_loss: \\n\",log_loss(y_test, train_predictions))\n",
        "        log_entry = pd.DataFrame([[name, acc*100, log_loss(y_test, train_predictions)]], columns=log_cols)\n",
        "        log = log.append(log_entry)\n",
        "    except Exception as e:\n",
        "        print (e)\n",
        "    \n",
        "print(\"=\"*30)"
      ]
    },
    {
      "cell_type": "markdown",
      "id": "lxnz5nW-S865",
      "metadata": {
        "id": "lxnz5nW-S865"
      },
      "source": [
        "# Under sampling"
      ]
    },
    {
      "cell_type": "code",
      "execution_count": 25,
      "id": "U5jUuqySS_ZI",
      "metadata": {
        "colab": {
          "base_uri": "https://localhost:8080/"
        },
        "id": "U5jUuqySS_ZI",
        "outputId": "3c903213-e4ed-401f-acdb-69401c46c8fc"
      },
      "outputs": [
        {
          "output_type": "stream",
          "name": "stdout",
          "text": [
            "Counter({0: 4198, 1: 4198})\n"
          ]
        }
      ],
      "source": [
        "from imblearn.under_sampling import NearMiss\n",
        "from collections import Counter\n",
        "# define the undersampling method\n",
        "undersample = NearMiss(version=1, n_neighbors=3)\n",
        "# transform the dataset\n",
        "X_train, y_train = undersample.fit_resample(X, y)\n",
        "# summarize the new class distribution\n",
        "counter = Counter(y_train)\n",
        "print(counter)"
      ]
    },
    {
      "cell_type": "markdown",
      "id": "LgRM58UvUbQt",
      "metadata": {
        "id": "LgRM58UvUbQt"
      },
      "source": [
        "## Under sampled metrics"
      ]
    },
    {
      "cell_type": "code",
      "execution_count": null,
      "id": "dab0422b",
      "metadata": {
        "colab": {
          "base_uri": "https://localhost:8080/"
        },
        "id": "dab0422b",
        "outputId": "005d5bf3-7414-47e4-df20-4e0d6aba9800"
      },
      "outputs": [
        {
          "name": "stdout",
          "output_type": "stream",
          "text": [
            "==============================\n",
            "DecisionTreeClassifier\n",
            "****Results****\n",
            "Accuracy: 100.0000%\n",
            "precision_score: \n",
            " 1.0\n",
            "f1_score: \n",
            " 1.0\n",
            "confusion_matrix: \n",
            " [[4198    0]\n",
            " [   0 4198]]\n",
            "log_loss: \n",
            " 9.992007221626413e-16\n",
            "==============================\n",
            "RandomForestClassifier\n",
            "****Results****\n",
            "Accuracy: 99.9881%\n",
            "precision_score: \n",
            " 1.0\n",
            "f1_score: \n",
            " 0.9998808814770698\n",
            "confusion_matrix: \n",
            " [[4198    0]\n",
            " [   1 4197]]\n",
            "log_loss: \n",
            " 0.0041137180079703515\n",
            "==============================\n",
            "AdaBoostClassifier\n",
            "****Results****\n",
            "Accuracy: 91.3173%\n",
            "precision_score: \n",
            " 0.9305038471084637\n",
            "f1_score: \n",
            " 0.9113893278230218\n",
            "confusion_matrix: \n",
            " [[3918  280]\n",
            " [ 449 3749]]\n",
            "log_loss: \n",
            " 2.998927093755401\n",
            "==============================\n",
            "GradientBoostingClassifier\n",
            "****Results****\n",
            "Accuracy: 92.4369%\n",
            "precision_score: \n",
            " 0.9395509499136442\n",
            "f1_score: \n",
            " 0.9230396315598111\n",
            "confusion_matrix: \n",
            " [[3953  245]\n",
            " [ 390 3808]]\n",
            "log_loss: \n",
            " 2.612234267763064\n",
            "==============================\n",
            "LogisticRegression\n",
            "****Results****\n",
            "Accuracy: 88.5541%\n",
            "precision_score: \n",
            " 0.919626652838994\n",
            "f1_score: \n",
            " 0.8806952203600248\n",
            "confusion_matrix: \n",
            " [[3888  310]\n",
            " [ 651 3547]]\n",
            "log_loss: \n",
            " 3.9533125286699056\n",
            "==============================\n",
            "GaussianNB\n",
            "****Results****\n",
            "Accuracy: 84.7427%\n",
            "precision_score: \n",
            " 0.974617637487797\n",
            "f1_score: \n",
            " 0.823820657406134\n",
            "confusion_matrix: \n",
            " [[4120   78]\n",
            " [1203 2995]]\n",
            "log_loss: \n",
            " 5.2696801965793405\n",
            "==============================\n"
          ]
        },
        {
          "name": "stderr",
          "output_type": "stream",
          "text": [
            "/usr/local/lib/python3.7/dist-packages/sklearn/linear_model/_logistic.py:818: ConvergenceWarning: lbfgs failed to converge (status=1):\n",
            "STOP: TOTAL NO. of ITERATIONS REACHED LIMIT.\n",
            "\n",
            "Increase the number of iterations (max_iter) or scale the data as shown in:\n",
            "    https://scikit-learn.org/stable/modules/preprocessing.html\n",
            "Please also refer to the documentation for alternative solver options:\n",
            "    https://scikit-learn.org/stable/modules/linear_model.html#logistic-regression\n",
            "  extra_warning_msg=_LOGISTIC_SOLVER_CONVERGENCE_MSG,\n"
          ]
        }
      ],
      "source": [
        "# Implimenting different models\n",
        "classifiers = [\n",
        "    DecisionTreeClassifier(),\n",
        "    RandomForestClassifier(),\n",
        "    AdaBoostClassifier(),\n",
        "    GradientBoostingClassifier(),\n",
        "    LogisticRegression(),\n",
        "    GaussianNB()]\n",
        "\n",
        "# Logging for Visual Comparison\n",
        "log_cols=[\"Classifier\", \"Accuracy\", 'Log Loss']\n",
        "log = pd.DataFrame(columns=log_cols)\n",
        "\n",
        "for clf in classifiers:\n",
        "    clf.fit(X_train, y_train)\n",
        "    name = clf.__class__.__name__\n",
        "    \n",
        "    print(\"=\"*30)\n",
        "    print(name)\n",
        "    try:\n",
        "        print('****Results****')\n",
        "        train_predictions = clf.predict(X_train)\n",
        "        acc = accuracy_score(y_train, train_predictions)\n",
        "        print(\"Accuracy: {:.4%}\".format(acc))\n",
        "        print(\"precision_score: \\n\",precision_score(y_train, train_predictions))\n",
        "        print(\"f1_score: \\n\",f1_score(y_train, train_predictions))\n",
        "        print(\"confusion_matrix: \\n\",confusion_matrix(y_train, train_predictions))\n",
        "        print(\"log_loss: \\n\",log_loss(y_train, train_predictions))\n",
        "        log_entry = pd.DataFrame([[name, acc*100, log_loss(y_train, train_predictions)]], columns=log_cols)\n",
        "        log = log.append(log_entry)\n",
        "    except Exception as e:\n",
        "        print (e)\n",
        "    \n",
        "print(\"=\"*30)"
      ]
    },
    {
      "cell_type": "code",
      "execution_count": null,
      "id": "55ca75e8",
      "metadata": {
        "colab": {
          "base_uri": "https://localhost:8080/",
          "height": 573
        },
        "id": "55ca75e8",
        "outputId": "2c5846ab-8e54-4d87-fd04-47e78d4b95c0"
      },
      "outputs": [
        {
          "data": {
            "image/png": "[encoded data removed]",
            "text/plain": [
              "<Figure size 432x288 with 1 Axes>"
            ]
          },
          "metadata": {
            "needs_background": "light"
          },
          "output_type": "display_data"
        },
        {
          "data": {
            "image/png": "[encoded data removed]",
            "text/plain": [
              "<Figure size 432x288 with 1 Axes>"
            ]
          },
          "metadata": {
            "needs_background": "light"
          },
          "output_type": "display_data"
        }
      ],
      "source": [
        "# Comparison between Classifier Accuracy and Accuracy Percentage \n",
        "sns.set_color_codes(\"muted\")\n",
        "sns.barplot(x='Accuracy', y='Classifier', data=log, color=\"b\")\n",
        "\n",
        "plt.xlabel('Accuracy %')\n",
        "plt.title('Classifier Accuracy')\n",
        "plt.show()\n",
        "\n",
        "sns.set_color_codes(\"muted\")\n",
        "sns.barplot(x='Log Loss', y='Classifier', data=log, color=\"g\")\n",
        "\n",
        "plt.xlabel('Log Loss')\n",
        "plt.title('Classifier Log Loss')\n",
        "plt.show()"
      ]
    },
    {
      "cell_type": "code",
      "execution_count": null,
      "id": "1fc4e86d",
      "metadata": {
        "colab": {
          "base_uri": "https://localhost:8080/"
        },
        "id": "1fc4e86d",
        "outputId": "2c81135e-5599-4515-fe6d-372d323a2a06"
      },
      "outputs": [
        {
          "name": "stdout",
          "output_type": "stream",
          "text": [
            "==============================\n",
            "DecisionTreeClassifier\n",
            "****Results****\n",
            "Accuracy: 43.5696%\n",
            "precision_score: \n",
            " 0.16319677635997312\n",
            "f1_score: \n",
            " 0.2758620689655172\n",
            "confusion_matrix: \n",
            " [[2968 4984]\n",
            " [ 119  972]]\n",
            "log_loss: \n",
            " 19.490806274114927\n",
            "==============================\n",
            "RandomForestClassifier\n",
            "****Results****\n",
            "Accuracy: 50.1714%\n",
            "precision_score: \n",
            " 0.1845556992425642\n",
            "f1_score: \n",
            " 0.30719557195571956\n",
            "confusion_matrix: \n",
            " [[3538 4414]\n",
            " [  92  999]]\n",
            "log_loss: \n",
            " 17.210577889917555\n",
            "==============================\n",
            "AdaBoostClassifier\n",
            "****Results****\n",
            "Accuracy: 44.5759%\n",
            "precision_score: \n",
            " 0.16743002544529262\n",
            "f1_score: \n",
            " 0.282565130260521\n",
            "confusion_matrix: \n",
            " [[3044 4908]\n",
            " [ 104  987]]\n",
            "log_loss: \n",
            " 19.14323473576023\n",
            "==============================\n",
            "GradientBoostingClassifier\n",
            "****Results****\n",
            "Accuracy: 46.5111%\n",
            "precision_score: \n",
            " 0.17380703587600138\n",
            "f1_score: \n",
            " 0.29211181033221134\n",
            "confusion_matrix: \n",
            " [[3208 4744]\n",
            " [  93  998]]\n",
            "log_loss: \n",
            " 18.474826353244698\n",
            "==============================\n",
            "LogisticRegression\n",
            "****Results****\n",
            "Accuracy: 56.5078%\n",
            "precision_score: \n",
            " 0.19906819144430327\n",
            "f1_score: \n",
            " 0.32341303973851715\n",
            "confusion_matrix: \n",
            " [[4170 3782]\n",
            " [ 151  940]]\n",
            "log_loss: \n",
            " 15.022009470160867\n",
            "==============================\n",
            "GaussianNB\n",
            "****Results****\n",
            "Accuracy: 59.5488%\n",
            "precision_score: \n",
            " 0.19079739821729705\n",
            "f1_score: \n",
            " 0.30217474246470816\n",
            "confusion_matrix: \n",
            " [[4593 3359]\n",
            " [ 299  792]]\n",
            "log_loss: \n",
            " 13.971638825649817\n",
            "==============================\n"
          ]
        },
        {
          "name": "stderr",
          "output_type": "stream",
          "text": [
            "/usr/local/lib/python3.7/dist-packages/sklearn/linear_model/_logistic.py:818: ConvergenceWarning: lbfgs failed to converge (status=1):\n",
            "STOP: TOTAL NO. of ITERATIONS REACHED LIMIT.\n",
            "\n",
            "Increase the number of iterations (max_iter) or scale the data as shown in:\n",
            "    https://scikit-learn.org/stable/modules/preprocessing.html\n",
            "Please also refer to the documentation for alternative solver options:\n",
            "    https://scikit-learn.org/stable/modules/linear_model.html#logistic-regression\n",
            "  extra_warning_msg=_LOGISTIC_SOLVER_CONVERGENCE_MSG,\n"
          ]
        }
      ],
      "source": [
        "# Implimenting different models\n",
        "classifiers = [\n",
        "    DecisionTreeClassifier(),\n",
        "    RandomForestClassifier(),\n",
        "    AdaBoostClassifier(),\n",
        "    GradientBoostingClassifier(),\n",
        "    LogisticRegression(),\n",
        "    GaussianNB()]\n",
        "\n",
        "# Logging for Visual Comparison\n",
        "log_cols=[\"Classifier\", \"Accuracy\", 'Log Loss']\n",
        "log = pd.DataFrame(columns=log_cols)\n",
        "\n",
        "for clf in classifiers:\n",
        "    clf.fit(X_train, y_train)\n",
        "    name = clf.__class__.__name__\n",
        "    \n",
        "    print(\"=\"*30)\n",
        "    print(name)\n",
        "    try:\n",
        "        print('****Results****')\n",
        "        train_predictions = clf.predict(X_test)\n",
        "        acc = accuracy_score(y_test, train_predictions)\n",
        "        print(\"Accuracy: {:.4%}\".format(acc))\n",
        "        print(\"precision_score: \\n\",precision_score(y_test, train_predictions))\n",
        "        print(\"f1_score: \\n\",f1_score(y_test, train_predictions))\n",
        "        print(\"confusion_matrix: \\n\",confusion_matrix(y_test, train_predictions))\n",
        "        print(\"log_loss: \\n\",log_loss(y_test, train_predictions))\n",
        "        log_entry = pd.DataFrame([[name, acc*100, log_loss(y_test, train_predictions)]], columns=log_cols)\n",
        "        log = log.append(log_entry)\n",
        "    except Exception as e:\n",
        "        print (e)\n",
        "    \n",
        "print(\"=\"*30)"
      ]
    },
    {
      "cell_type": "markdown",
      "id": "0c248c5b",
      "metadata": {
        "id": "0c248c5b"
      },
      "source": [
        "## Hyperparameter Tuning"
      ]
    },
    {
      "cell_type": "markdown",
      "id": "65ebebef",
      "metadata": {
        "id": "65ebebef"
      },
      "source": [
        "### 1. Decision Tree"
      ]
    },
    {
      "cell_type": "code",
      "execution_count": null,
      "id": "c94e2c74",
      "metadata": {
        "id": "c94e2c74"
      },
      "outputs": [],
      "source": [
        "param_dict = {\n",
        "    \"criterion\": ['gini', 'entropy'],\n",
        "    \"max_depth\": range (1,10),\n",
        "    \"min_samples_split\":range (1,10),\n",
        "    \"min_samples_leaf\":range (1,5)\n",
        "}"
      ]
    },
    {
      "cell_type": "code",
      "execution_count": null,
      "id": "aeb4653f",
      "metadata": {
        "id": "aeb4653f",
        "outputId": "86ba809c-7250-4361-c1a7-52ea1d533954"
      },
      "outputs": [
        {
          "name": "stdout",
          "output_type": "stream",
          "text": [
            "Fitting 5 folds for each of 648 candidates, totalling 3240 fits\n"
          ]
        },
        {
          "name": "stderr",
          "output_type": "stream",
          "text": [
            "/opt/anaconda3/lib/python3.8/site-packages/sklearn/model_selection/_search.py:918: UserWarning: One or more of the test scores are non-finite: [       nan 0.71724462 0.71724462 0.71724462 0.71724462 0.71724462\n",
            " 0.71724462 0.71724462 0.71724462        nan 0.71724462 0.71724462\n",
            " 0.71724462 0.71724462 0.71724462 0.71724462 0.71724462 0.71724462\n",
            "        nan 0.71724462 0.71724462 0.71724462 0.71724462 0.71724462\n",
            " 0.71724462 0.71724462 0.71724462        nan 0.71724462 0.71724462\n",
            " 0.71724462 0.71724462 0.71724462 0.71724462 0.71724462 0.71724462\n",
            "        nan 0.73631311 0.73631311 0.73631311 0.73631311 0.73631311\n",
            " 0.73631311 0.73631311 0.73631311        nan 0.73631311 0.73631311\n",
            " 0.73631311 0.73631311 0.73631311 0.73631311 0.73631311 0.73631311\n",
            "        nan 0.73631311 0.73631311 0.73631311 0.73631311 0.73631311\n",
            " 0.73631311 0.73631311 0.73631311        nan 0.73631311 0.73631311\n",
            " 0.73631311 0.73631311 0.73631311 0.73631311 0.73631311 0.73631311\n",
            "        nan 0.78155773 0.78155773 0.78155773 0.78155773 0.78155773\n",
            " 0.78155773 0.78155773 0.78155773        nan 0.78155773 0.78155773\n",
            " 0.78155773 0.78155773 0.78155773 0.78155773 0.78155773 0.78155773\n",
            "        nan 0.78155773 0.78155773 0.78155773 0.78155773 0.78155773\n",
            " 0.78155773 0.78155773 0.78155773        nan 0.78155773 0.78155773\n",
            " 0.78155773 0.78155773 0.78155773 0.78155773 0.78155773 0.78155773\n",
            "        nan 0.79223483 0.79223483 0.79223483 0.79223483 0.79223483\n",
            " 0.79223483 0.79223483 0.79223483        nan 0.79223483 0.79223483\n",
            " 0.79223483 0.79223483 0.79223483 0.79223483 0.79223483 0.79223483\n",
            "        nan 0.79223483 0.79223483 0.79223483 0.79223483 0.79223483\n",
            " 0.79223483 0.79223483 0.79223483        nan 0.79223483 0.79223483\n",
            " 0.79223483 0.79223483 0.79223483 0.79223483 0.79223483 0.79223483\n",
            "        nan 0.80407045 0.80407045 0.80407045 0.80407045 0.80407045\n",
            " 0.80407045 0.80407045 0.80407045        nan 0.80407045 0.80407045\n",
            " 0.80407045 0.80407045 0.80407045 0.80407045 0.80407045 0.80407045\n",
            "        nan 0.80403914 0.80403914 0.80403914 0.80403914 0.80403914\n",
            " 0.80403914 0.80403914 0.80403914        nan 0.80403914 0.80403914\n",
            " 0.80403914 0.80403914 0.80403914 0.80403914 0.80403914 0.80403914\n",
            "        nan 0.81268102 0.81274364 0.81269667 0.81269667 0.81268102\n",
            " 0.81268102 0.81268102 0.81269667        nan 0.8126184  0.8126184\n",
            " 0.81269667 0.81266536 0.8126184  0.8126184  0.8126184  0.81264971\n",
            "        nan 0.81260274 0.8126184  0.81263405 0.81260274 0.8126184\n",
            " 0.8126184  0.81260274 0.81257143        nan 0.81254012 0.81250881\n",
            " 0.8124775  0.8124775  0.81250881 0.81250881 0.81249315 0.81246184\n",
            "        nan 0.81690802 0.81693933 0.8169863  0.81693933 0.81697065\n",
            " 0.81695499 0.81695499 0.81690802        nan 0.81686106 0.8168454\n",
            " 0.8168454  0.8168454  0.81676712 0.81687671 0.81676712 0.81668885\n",
            "        nan 0.81665753 0.81664188 0.81657926 0.81664188 0.81661057\n",
            " 0.81664188 0.81648532 0.8165636         nan 0.81639139 0.81636008\n",
            " 0.81631311 0.81637573 0.81632877 0.81639139 0.81629746 0.81639139\n",
            "        nan 0.82260665 0.82260665 0.82265362 0.82266928 0.82252838\n",
            " 0.82263796 0.82248141 0.8224501         nan 0.82251272 0.8224501\n",
            " 0.8224501  0.82235616 0.82235616 0.82237182 0.82232485 0.82221526\n",
            "        nan 0.82226223 0.82232485 0.82232485 0.82226223 0.82229354\n",
            " 0.8223092  0.82224658 0.82205871        nan 0.82187084 0.82185519\n",
            " 0.82191781 0.82185519 0.82191781 0.82183953 0.82191781 0.82176125\n",
            "        nan 0.82869667 0.82858708 0.82863405 0.82868102 0.82841487\n",
            " 0.82846184 0.82830528 0.82821135        nan 0.82813307 0.82819569\n",
            " 0.82818004 0.82800783 0.82802348 0.82800783 0.82788258 0.82777299\n",
            "        nan 0.82780431 0.82774168 0.82774168 0.82775734 0.82789824\n",
            " 0.82783562 0.82774168 0.82750685        nan 0.82694325 0.82692759\n",
            " 0.82697456 0.82692759 0.8269589  0.82688063 0.82688063 0.826818\n",
            "        nan 0.71724462 0.71724462 0.71724462 0.71724462 0.71724462\n",
            " 0.71724462 0.71724462 0.71724462        nan 0.71724462 0.71724462\n",
            " 0.71724462 0.71724462 0.71724462 0.71724462 0.71724462 0.71724462\n",
            "        nan 0.71724462 0.71724462 0.71724462 0.71724462 0.71724462\n",
            " 0.71724462 0.71724462 0.71724462        nan 0.71724462 0.71724462\n",
            " 0.71724462 0.71724462 0.71724462 0.71724462 0.71724462 0.71724462\n",
            "        nan 0.73631311 0.73631311 0.73631311 0.73631311 0.73631311\n",
            " 0.73631311 0.73631311 0.73631311        nan 0.73631311 0.73631311\n",
            " 0.73631311 0.73631311 0.73631311 0.73631311 0.73631311 0.73631311\n",
            "        nan 0.73631311 0.73631311 0.73631311 0.73631311 0.73631311\n",
            " 0.73631311 0.73631311 0.73631311        nan 0.73631311 0.73631311\n",
            " 0.73631311 0.73631311 0.73631311 0.73631311 0.73631311 0.73631311\n",
            "        nan 0.74088454 0.74088454 0.74088454 0.74088454 0.74088454\n",
            " 0.74088454 0.74088454 0.74088454        nan 0.74088454 0.74088454\n",
            " 0.74088454 0.74088454 0.74088454 0.74088454 0.74088454 0.74088454\n",
            "        nan 0.74088454 0.74088454 0.74088454 0.74088454 0.74088454\n",
            " 0.74088454 0.74088454 0.74088454        nan 0.74088454 0.74088454\n",
            " 0.74088454 0.74088454 0.74088454 0.74088454 0.74088454 0.74088454\n",
            "        nan 0.79015264 0.79015264 0.79015264 0.79015264 0.79015264\n",
            " 0.79015264 0.79015264 0.79015264        nan 0.79015264 0.79015264\n",
            " 0.79015264 0.79015264 0.79015264 0.79015264 0.79015264 0.79015264\n",
            "        nan 0.79015264 0.79015264 0.79015264 0.79015264 0.79015264\n",
            " 0.79015264 0.79015264 0.79015264        nan 0.79015264 0.79015264\n",
            " 0.79015264 0.79015264 0.79015264 0.79015264 0.79015264 0.79015264\n",
            "        nan 0.79614873 0.79614873 0.79614873 0.79614873 0.79614873\n",
            " 0.79614873 0.79614873 0.79614873        nan 0.79614873 0.79614873\n",
            " 0.79614873 0.79614873 0.79614873 0.79614873 0.79614873 0.79614873\n",
            "        nan 0.79614873 0.79614873 0.79614873 0.79614873 0.79614873\n",
            " 0.79614873 0.79614873 0.79614873        nan 0.79614873 0.79614873\n",
            " 0.79614873 0.79614873 0.79614873 0.79614873 0.79614873 0.79614873\n",
            "        nan 0.80386693 0.80385127 0.80386693 0.80386693 0.80385127\n",
            " 0.80383562 0.80383562 0.80381996        nan 0.80386693 0.80386693\n",
            " 0.80386693 0.80386693 0.80386693 0.80385127 0.80383562 0.80383562\n",
            "        nan 0.80385127 0.80385127 0.80385127 0.80385127 0.80385127\n",
            " 0.80383562 0.80381996 0.80381996        nan 0.80374168 0.80374168\n",
            " 0.80372603 0.80374168 0.80372603 0.80372603 0.80372603 0.80374168\n",
            "        nan 0.81236791 0.81235225 0.81235225 0.81236791 0.81236791\n",
            " 0.81235225 0.81230528 0.81228963        nan 0.81233659 0.81235225\n",
            " 0.81235225 0.81235225 0.81233659 0.81232094 0.81232094 0.81232094\n",
            "        nan 0.81228963 0.81230528 0.81232094 0.81228963 0.81232094\n",
            " 0.81228963 0.81228963 0.81228963        nan 0.81211742 0.81210176\n",
            " 0.81210176 0.81208611 0.81210176 0.81211742 0.81210176 0.81210176\n",
            "        nan 0.81925636 0.81916243 0.81917808 0.81917808 0.81911546\n",
            " 0.81908415 0.81911546 0.81905284        nan 0.81906849 0.81911546\n",
            " 0.81917808 0.8190998  0.8190998  0.81905284 0.81897456 0.81903718\n",
            "        nan 0.81888063 0.81886497 0.81886497 0.81886497 0.81889628\n",
            " 0.81880235 0.81873973 0.818818          nan 0.81831703 0.81837965\n",
            " 0.81828571 0.81831703 0.81833268 0.81831703 0.81836399 0.81828571\n",
            "        nan 0.82425049 0.82423483 0.82423483 0.82412524 0.82420352\n",
            " 0.82412524 0.82396869 0.82393738        nan 0.82389041 0.82395303\n",
            " 0.82393738 0.82382779 0.82387476 0.82379648 0.82373386 0.82374951\n",
            "        nan 0.82342074 0.82342074 0.8234364  0.82346771 0.82338943\n",
            " 0.82340509 0.8232955  0.82320157        nan 0.82265362 0.8227319\n",
            " 0.82276321 0.82277886 0.82270059 0.82274755 0.82260665 0.82260665]\n",
            "  warnings.warn(\n"
          ]
        },
        {
          "data": {
            "text/plain": [
              "GridSearchCV(cv=5, estimator=DecisionTreeClassifier(), n_jobs=-1,\n",
              "             param_grid={'criterion': ['gini', 'entropy'],\n",
              "                         'max_depth': range(1, 10),\n",
              "                         'min_samples_leaf': range(1, 5),\n",
              "                         'min_samples_split': range(1, 10)},\n",
              "             verbose=1)"
            ]
          },
          "execution_count": 188,
          "metadata": {},
          "output_type": "execute_result"
        }
      ],
      "source": [
        "grid = GridSearchCV(estimator=DecisionTreeClassifier(),\n",
        "                    param_grid=param_dict,\n",
        "                    cv = 5 ,\n",
        "                    verbose = 1 ,\n",
        "                    scoring = 'f1',\n",
        "                    n_jobs=-1)\n",
        "\n",
        "grid.fit(X_train,y_train)"
      ]
    },
    {
      "cell_type": "code",
      "execution_count": null,
      "id": "912f2544",
      "metadata": {
        "id": "912f2544",
        "outputId": "f0689489-f0db-41b3-c337-8a74b9489fb1"
      },
      "outputs": [
        {
          "data": {
            "text/plain": [
              "{'criterion': 'gini',\n",
              " 'max_depth': 9,\n",
              " 'min_samples_leaf': 1,\n",
              " 'min_samples_split': 2}"
            ]
          },
          "execution_count": 189,
          "metadata": {},
          "output_type": "execute_result"
        }
      ],
      "source": [
        "print('Best Params: ', grid_search.best_params_)"
      ]
    },
    {
      "cell_type": "code",
      "execution_count": null,
      "id": "acb3d3ed",
      "metadata": {
        "id": "acb3d3ed",
        "outputId": "58e2bb5c-733c-4847-d313-3834a9951978"
      },
      "outputs": [
        {
          "data": {
            "text/plain": [
              "0.8286966731898238"
            ]
          },
          "execution_count": 191,
          "metadata": {},
          "output_type": "execute_result"
        }
      ],
      "source": [
        "print('Best Score: ', grid_search.best_score_)"
      ]
    },
    {
      "cell_type": "code",
      "execution_count": null,
      "id": "1b45201d",
      "metadata": {
        "id": "1b45201d"
      },
      "outputs": [],
      "source": [
        "def met(model,X_train1,y_train1,X_test1,y_test1):\n",
        "  model.fit(X_train1,y_train1)\n",
        "\n",
        "  print('................Train .......................')\n",
        "\n",
        "  y_train_pred=model.predict(X_train1)\n",
        "  print(confusion_matrix(y_train1, y_train_pred), \": is the confusion matrix\")\n",
        "  print(accuracy_score(y_train1, y_train_pred), \": is the accuracy score\")\n",
        "  print(precision_score(y_train1, y_train_pred), \": is the precision score\")\n",
        "  print(f1_score(y_train1, y_train_pred), \": is the f1 score\")\n",
        "  print(roc_auc_score(y_train1, y_train_pred), \": is the roc auc score\")\n",
        "  print(log_loss(y_train1, y_train_pred), \": is the logloss\")\n",
        "\n",
        "  print('................Test.......................')\n",
        "\n",
        "  y_pred=model.predict(X_test1)\n",
        "  print(confusion_matrix(y_test1, y_pred), \": is the confusion matrix\")\n",
        "  print(accuracy_score(y_test1, y_pred), \": is the accuracy score\")\n",
        "  print(precision_score(y_test1, y_pred), \": is the precision score\")\n",
        "  print(f1_score(y_test1, y_pred), \": is the f1 score\")\n",
        "  print(roc_auc_score(y_test1, y_pred), \": is the roc auc score\")\n",
        "  print(log_loss(y_test1, y_pred), \": is the logloss\")"
      ]
    },
    {
      "cell_type": "code",
      "execution_count": null,
      "id": "ab62b4cd",
      "metadata": {
        "id": "ab62b4cd"
      },
      "outputs": [],
      "source": [
        "model = DecisionTreeClassifier(criterion = 'gini',\n",
        "                               max_depth = 9,\n",
        "                               min_samples_leaf = 1,\n",
        "                               min_samples_split = 2)"
      ]
    },
    {
      "cell_type": "code",
      "execution_count": null,
      "id": "72270f65",
      "metadata": {
        "id": "72270f65",
        "outputId": "9f8153fa-3fa0-4bb1-8e8f-ff7f0335837f"
      },
      "outputs": [
        {
          "name": "stdout",
          "output_type": "stream",
          "text": [
            "................Train .......................\n",
            "[[25899  6115]\n",
            " [ 4179 27682]] : is the confusion matrix\n",
            "0.8388414872798434 : is the accuracy score\n",
            "0.8190667810752433 : is the precision score\n",
            "0.8432178866246307 : is the f1 score\n",
            "0.8389131627696225 : is the roc auc score\n",
            "5.566294383522447 : is the logloss\n",
            "................Test.......................\n",
            "[[6292 1616]\n",
            " [1074 6987]] : is the confusion matrix\n",
            "0.8315486254618323 : is the accuracy score\n",
            "0.8121585493432524 : is the precision score\n",
            "0.8385741718674988 : is the f1 score\n",
            "0.8312079423229438 : is the roc auc score\n",
            "5.818185274704549 : is the logloss\n"
          ]
        }
      ],
      "source": [
        "met(model,X_train,y_train,X_test,y_test)"
      ]
    },
    {
      "cell_type": "markdown",
      "id": "e9a5c937",
      "metadata": {
        "id": "e9a5c937"
      },
      "source": [
        "### 2. Random Forest"
      ]
    },
    {
      "cell_type": "code",
      "execution_count": null,
      "id": "f738d11f",
      "metadata": {
        "id": "f738d11f"
      },
      "outputs": [],
      "source": [
        "param_grid = {\n",
        "    'bootstrap': [True],\n",
        "    'max_depth': [10,15],\n",
        "    'max_features': [3],\n",
        "    'min_samples_leaf': [3,4,5,6],\n",
        "    'min_samples_split': [3,4,5,6],\n",
        "    'n_estimators': [1150, 1200, 1250, 1300,1350]\n",
        "}\n",
        "# Create a based model\n",
        "rf = RandomForestClassifier()\n",
        "# Instantiate the grid search model\n",
        "grid_search = GridSearchCV(estimator = rf,\n",
        "                           param_grid = param_grid, \n",
        "                           cv = 5,\n",
        "                           scoring = 'f1',\n",
        "                           n_jobs = -1, \n",
        "                           verbose = 1)"
      ]
    },
    {
      "cell_type": "code",
      "execution_count": null,
      "id": "ddeb3be9",
      "metadata": {
        "id": "ddeb3be9",
        "outputId": "d260193b-9ac5-4ee8-bc0a-b3fd8313a7ad"
      },
      "outputs": [
        {
          "name": "stdout",
          "output_type": "stream",
          "text": [
            "Fitting 5 folds for each of 160 candidates, totalling 800 fits\n"
          ]
        },
        {
          "data": {
            "text/plain": [
              "GridSearchCV(cv=5, estimator=RandomForestClassifier(), n_jobs=-1,\n",
              "             param_grid={'bootstrap': [True], 'max_depth': [10, 15],\n",
              "                         'max_features': [3], 'min_samples_leaf': [3, 4, 5, 6],\n",
              "                         'min_samples_split': [3, 4, 5, 6],\n",
              "                         'n_estimators': [1150, 1200, 1250, 1300, 1350]},\n",
              "             verbose=1)"
            ]
          },
          "execution_count": 193,
          "metadata": {},
          "output_type": "execute_result"
        }
      ],
      "source": [
        "grid_search.fit(X_train,y_train)"
      ]
    },
    {
      "cell_type": "code",
      "execution_count": null,
      "id": "861e7654",
      "metadata": {
        "id": "861e7654",
        "outputId": "53bb113d-e9fe-4a36-c6d9-cd3840561544"
      },
      "outputs": [
        {
          "name": "stdout",
          "output_type": "stream",
          "text": [
            "Best Score:  0.8943091976516634\n"
          ]
        }
      ],
      "source": [
        "print('Best Score: ', grid_search.best_score_)"
      ]
    },
    {
      "cell_type": "code",
      "execution_count": null,
      "id": "f2e23ce7",
      "metadata": {
        "id": "f2e23ce7",
        "outputId": "60eacdfe-1df6-4844-c096-e0ec6021d884"
      },
      "outputs": [
        {
          "name": "stdout",
          "output_type": "stream",
          "text": [
            "Best Params:  {'bootstrap': True, 'max_depth': 15, 'max_features': 3, 'min_samples_leaf': 3, 'min_samples_split': 3, 'n_estimators': 1150}\n"
          ]
        }
      ],
      "source": [
        "print('Best Params: ', grid_search.best_params_)"
      ]
    },
    {
      "cell_type": "code",
      "execution_count": null,
      "id": "ef208870",
      "metadata": {
        "id": "ef208870"
      },
      "outputs": [],
      "source": [
        "rfc = RandomForestClassifier(bootstrap = True,\n",
        "                               max_depth = 15,\n",
        "                               max_features = 4, \n",
        "                               min_samples_leaf = 4, \n",
        "                               min_samples_split = 4, \n",
        "                               n_estimators = 1300)"
      ]
    },
    {
      "cell_type": "code",
      "execution_count": null,
      "id": "13bcc03a",
      "metadata": {
        "id": "13bcc03a"
      },
      "outputs": [],
      "source": [
        "rfc.fit(X_train,y_train)\n",
        "y_pred=rfc.predict(X_test)"
      ]
    },
    {
      "cell_type": "code",
      "execution_count": null,
      "id": "775e9c83",
      "metadata": {
        "id": "775e9c83",
        "outputId": "0a28a132-3985-4608-d08f-dcf8d682f76b"
      },
      "outputs": [
        {
          "name": "stdout",
          "output_type": "stream",
          "text": [
            "................Train .......................\n",
            "[[28735  3279]\n",
            " [ 2640 29221]] : is the confusion matrix\n",
            "0.907334637964775 : is the accuracy score\n",
            "0.8991076923076923 : is the precision score\n",
            "0.9080343686393934 : is the f1 score\n",
            "0.9073580688419627 : is the roc auc score\n",
            "3.2005892659326807 : is the logloss\n",
            "................Test.......................\n",
            "[[6750 1158]\n",
            " [ 813 7248]] : is the confusion matrix\n",
            "0.876573360886718 : is the accuracy score\n",
            "0.8622412562455389 : is the precision score\n",
            "0.8803060666788123 : is the f1 score\n",
            "0.8763550179501935 : is the roc auc score\n",
            "4.2630630727154575 : is the logloss\n"
          ]
        }
      ],
      "source": [
        "met(rfc,X_train,y_train,X_test,y_test)"
      ]
    },
    {
      "cell_type": "markdown",
      "id": "60c03b6b",
      "metadata": {
        "id": "60c03b6b"
      },
      "source": [
        "### 3. Logistic Regression"
      ]
    },
    {
      "cell_type": "code",
      "execution_count": null,
      "id": "pHzFTQK6tdlm",
      "metadata": {
        "id": "pHzFTQK6tdlm"
      },
      "outputs": [],
      "source": [
        "penalty = ['l1', 'l2']\n",
        "C = [0.0001, 0.001, 0.01, 0.1, 1, 10, 100, 1000]\n",
        "class_weight = [{1:0.5, 0:0.5}, {1:0.4, 0:0.6}, {1:0.6, 0:0.4}, {1:0.7, 0:0.3}]\n",
        "solver = ['liblinear', 'saga']\n",
        "param_grid = dict(penalty=penalty,\n",
        "                  C=C,\n",
        "                  class_weight=class_weight,\n",
        "                  solver=solver)\n",
        "grid = GridSearchCV(estimator=LogisticRegression(),\n",
        "                    param_grid=param_grid,\n",
        "                    scoring='f1',\n",
        "                    verbose=1,\n",
        "                    n_jobs=-1)"
      ]
    },
    {
      "cell_type": "code",
      "execution_count": null,
      "id": "vjGnFHYztdjW",
      "metadata": {
        "colab": {
          "base_uri": "https://localhost:8080/"
        },
        "id": "vjGnFHYztdjW",
        "outputId": "aec05232-f534-49da-915b-e299595694da"
      },
      "outputs": [
        {
          "name": "stdout",
          "output_type": "stream",
          "text": [
            "Fitting 5 folds for each of 128 candidates, totalling 640 fits\n"
          ]
        }
      ],
      "source": [
        "grid_result = grid.fit(X_train, y_train)"
      ]
    },
    {
      "cell_type": "code",
      "execution_count": null,
      "id": "T3G8xdk9y8kv",
      "metadata": {
        "id": "T3G8xdk9y8kv",
        "outputId": "b99bbefe-6102-4829-a5f5-64de6a5f9973"
      },
      "outputs": [
        {
          "name": "stdout",
          "output_type": "stream",
          "text": [
            "Best Score:  0.8090444190553614\n"
          ]
        }
      ],
      "source": [
        "print('Best Score: ', grid_result.best_score_)"
      ]
    },
    {
      "cell_type": "code",
      "execution_count": null,
      "id": "Mc1Kle8MtdbJ",
      "metadata": {
        "id": "Mc1Kle8MtdbJ",
        "outputId": "e15dc071-dab9-4e76-94a3-469f02ddfce1"
      },
      "outputs": [
        {
          "name": "stdout",
          "output_type": "stream",
          "text": [
            "Best Params:  {'C': 0.01, 'class_weight': {1: 0.6, 0: 0.4}, 'penalty': 'l1', 'solver': 'liblinear'}\n"
          ]
        }
      ],
      "source": [
        "print('Best Params: ', grid_result.best_params_)"
      ]
    },
    {
      "cell_type": "code",
      "execution_count": null,
      "id": "Er9a4nQdtdYq",
      "metadata": {
        "id": "Er9a4nQdtdYq"
      },
      "outputs": [],
      "source": [
        "model = LogisticRegression(C=10,class_weight={1: 0.7, 0: 0.3},penalty='l1',solver='liblinear')"
      ]
    },
    {
      "cell_type": "code",
      "execution_count": null,
      "id": "3jYLq8I8pPL-",
      "metadata": {
        "id": "3jYLq8I8pPL-"
      },
      "outputs": [],
      "source": [
        "model.fit(X_train,y_train)\n",
        "y_pred=model.predict(X_test)"
      ]
    },
    {
      "cell_type": "code",
      "execution_count": null,
      "id": "98d6a7d7",
      "metadata": {
        "id": "98d6a7d7",
        "outputId": "c5b4a9b7-b858-4821-bbcf-702426c16522"
      },
      "outputs": [
        {
          "name": "stdout",
          "output_type": "stream",
          "text": [
            "................Train .......................\n",
            "[[20373 11641]\n",
            " [ 2678 29183]] : is the confusion matrix\n",
            "0.7758277886497065 : is the accuracy score\n",
            "0.7148491083676269 : is the precision score\n",
            "0.802999243310174 : is the f1 score\n",
            "0.7761626156004412 : is the roc auc score\n",
            "7.7427796056737535 : is the logloss\n",
            "................Test.......................\n",
            "[[4946 2962]\n",
            " [ 670 7391]] : is the confusion matrix\n",
            "0.7725593337090613 : is the accuracy score\n",
            "0.713899352844586 : is the precision score\n",
            "0.8027587705007061 : is the f1 score\n",
            "0.771163175551217 : is the roc auc score\n",
            "7.8556706289626055 : is the logloss\n"
          ]
        }
      ],
      "source": [
        "met(model,X_train,y_train,X_test,y_test)"
      ]
    },
    {
      "cell_type": "markdown",
      "id": "a22d29ce",
      "metadata": {
        "id": "a22d29ce"
      },
      "source": [
        "### 4. XGboost"
      ]
    },
    {
      "cell_type": "code",
      "execution_count": null,
      "id": "1d325075",
      "metadata": {
        "id": "1d325075"
      },
      "outputs": [],
      "source": [
        "from xgboost import XGBClassifier\n",
        "estimator = XGBClassifier(\n",
        "    objective= 'binary:logistic',\n",
        "    njob = -1,\n",
        "    cv = 5,\n",
        "    scoring = 'f1',\n",
        "    seed=42\n",
        ")"
      ]
    },
    {
      "cell_type": "code",
      "execution_count": null,
      "id": "62442191",
      "metadata": {
        "id": "62442191"
      },
      "outputs": [],
      "source": [
        "parameters = {\n",
        "    'max_depth': range (2, 10, 1),\n",
        "    'n_estimators': range(60, 220, 40),\n",
        "    'learning_rate': [0.1, 0.01, 0.05]\n",
        "}"
      ]
    },
    {
      "cell_type": "code",
      "execution_count": null,
      "id": "9fe35d0b",
      "metadata": {
        "id": "9fe35d0b"
      },
      "outputs": [],
      "source": [
        "grid_search = GridSearchCV(\n",
        "    estimator=estimator,\n",
        "    param_grid=parameters,\n",
        "    verbose=True\n",
        ")"
      ]
    },
    {
      "cell_type": "code",
      "execution_count": null,
      "id": "2476021e",
      "metadata": {
        "id": "2476021e"
      },
      "outputs": [],
      "source": [
        "grid_search.fit(X_train, y_train)"
      ]
    },
    {
      "cell_type": "code",
      "execution_count": null,
      "id": "97eaaf75",
      "metadata": {
        "id": "97eaaf75"
      },
      "outputs": [],
      "source": [
        "print('Best Score: ', grid_result.best_score_)"
      ]
    },
    {
      "cell_type": "code",
      "execution_count": null,
      "id": "f7e0d368",
      "metadata": {
        "id": "f7e0d368"
      },
      "outputs": [],
      "source": [
        "print('Best Params: ', grid_result.best_params_)"
      ]
    },
    {
      "cell_type": "code",
      "execution_count": null,
      "id": "6d0a2b37",
      "metadata": {
        "id": "6d0a2b37"
      },
      "outputs": [],
      "source": [
        "grid_search.best_estimator_"
      ]
    },
    {
      "cell_type": "code",
      "execution_count": null,
      "id": "be49999b",
      "metadata": {
        "id": "be49999b"
      },
      "outputs": [],
      "source": [
        "model = XGBClassifier(cv=5, max_depth=4, n_estimators=180, njob=-1, scoring='roc_auc',\n",
        "              seed=42)\n",
        "model.fit(X_train, y_train)"
      ]
    },
    {
      "cell_type": "code",
      "execution_count": null,
      "id": "a845c544",
      "metadata": {
        "id": "a845c544"
      },
      "outputs": [],
      "source": [
        "met(model,X_train1,y_train1,X_test1,y_test1)"
      ]
    },
    {
      "cell_type": "markdown",
      "id": "d521c25a",
      "metadata": {
        "id": "d521c25a"
      },
      "source": [
        "### 5. Naive Bayes"
      ]
    },
    {
      "cell_type": "code",
      "execution_count": null,
      "id": "f91c7298",
      "metadata": {
        "id": "f91c7298"
      },
      "outputs": [],
      "source": [
        "param_grid_nb = {\n",
        "    'var_smoothing': np.logspace(0,-9, num=100)\n",
        "}"
      ]
    },
    {
      "cell_type": "code",
      "execution_count": null,
      "id": "686e6c4c",
      "metadata": {
        "id": "686e6c4c"
      },
      "outputs": [],
      "source": [
        "from sklearn.naive_bayes import GaussianNB\n",
        "from sklearn.model_selection import GridSearchCV\n",
        "nbModel_grid = GridSearchCV(estimator=GaussianNB(),\n",
        "                            param_grid=param_grid_nb, \n",
        "                            scoring = 'f1',\n",
        "                            verbose=1, \n",
        "                            cv=5, \n",
        "                            n_jobs=-1)"
      ]
    },
    {
      "cell_type": "code",
      "execution_count": null,
      "id": "86e9f11b",
      "metadata": {
        "id": "86e9f11b"
      },
      "outputs": [],
      "source": [
        "nbModel_grid.fit(X_train, y_train)"
      ]
    },
    {
      "cell_type": "code",
      "execution_count": null,
      "id": "6046099b",
      "metadata": {
        "id": "6046099b"
      },
      "outputs": [],
      "source": [
        "print(nbModel_grid.best_estimator_)"
      ]
    },
    {
      "cell_type": "code",
      "execution_count": null,
      "id": "2383869a",
      "metadata": {
        "id": "2383869a"
      },
      "outputs": [],
      "source": [
        "print('Best Score: ', nbModel_grid.best_score_)"
      ]
    },
    {
      "cell_type": "code",
      "execution_count": null,
      "id": "9f71560a",
      "metadata": {
        "id": "9f71560a"
      },
      "outputs": [],
      "source": [
        "print('Best Params: ', nbModel_grid.best_params_)"
      ]
    },
    {
      "cell_type": "code",
      "execution_count": null,
      "id": "204a9721",
      "metadata": {
        "id": "204a9721"
      },
      "outputs": [],
      "source": [
        "model = GaussianNB(var_smoothing=0.002848035868435802)"
      ]
    },
    {
      "cell_type": "code",
      "execution_count": null,
      "id": "7bb1d2f5",
      "metadata": {
        "id": "7bb1d2f5"
      },
      "outputs": [],
      "source": [
        "model.fit(X_train,y_train)\n",
        "y_pred=model.predict(X_test)"
      ]
    },
    {
      "cell_type": "code",
      "execution_count": null,
      "id": "e8894513",
      "metadata": {
        "id": "e8894513"
      },
      "outputs": [],
      "source": [
        "met(model,X_train,y_train,X_test,y_test)"
      ]
    },
    {
      "cell_type": "markdown",
      "id": "lw4F0pYoRMwz",
      "metadata": {
        "id": "lw4F0pYoRMwz"
      },
      "source": [
        "## Hyperparameter Metrics :\n"
      ]
    },
    {
      "cell_type": "code",
      "execution_count": 26,
      "id": "1407f0e7",
      "metadata": {
        "colab": {
          "base_uri": "https://localhost:8080/"
        },
        "id": "1407f0e7",
        "outputId": "e7d86e69-66e8-4ec5-c474-49cc27e913a5"
      },
      "outputs": [
        {
          "output_type": "stream",
          "name": "stdout",
          "text": [
            "(8396,)\n",
            "(9043,)\n",
            "==============================\n",
            "DecisionTreeClassifier\n",
            "------------------------------\n",
            "ROC AUC:\t 0.9318723201524536\n",
            "==============================\n",
            "RandomForestClassifier\n",
            "------------------------------\n",
            "ROC AUC:\t 0.9549785612196283\n",
            "==============================\n",
            "XGBClassifier\n",
            "------------------------------\n",
            "ROC AUC:\t 0.9465221534063841\n",
            "==============================\n",
            "LogisticRegression\n",
            "------------------------------\n",
            "ROC AUC:\t 0.8841114816579324\n",
            "==============================\n",
            "GaussianNB\n",
            "------------------------------\n",
            "ROC AUC:\t 0.7984754645069081\n",
            "==============================\n"
          ]
        }
      ],
      "source": [
        "print(y_train.shape)\n",
        "print(y_test.shape)\n",
        "\n",
        "# Implimenting different models\n",
        "from xgboost import XGBClassifier\n",
        "from sklearn.tree import DecisionTreeClassifier\n",
        "from sklearn.ensemble import RandomForestClassifier\n",
        "from sklearn.linear_model import LogisticRegression\n",
        "from sklearn.naive_bayes import GaussianNB\n",
        "\n",
        "classifiers = [\n",
        "    DecisionTreeClassifier(criterion = 'gini',\n",
        "                               max_depth = 9,\n",
        "                               min_samples_leaf = 1,class_weight={1: 0.7, 0: 0.3},\n",
        "                               min_samples_split = 2),\n",
        "    RandomForestClassifier(bootstrap = True,\n",
        "                               max_depth = 15,\n",
        "                               max_features = 4,class_weight={1: 0.7, 0: 0.3}, \n",
        "                               min_samples_leaf = 4, \n",
        "                               min_samples_split = 4, \n",
        "                               n_estimators = 1300),\n",
        "    XGBClassifier(cv=5, max_depth=4, n_estimators=180, njob=-1, scoring='roc_auc',\n",
        "              seed=42),\n",
        "    LogisticRegression(C=10,class_weight={1: 0.7, 0: 0.3},penalty='l1',solver='liblinear'),\n",
        "    GaussianNB(var_smoothing=0.002848035868435802)]\n",
        "\n",
        "\n",
        "# Logging for Visual Comparison\n",
        "log_cols=[\"Classifier\", \"ROC\"]\n",
        "log = pd.DataFrame(columns=log_cols)\n",
        "\n",
        "for clf in classifiers:\n",
        "    clf.fit(X_train, y_train)\n",
        "    name = clf.__class__.__name__\n",
        "    \n",
        "    print(\"=\"*30)\n",
        "    print(name)\n",
        "    try:\n",
        "        print(\"-\"*30)\n",
        "        train_predictions = clf.predict(X_train)\n",
        "        print(\"ROC AUC:\\t\",roc_auc_score(y_train, train_predictions))\n",
        "        log_entry = pd.DataFrame([[name, roc_auc_score(y_train, train_predictions)]], columns=log_cols)\n",
        "        log = log.append(log_entry)\n",
        "    except Exception as e:\n",
        "        print (e)\n",
        "    \n",
        "print(\"=\"*30)"
      ]
    },
    {
      "cell_type": "code",
      "execution_count": 27,
      "id": "U8EnP9QiRwcB",
      "metadata": {
        "colab": {
          "base_uri": "https://localhost:8080/",
          "height": 295
        },
        "id": "U8EnP9QiRwcB",
        "outputId": "03c4e7f3-3c8c-4f16-ea91-8e9b5bb372d4"
      },
      "outputs": [
        {
          "output_type": "display_data",
          "data": {
            "image/png": "[encoded data removed]",
            "text/plain": [
              "<Figure size 432x288 with 1 Axes>"
            ]
          },
          "metadata": {
            "needs_background": "light"
          }
        }
      ],
      "source": [
        "# Ploting ROC AUC on train data\n",
        "sns.set_color_codes(\"muted\")\n",
        "sns.barplot(x='ROC', y='Classifier', data=log, color=\"r\")\n",
        "\n",
        "plt.xlabel('ROC AUC Score')\n",
        "plt.title('Classifier ROC AUC score on Train data')\n",
        "plt.show()\n"
      ]
    },
    {
      "cell_type": "code",
      "execution_count": 28,
      "id": "3J3KLiY7RwfW",
      "metadata": {
        "colab": {
          "base_uri": "https://localhost:8080/"
        },
        "id": "3J3KLiY7RwfW",
        "outputId": "59c26a2a-030f-4d82-dfbd-abed21da4283"
      },
      "outputs": [
        {
          "output_type": "stream",
          "name": "stdout",
          "text": [
            "==============================\n",
            "DecisionTreeClassifier\n",
            "------------------------------\n",
            "ROC AUC:\t 0.6663475928900626\n",
            "==============================\n",
            "RandomForestClassifier\n",
            "------------------------------\n",
            "ROC AUC:\t 0.7044117938612426\n",
            "==============================\n",
            "XGBClassifier\n",
            "------------------------------\n",
            "ROC AUC:\t 0.6895674574486332\n",
            "==============================\n",
            "LogisticRegression\n",
            "------------------------------\n",
            "ROC AUC:\t 0.7026472538254274\n",
            "==============================\n",
            "GaussianNB\n",
            "------------------------------\n",
            "ROC AUC:\t 0.6341992721682985\n",
            "==============================\n"
          ]
        }
      ],
      "source": [
        "# Implimenting different models\n",
        "classifiers = [\n",
        "    DecisionTreeClassifier(criterion = 'gini',\n",
        "                               max_depth = 9,\n",
        "                               min_samples_leaf = 1,class_weight={1: 0.7, 0: 0.3},\n",
        "                               min_samples_split = 2),\n",
        "    RandomForestClassifier(bootstrap = True,\n",
        "                               max_depth = 15,\n",
        "                               max_features = 4, \n",
        "                               min_samples_leaf = 4, \n",
        "                               min_samples_split = 4,class_weight={1: 0.7, 0: 0.3}, \n",
        "                               n_estimators = 1300),\n",
        "    XGBClassifier(cv=5, max_depth=4, n_estimators=180, njob=-1, scoring='roc_auc',\n",
        "              seed=42),\n",
        "    LogisticRegression(C=10,class_weight={1: 0.7, 0: 0.3},penalty='l1',solver='liblinear'),\n",
        "    GaussianNB(var_smoothing=0.002848035868435802)]\n",
        "\n",
        "# Logging for Visual Comparison\n",
        "log_cols=[\"Classifier\", \"ROC\"]\n",
        "log = pd.DataFrame(columns=log_cols)\n",
        "\n",
        "for clf in classifiers:\n",
        "    clf.fit(X_train, y_train)\n",
        "    name = clf.__class__.__name__\n",
        "    \n",
        "    print(\"=\"*30)\n",
        "    print(name)\n",
        "    try:\n",
        "        print(\"-\"*30)\n",
        "        train_predictions = clf.predict(X_test)\n",
        "        print(\"ROC AUC:\\t\",roc_auc_score(y_test, train_predictions))\n",
        "        log_entry = pd.DataFrame([[name, roc_auc_score(y_test, train_predictions)]], columns=log_cols)\n",
        "        log = log.append(log_entry)\n",
        "    except Exception as e:\n",
        "        print (e)\n",
        "    \n",
        "print(\"=\"*30)"
      ]
    },
    {
      "cell_type": "code",
      "execution_count": 29,
      "id": "-7y8ealSRwi5",
      "metadata": {
        "colab": {
          "base_uri": "https://localhost:8080/",
          "height": 295
        },
        "id": "-7y8ealSRwi5",
        "outputId": "304c7a9c-5faa-4768-b62c-1172eb83b858"
      },
      "outputs": [
        {
          "output_type": "display_data",
          "data": {
            "image/png": "[encoded data removed]",
            "text/plain": [
              "<Figure size 432x288 with 1 Axes>"
            ]
          },
          "metadata": {
            "needs_background": "light"
          }
        }
      ],
      "source": [
        "# Ploting ROC AUC on test data\n",
        "sns.set_color_codes(\"muted\")\n",
        "sns.barplot(x='ROC', y='Classifier', data=log, color=\"r\")\n",
        "\n",
        "plt.xlabel('ROC AUC Score')\n",
        "plt.title('Classifier ROC AUC score on Test data')\n",
        "plt.show()"
      ]
    }
  ],
  "metadata": {
    "colab": {
      "collapsed_sections": [
        "0450d4bf",
        "788073d0",
        "0651c0a8",
        "0f7049a1",
        "LgRM58UvUbQt",
        "65ebebef",
        "e9a5c937",
        "60c03b6b",
        "a22d29ce",
        "d521c25a"
      ],
      "name": "Under_Sampling_Code.ipynb",
      "provenance": []
    },
    "kernelspec": {
      "display_name": "Python 3",
      "language": "python",
      "name": "python3"
    },
    "language_info": {
      "codemirror_mode": {
        "name": "ipython",
        "version": 3
      },
      "file_extension": ".py",
      "mimetype": "text/x-python",
      "name": "python",
      "nbconvert_exporter": "python",
      "pygments_lexer": "ipython3",
      "version": "3.8.8"
    }
  },
  "nbformat": 4,
  "nbformat_minor": 5
}