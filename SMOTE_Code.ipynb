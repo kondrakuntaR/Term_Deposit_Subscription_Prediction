{
  "cells": [
    {
      "cell_type": "markdown",
      "id": "0450d4bf",
      "metadata": {
        "id": "0450d4bf"
      },
      "source": [
        "## 1. Data Pre-processing"
      ]
    },
    {
      "cell_type": "code",
      "execution_count": null,
      "id": "3BZ_0n4LqR8H",
      "metadata": {
        "id": "3BZ_0n4LqR8H"
      },
      "outputs": [],
      "source": [
        "!pip install category_encoders"
      ]
    },
    {
      "cell_type": "code",
      "execution_count": null,
      "id": "35b1b7e5",
      "metadata": {
        "id": "35b1b7e5"
      },
      "outputs": [],
      "source": [
        "!pip install imbalanced-learn"
      ]
    },
    {
      "cell_type": "code",
      "execution_count": null,
      "id": "fa580d85",
      "metadata": {
        "id": "fa580d85"
      },
      "outputs": [],
      "source": [
        "# Importing the required libraries\n",
        "import pandas as pd\n",
        "import numpy as np\n",
        "import seaborn as sns\n",
        "import category_encoders as ce\n",
        "from sklearn.model_selection import train_test_split, GridSearchCV\n",
        "from sklearn.metrics import roc_curve, roc_auc_score, auc, confusion_matrix, classification_report,accuracy_score, log_loss,precision_score, f1_score\n",
        "from sklearn.tree import DecisionTreeClassifier\n",
        "from sklearn.ensemble import RandomForestClassifier, GradientBoostingClassifier\n",
        "from sklearn.naive_bayes import GaussianNB\n",
        "from sklearn.linear_model import LogisticRegression\n",
        "from imblearn.over_sampling import SMOTE\n",
        "from sklearn.preprocessing import StandardScaler\n",
        "from sklearn.utils.class_weight import compute_class_weight\n",
        "import matplotlib.pyplot as plt\n",
        "%matplotlib inline"
      ]
    },
    {
      "cell_type": "code",
      "execution_count": null,
      "id": "e1017cc2",
      "metadata": {
        "id": "e1017cc2"
      },
      "outputs": [],
      "source": [
        "# Reading the csv file\n",
        "df = pd.read_csv(\"./bank/bank-full.csv\",sep=';')"
      ]
    },
    {
      "cell_type": "code",
      "execution_count": null,
      "id": "f5b1be9d",
      "metadata": {
        "colab": {
          "base_uri": "https://localhost:8080/",
          "height": 423
        },
        "id": "f5b1be9d",
        "outputId": "ee06a424-79bc-416b-e18f-bbf09fb652e1"
      },
      "outputs": [
        {
          "data": {
            "text/html": [
              "<div>\n",
              "<style scoped>\n",
              "    .dataframe tbody tr th:only-of-type {\n",
              "        vertical-align: middle;\n",
              "    }\n",
              "\n",
              "    .dataframe tbody tr th {\n",
              "        vertical-align: top;\n",
              "    }\n",
              "\n",
              "    .dataframe thead th {\n",
              "        text-align: right;\n",
              "    }\n",
              "</style>\n",
              "<table border=\"1\" class=\"dataframe\">\n",
              "  <thead>\n",
              "    <tr style=\"text-align: right;\">\n",
              "      <th></th>\n",
              "      <th>age</th>\n",
              "      <th>job</th>\n",
              "      <th>marital</th>\n",
              "      <th>education</th>\n",
              "      <th>default</th>\n",
              "      <th>balance</th>\n",
              "      <th>housing</th>\n",
              "      <th>loan</th>\n",
              "      <th>contact</th>\n",
              "      <th>day</th>\n",
              "      <th>month</th>\n",
              "      <th>duration</th>\n",
              "      <th>campaign</th>\n",
              "      <th>pdays</th>\n",
              "      <th>previous</th>\n",
              "      <th>poutcome</th>\n",
              "      <th>y</th>\n",
              "    </tr>\n",
              "  </thead>\n",
              "  <tbody>\n",
              "    <tr>\n",
              "      <th>0</th>\n",
              "      <td>58</td>\n",
              "      <td>management</td>\n",
              "      <td>married</td>\n",
              "      <td>tertiary</td>\n",
              "      <td>no</td>\n",
              "      <td>2143</td>\n",
              "      <td>yes</td>\n",
              "      <td>no</td>\n",
              "      <td>unknown</td>\n",
              "      <td>5</td>\n",
              "      <td>may</td>\n",
              "      <td>261</td>\n",
              "      <td>1</td>\n",
              "      <td>-1</td>\n",
              "      <td>0</td>\n",
              "      <td>unknown</td>\n",
              "      <td>no</td>\n",
              "    </tr>\n",
              "    <tr>\n",
              "      <th>1</th>\n",
              "      <td>44</td>\n",
              "      <td>technician</td>\n",
              "      <td>single</td>\n",
              "      <td>secondary</td>\n",
              "      <td>no</td>\n",
              "      <td>29</td>\n",
              "      <td>yes</td>\n",
              "      <td>no</td>\n",
              "      <td>unknown</td>\n",
              "      <td>5</td>\n",
              "      <td>may</td>\n",
              "      <td>151</td>\n",
              "      <td>1</td>\n",
              "      <td>-1</td>\n",
              "      <td>0</td>\n",
              "      <td>unknown</td>\n",
              "      <td>no</td>\n",
              "    </tr>\n",
              "    <tr>\n",
              "      <th>2</th>\n",
              "      <td>33</td>\n",
              "      <td>entrepreneur</td>\n",
              "      <td>married</td>\n",
              "      <td>secondary</td>\n",
              "      <td>no</td>\n",
              "      <td>2</td>\n",
              "      <td>yes</td>\n",
              "      <td>yes</td>\n",
              "      <td>unknown</td>\n",
              "      <td>5</td>\n",
              "      <td>may</td>\n",
              "      <td>76</td>\n",
              "      <td>1</td>\n",
              "      <td>-1</td>\n",
              "      <td>0</td>\n",
              "      <td>unknown</td>\n",
              "      <td>no</td>\n",
              "    </tr>\n",
              "    <tr>\n",
              "      <th>3</th>\n",
              "      <td>47</td>\n",
              "      <td>blue-collar</td>\n",
              "      <td>married</td>\n",
              "      <td>unknown</td>\n",
              "      <td>no</td>\n",
              "      <td>1506</td>\n",
              "      <td>yes</td>\n",
              "      <td>no</td>\n",
              "      <td>unknown</td>\n",
              "      <td>5</td>\n",
              "      <td>may</td>\n",
              "      <td>92</td>\n",
              "      <td>1</td>\n",
              "      <td>-1</td>\n",
              "      <td>0</td>\n",
              "      <td>unknown</td>\n",
              "      <td>no</td>\n",
              "    </tr>\n",
              "    <tr>\n",
              "      <th>4</th>\n",
              "      <td>33</td>\n",
              "      <td>unknown</td>\n",
              "      <td>single</td>\n",
              "      <td>unknown</td>\n",
              "      <td>no</td>\n",
              "      <td>1</td>\n",
              "      <td>no</td>\n",
              "      <td>no</td>\n",
              "      <td>unknown</td>\n",
              "      <td>5</td>\n",
              "      <td>may</td>\n",
              "      <td>198</td>\n",
              "      <td>1</td>\n",
              "      <td>-1</td>\n",
              "      <td>0</td>\n",
              "      <td>unknown</td>\n",
              "      <td>no</td>\n",
              "    </tr>\n",
              "    <tr>\n",
              "      <th>...</th>\n",
              "      <td>...</td>\n",
              "      <td>...</td>\n",
              "      <td>...</td>\n",
              "      <td>...</td>\n",
              "      <td>...</td>\n",
              "      <td>...</td>\n",
              "      <td>...</td>\n",
              "      <td>...</td>\n",
              "      <td>...</td>\n",
              "      <td>...</td>\n",
              "      <td>...</td>\n",
              "      <td>...</td>\n",
              "      <td>...</td>\n",
              "      <td>...</td>\n",
              "      <td>...</td>\n",
              "      <td>...</td>\n",
              "      <td>...</td>\n",
              "    </tr>\n",
              "    <tr>\n",
              "      <th>45206</th>\n",
              "      <td>51</td>\n",
              "      <td>technician</td>\n",
              "      <td>married</td>\n",
              "      <td>tertiary</td>\n",
              "      <td>no</td>\n",
              "      <td>825</td>\n",
              "      <td>no</td>\n",
              "      <td>no</td>\n",
              "      <td>cellular</td>\n",
              "      <td>17</td>\n",
              "      <td>nov</td>\n",
              "      <td>977</td>\n",
              "      <td>3</td>\n",
              "      <td>-1</td>\n",
              "      <td>0</td>\n",
              "      <td>unknown</td>\n",
              "      <td>yes</td>\n",
              "    </tr>\n",
              "    <tr>\n",
              "      <th>45207</th>\n",
              "      <td>71</td>\n",
              "      <td>retired</td>\n",
              "      <td>divorced</td>\n",
              "      <td>primary</td>\n",
              "      <td>no</td>\n",
              "      <td>1729</td>\n",
              "      <td>no</td>\n",
              "      <td>no</td>\n",
              "      <td>cellular</td>\n",
              "      <td>17</td>\n",
              "      <td>nov</td>\n",
              "      <td>456</td>\n",
              "      <td>2</td>\n",
              "      <td>-1</td>\n",
              "      <td>0</td>\n",
              "      <td>unknown</td>\n",
              "      <td>yes</td>\n",
              "    </tr>\n",
              "    <tr>\n",
              "      <th>45208</th>\n",
              "      <td>72</td>\n",
              "      <td>retired</td>\n",
              "      <td>married</td>\n",
              "      <td>secondary</td>\n",
              "      <td>no</td>\n",
              "      <td>5715</td>\n",
              "      <td>no</td>\n",
              "      <td>no</td>\n",
              "      <td>cellular</td>\n",
              "      <td>17</td>\n",
              "      <td>nov</td>\n",
              "      <td>1127</td>\n",
              "      <td>5</td>\n",
              "      <td>184</td>\n",
              "      <td>3</td>\n",
              "      <td>success</td>\n",
              "      <td>yes</td>\n",
              "    </tr>\n",
              "    <tr>\n",
              "      <th>45209</th>\n",
              "      <td>57</td>\n",
              "      <td>blue-collar</td>\n",
              "      <td>married</td>\n",
              "      <td>secondary</td>\n",
              "      <td>no</td>\n",
              "      <td>668</td>\n",
              "      <td>no</td>\n",
              "      <td>no</td>\n",
              "      <td>telephone</td>\n",
              "      <td>17</td>\n",
              "      <td>nov</td>\n",
              "      <td>508</td>\n",
              "      <td>4</td>\n",
              "      <td>-1</td>\n",
              "      <td>0</td>\n",
              "      <td>unknown</td>\n",
              "      <td>no</td>\n",
              "    </tr>\n",
              "    <tr>\n",
              "      <th>45210</th>\n",
              "      <td>37</td>\n",
              "      <td>entrepreneur</td>\n",
              "      <td>married</td>\n",
              "      <td>secondary</td>\n",
              "      <td>no</td>\n",
              "      <td>2971</td>\n",
              "      <td>no</td>\n",
              "      <td>no</td>\n",
              "      <td>cellular</td>\n",
              "      <td>17</td>\n",
              "      <td>nov</td>\n",
              "      <td>361</td>\n",
              "      <td>2</td>\n",
              "      <td>188</td>\n",
              "      <td>11</td>\n",
              "      <td>other</td>\n",
              "      <td>no</td>\n",
              "    </tr>\n",
              "  </tbody>\n",
              "</table>\n",
              "<p>45211 rows × 17 columns</p>\n",
              "</div>"
            ],
            "text/plain": [
              "       age           job   marital  education default  balance housing loan  \\\n",
              "0       58    management   married   tertiary      no     2143     yes   no   \n",
              "1       44    technician    single  secondary      no       29     yes   no   \n",
              "2       33  entrepreneur   married  secondary      no        2     yes  yes   \n",
              "3       47   blue-collar   married    unknown      no     1506     yes   no   \n",
              "4       33       unknown    single    unknown      no        1      no   no   \n",
              "...    ...           ...       ...        ...     ...      ...     ...  ...   \n",
              "45206   51    technician   married   tertiary      no      825      no   no   \n",
              "45207   71       retired  divorced    primary      no     1729      no   no   \n",
              "45208   72       retired   married  secondary      no     5715      no   no   \n",
              "45209   57   blue-collar   married  secondary      no      668      no   no   \n",
              "45210   37  entrepreneur   married  secondary      no     2971      no   no   \n",
              "\n",
              "         contact  day month  duration  campaign  pdays  previous poutcome    y  \n",
              "0        unknown    5   may       261         1     -1         0  unknown   no  \n",
              "1        unknown    5   may       151         1     -1         0  unknown   no  \n",
              "2        unknown    5   may        76         1     -1         0  unknown   no  \n",
              "3        unknown    5   may        92         1     -1         0  unknown   no  \n",
              "4        unknown    5   may       198         1     -1         0  unknown   no  \n",
              "...          ...  ...   ...       ...       ...    ...       ...      ...  ...  \n",
              "45206   cellular   17   nov       977         3     -1         0  unknown  yes  \n",
              "45207   cellular   17   nov       456         2     -1         0  unknown  yes  \n",
              "45208   cellular   17   nov      1127         5    184         3  success  yes  \n",
              "45209  telephone   17   nov       508         4     -1         0  unknown   no  \n",
              "45210   cellular   17   nov       361         2    188        11    other   no  \n",
              "\n",
              "[45211 rows x 17 columns]"
            ]
          },
          "execution_count": 205,
          "metadata": {},
          "output_type": "execute_result"
        }
      ],
      "source": [
        "df"
      ]
    },
    {
      "cell_type": "code",
      "execution_count": null,
      "id": "d0e9f78f",
      "metadata": {
        "colab": {
          "base_uri": "https://localhost:8080/"
        },
        "id": "d0e9f78f",
        "outputId": "35f4f2cf-93c4-4808-fa01-87d5860c6bac"
      },
      "outputs": [
        {
          "data": {
            "text/plain": [
              "age          False\n",
              "job          False\n",
              "marital      False\n",
              "education    False\n",
              "default      False\n",
              "balance      False\n",
              "housing      False\n",
              "loan         False\n",
              "contact      False\n",
              "day          False\n",
              "month        False\n",
              "duration     False\n",
              "campaign     False\n",
              "pdays        False\n",
              "previous     False\n",
              "poutcome     False\n",
              "y            False\n",
              "dtype: bool"
            ]
          },
          "execution_count": 206,
          "metadata": {},
          "output_type": "execute_result"
        }
      ],
      "source": [
        "# Checking for null values\n",
        "df.isnull().any()"
      ]
    },
    {
      "cell_type": "code",
      "execution_count": null,
      "id": "818e5d16",
      "metadata": {
        "id": "818e5d16"
      },
      "outputs": [],
      "source": [
        "# Replacing yes with 1 and no with 0\n",
        "df.y = df.y.eq('yes').mul(1)\n",
        "df.default = df.default.eq('no').mul(1) #NO default said yes, no =1, yes = 0\n",
        "df.loan = df.loan.eq('no').mul(1) #NO loan said yes, no =1, yes = 0\n",
        "\n",
        "df.housing = df.housing.eq('no').mul(1) #No housing said yes, no=1, yes = 0\n"
      ]
    },
    {
      "cell_type": "code",
      "execution_count": null,
      "id": "a4d40934",
      "metadata": {
        "id": "a4d40934",
        "outputId": "6ad0eabc-284c-4b77-e0bf-bd95a23bd396"
      },
      "outputs": [
        {
          "data": {
            "text/html": [
              "<div>\n",
              "<style scoped>\n",
              "    .dataframe tbody tr th:only-of-type {\n",
              "        vertical-align: middle;\n",
              "    }\n",
              "\n",
              "    .dataframe tbody tr th {\n",
              "        vertical-align: top;\n",
              "    }\n",
              "\n",
              "    .dataframe thead th {\n",
              "        text-align: right;\n",
              "    }\n",
              "</style>\n",
              "<table border=\"1\" class=\"dataframe\">\n",
              "  <thead>\n",
              "    <tr style=\"text-align: right;\">\n",
              "      <th></th>\n",
              "      <th>age</th>\n",
              "      <th>job</th>\n",
              "      <th>marital</th>\n",
              "      <th>education</th>\n",
              "      <th>default</th>\n",
              "      <th>balance</th>\n",
              "      <th>housing</th>\n",
              "      <th>loan</th>\n",
              "      <th>contact</th>\n",
              "      <th>day</th>\n",
              "      <th>month</th>\n",
              "      <th>duration</th>\n",
              "      <th>campaign</th>\n",
              "      <th>pdays</th>\n",
              "      <th>previous</th>\n",
              "      <th>poutcome</th>\n",
              "      <th>y</th>\n",
              "    </tr>\n",
              "  </thead>\n",
              "  <tbody>\n",
              "    <tr>\n",
              "      <th>0</th>\n",
              "      <td>58</td>\n",
              "      <td>management</td>\n",
              "      <td>married</td>\n",
              "      <td>tertiary</td>\n",
              "      <td>1</td>\n",
              "      <td>2143</td>\n",
              "      <td>0</td>\n",
              "      <td>1</td>\n",
              "      <td>unknown</td>\n",
              "      <td>5</td>\n",
              "      <td>may</td>\n",
              "      <td>261</td>\n",
              "      <td>1</td>\n",
              "      <td>-1</td>\n",
              "      <td>0</td>\n",
              "      <td>unknown</td>\n",
              "      <td>0</td>\n",
              "    </tr>\n",
              "    <tr>\n",
              "      <th>1</th>\n",
              "      <td>44</td>\n",
              "      <td>technician</td>\n",
              "      <td>single</td>\n",
              "      <td>secondary</td>\n",
              "      <td>1</td>\n",
              "      <td>29</td>\n",
              "      <td>0</td>\n",
              "      <td>1</td>\n",
              "      <td>unknown</td>\n",
              "      <td>5</td>\n",
              "      <td>may</td>\n",
              "      <td>151</td>\n",
              "      <td>1</td>\n",
              "      <td>-1</td>\n",
              "      <td>0</td>\n",
              "      <td>unknown</td>\n",
              "      <td>0</td>\n",
              "    </tr>\n",
              "    <tr>\n",
              "      <th>2</th>\n",
              "      <td>33</td>\n",
              "      <td>entrepreneur</td>\n",
              "      <td>married</td>\n",
              "      <td>secondary</td>\n",
              "      <td>1</td>\n",
              "      <td>2</td>\n",
              "      <td>0</td>\n",
              "      <td>0</td>\n",
              "      <td>unknown</td>\n",
              "      <td>5</td>\n",
              "      <td>may</td>\n",
              "      <td>76</td>\n",
              "      <td>1</td>\n",
              "      <td>-1</td>\n",
              "      <td>0</td>\n",
              "      <td>unknown</td>\n",
              "      <td>0</td>\n",
              "    </tr>\n",
              "    <tr>\n",
              "      <th>3</th>\n",
              "      <td>47</td>\n",
              "      <td>blue-collar</td>\n",
              "      <td>married</td>\n",
              "      <td>unknown</td>\n",
              "      <td>1</td>\n",
              "      <td>1506</td>\n",
              "      <td>0</td>\n",
              "      <td>1</td>\n",
              "      <td>unknown</td>\n",
              "      <td>5</td>\n",
              "      <td>may</td>\n",
              "      <td>92</td>\n",
              "      <td>1</td>\n",
              "      <td>-1</td>\n",
              "      <td>0</td>\n",
              "      <td>unknown</td>\n",
              "      <td>0</td>\n",
              "    </tr>\n",
              "    <tr>\n",
              "      <th>4</th>\n",
              "      <td>33</td>\n",
              "      <td>unknown</td>\n",
              "      <td>single</td>\n",
              "      <td>unknown</td>\n",
              "      <td>1</td>\n",
              "      <td>1</td>\n",
              "      <td>1</td>\n",
              "      <td>1</td>\n",
              "      <td>unknown</td>\n",
              "      <td>5</td>\n",
              "      <td>may</td>\n",
              "      <td>198</td>\n",
              "      <td>1</td>\n",
              "      <td>-1</td>\n",
              "      <td>0</td>\n",
              "      <td>unknown</td>\n",
              "      <td>0</td>\n",
              "    </tr>\n",
              "    <tr>\n",
              "      <th>...</th>\n",
              "      <td>...</td>\n",
              "      <td>...</td>\n",
              "      <td>...</td>\n",
              "      <td>...</td>\n",
              "      <td>...</td>\n",
              "      <td>...</td>\n",
              "      <td>...</td>\n",
              "      <td>...</td>\n",
              "      <td>...</td>\n",
              "      <td>...</td>\n",
              "      <td>...</td>\n",
              "      <td>...</td>\n",
              "      <td>...</td>\n",
              "      <td>...</td>\n",
              "      <td>...</td>\n",
              "      <td>...</td>\n",
              "      <td>...</td>\n",
              "    </tr>\n",
              "    <tr>\n",
              "      <th>45206</th>\n",
              "      <td>51</td>\n",
              "      <td>technician</td>\n",
              "      <td>married</td>\n",
              "      <td>tertiary</td>\n",
              "      <td>1</td>\n",
              "      <td>825</td>\n",
              "      <td>1</td>\n",
              "      <td>1</td>\n",
              "      <td>cellular</td>\n",
              "      <td>17</td>\n",
              "      <td>nov</td>\n",
              "      <td>977</td>\n",
              "      <td>3</td>\n",
              "      <td>-1</td>\n",
              "      <td>0</td>\n",
              "      <td>unknown</td>\n",
              "      <td>1</td>\n",
              "    </tr>\n",
              "    <tr>\n",
              "      <th>45207</th>\n",
              "      <td>71</td>\n",
              "      <td>retired</td>\n",
              "      <td>divorced</td>\n",
              "      <td>primary</td>\n",
              "      <td>1</td>\n",
              "      <td>1729</td>\n",
              "      <td>1</td>\n",
              "      <td>1</td>\n",
              "      <td>cellular</td>\n",
              "      <td>17</td>\n",
              "      <td>nov</td>\n",
              "      <td>456</td>\n",
              "      <td>2</td>\n",
              "      <td>-1</td>\n",
              "      <td>0</td>\n",
              "      <td>unknown</td>\n",
              "      <td>1</td>\n",
              "    </tr>\n",
              "    <tr>\n",
              "      <th>45208</th>\n",
              "      <td>72</td>\n",
              "      <td>retired</td>\n",
              "      <td>married</td>\n",
              "      <td>secondary</td>\n",
              "      <td>1</td>\n",
              "      <td>5715</td>\n",
              "      <td>1</td>\n",
              "      <td>1</td>\n",
              "      <td>cellular</td>\n",
              "      <td>17</td>\n",
              "      <td>nov</td>\n",
              "      <td>1127</td>\n",
              "      <td>5</td>\n",
              "      <td>184</td>\n",
              "      <td>3</td>\n",
              "      <td>success</td>\n",
              "      <td>1</td>\n",
              "    </tr>\n",
              "    <tr>\n",
              "      <th>45209</th>\n",
              "      <td>57</td>\n",
              "      <td>blue-collar</td>\n",
              "      <td>married</td>\n",
              "      <td>secondary</td>\n",
              "      <td>1</td>\n",
              "      <td>668</td>\n",
              "      <td>1</td>\n",
              "      <td>1</td>\n",
              "      <td>telephone</td>\n",
              "      <td>17</td>\n",
              "      <td>nov</td>\n",
              "      <td>508</td>\n",
              "      <td>4</td>\n",
              "      <td>-1</td>\n",
              "      <td>0</td>\n",
              "      <td>unknown</td>\n",
              "      <td>0</td>\n",
              "    </tr>\n",
              "    <tr>\n",
              "      <th>45210</th>\n",
              "      <td>37</td>\n",
              "      <td>entrepreneur</td>\n",
              "      <td>married</td>\n",
              "      <td>secondary</td>\n",
              "      <td>1</td>\n",
              "      <td>2971</td>\n",
              "      <td>1</td>\n",
              "      <td>1</td>\n",
              "      <td>cellular</td>\n",
              "      <td>17</td>\n",
              "      <td>nov</td>\n",
              "      <td>361</td>\n",
              "      <td>2</td>\n",
              "      <td>188</td>\n",
              "      <td>11</td>\n",
              "      <td>other</td>\n",
              "      <td>0</td>\n",
              "    </tr>\n",
              "  </tbody>\n",
              "</table>\n",
              "<p>45211 rows × 17 columns</p>\n",
              "</div>"
            ],
            "text/plain": [
              "       age           job   marital  education  default  balance  housing  \\\n",
              "0       58    management   married   tertiary        1     2143        0   \n",
              "1       44    technician    single  secondary        1       29        0   \n",
              "2       33  entrepreneur   married  secondary        1        2        0   \n",
              "3       47   blue-collar   married    unknown        1     1506        0   \n",
              "4       33       unknown    single    unknown        1        1        1   \n",
              "...    ...           ...       ...        ...      ...      ...      ...   \n",
              "45206   51    technician   married   tertiary        1      825        1   \n",
              "45207   71       retired  divorced    primary        1     1729        1   \n",
              "45208   72       retired   married  secondary        1     5715        1   \n",
              "45209   57   blue-collar   married  secondary        1      668        1   \n",
              "45210   37  entrepreneur   married  secondary        1     2971        1   \n",
              "\n",
              "       loan    contact  day month  duration  campaign  pdays  previous  \\\n",
              "0         1    unknown    5   may       261         1     -1         0   \n",
              "1         1    unknown    5   may       151         1     -1         0   \n",
              "2         0    unknown    5   may        76         1     -1         0   \n",
              "3         1    unknown    5   may        92         1     -1         0   \n",
              "4         1    unknown    5   may       198         1     -1         0   \n",
              "...     ...        ...  ...   ...       ...       ...    ...       ...   \n",
              "45206     1   cellular   17   nov       977         3     -1         0   \n",
              "45207     1   cellular   17   nov       456         2     -1         0   \n",
              "45208     1   cellular   17   nov      1127         5    184         3   \n",
              "45209     1  telephone   17   nov       508         4     -1         0   \n",
              "45210     1   cellular   17   nov       361         2    188        11   \n",
              "\n",
              "      poutcome  y  \n",
              "0      unknown  0  \n",
              "1      unknown  0  \n",
              "2      unknown  0  \n",
              "3      unknown  0  \n",
              "4      unknown  0  \n",
              "...        ... ..  \n",
              "45206  unknown  1  \n",
              "45207  unknown  1  \n",
              "45208  success  1  \n",
              "45209  unknown  0  \n",
              "45210    other  0  \n",
              "\n",
              "[45211 rows x 17 columns]"
            ]
          },
          "execution_count": 208,
          "metadata": {},
          "output_type": "execute_result"
        }
      ],
      "source": [
        "df"
      ]
    },
    {
      "cell_type": "markdown",
      "id": "788073d0",
      "metadata": {
        "id": "788073d0"
      },
      "source": [
        "## 2. Ordinal Encoding"
      ]
    },
    {
      "cell_type": "code",
      "execution_count": null,
      "id": "5c0f8897",
      "metadata": {
        "id": "5c0f8897"
      },
      "outputs": [],
      "source": [
        "# Using Ordinal Encoding to convert categorical columns\n",
        "encoder= ce.OrdinalEncoder(cols=['contact'],return_df=True,\n",
        "                           mapping=[{'col':'contact',\n",
        "'mapping':{'cellular':2, 'telephone':0, 'unknown':1}}])"
      ]
    },
    {
      "cell_type": "code",
      "execution_count": null,
      "id": "e48b8230",
      "metadata": {
        "id": "e48b8230"
      },
      "outputs": [],
      "source": [
        "df[['contact']] = encoder.fit_transform(df[['contact']])"
      ]
    },
    {
      "cell_type": "code",
      "execution_count": null,
      "id": "9b2ba6f8",
      "metadata": {
        "id": "9b2ba6f8"
      },
      "outputs": [],
      "source": [
        "# Using Ordinal Encoding to convert categorical columns\n",
        "encoder= ce.OrdinalEncoder(cols=['month'],return_df=True,\n",
        "                           mapping=[{'col':'month',\n",
        "'mapping':{'apr':9, 'aug':11, 'dec':1, 'feb':7, 'jan':2, 'jul':10, 'jun':8, 'mar':3, 'may':12,\n",
        "       'nov':6, 'oct':5, 'sep':4}}])"
      ]
    },
    {
      "cell_type": "code",
      "execution_count": null,
      "id": "acda6254",
      "metadata": {
        "id": "acda6254"
      },
      "outputs": [],
      "source": [
        "df[['month']] = encoder.fit_transform(df[['month']])"
      ]
    },
    {
      "cell_type": "code",
      "execution_count": null,
      "id": "c9f0ddd0",
      "metadata": {
        "id": "c9f0ddd0"
      },
      "outputs": [],
      "source": [
        "# Using Ordinal Encoding to convert categorical columns\n",
        "encoder= ce.OrdinalEncoder(cols=['job'],return_df=True,\n",
        "                           mapping=[{'col':'job',\n",
        "'mapping':{'unemployed':5,'unknown':0,'student':6,'housemaid':1,'blue-collar':10,'technician':11,'services':7,\n",
        "           'retired':8,'admin':9,'self-employed':4,'entrepreneur':3,'management':12}}])"
      ]
    },
    {
      "cell_type": "code",
      "execution_count": null,
      "id": "37f9ee18",
      "metadata": {
        "id": "37f9ee18"
      },
      "outputs": [],
      "source": [
        "df[['job']] = encoder.fit_transform(df[['job']])"
      ]
    },
    {
      "cell_type": "code",
      "execution_count": null,
      "id": "e5de5e02",
      "metadata": {
        "id": "e5de5e02"
      },
      "outputs": [],
      "source": [
        "# Using Ordinal Encoding to convert categorical columns\n",
        "encoder= ce.OrdinalEncoder(cols=['marital'],return_df=True,\n",
        "                           mapping=[{'col':'marital',\n",
        "'mapping':{'single':1,'divorced':0,'married':2}}])"
      ]
    },
    {
      "cell_type": "code",
      "execution_count": null,
      "id": "6754c463",
      "metadata": {
        "id": "6754c463"
      },
      "outputs": [],
      "source": [
        "df[['marital']] = encoder.fit_transform(df[['marital']])"
      ]
    },
    {
      "cell_type": "code",
      "execution_count": null,
      "id": "d673ded4",
      "metadata": {
        "id": "d673ded4"
      },
      "outputs": [],
      "source": [
        "# Using Ordinal Encoding to convert categorical columns\n",
        "encoder= ce.OrdinalEncoder(cols=['education'],return_df=True,\n",
        "                           mapping=[{'col':'education',\n",
        "'mapping':{'unknown':0,'primary':1,'secondary':3,'tertiary':2}}])"
      ]
    },
    {
      "cell_type": "code",
      "execution_count": null,
      "id": "93d8779a",
      "metadata": {
        "id": "93d8779a"
      },
      "outputs": [],
      "source": [
        "df[['education']] = encoder.fit_transform(df[['education']])"
      ]
    },
    {
      "cell_type": "code",
      "execution_count": null,
      "id": "be875de3",
      "metadata": {
        "id": "be875de3"
      },
      "outputs": [],
      "source": [
        "# Using Ordinal Encoding to convert categorical columns\n",
        "encoder= ce.OrdinalEncoder(cols=['poutcome'],return_df=True,\n",
        "                           mapping=[{'col':'poutcome',\n",
        "'mapping':{'failure':1,'other':0,'unknown':3,'success':2}}])"
      ]
    },
    {
      "cell_type": "code",
      "execution_count": null,
      "id": "06cae376",
      "metadata": {
        "id": "06cae376"
      },
      "outputs": [],
      "source": [
        "df[['poutcome']] = encoder.fit_transform(df[['poutcome']])"
      ]
    },
    {
      "cell_type": "code",
      "execution_count": null,
      "id": "f39f6bc7",
      "metadata": {
        "colab": {
          "base_uri": "https://localhost:8080/",
          "height": 423
        },
        "id": "f39f6bc7",
        "outputId": "ee9323fe-2e07-4692-edf9-021af52a73f9"
      },
      "outputs": [
        {
          "data": {
            "text/html": [
              "<div>\n",
              "<style scoped>\n",
              "    .dataframe tbody tr th:only-of-type {\n",
              "        vertical-align: middle;\n",
              "    }\n",
              "\n",
              "    .dataframe tbody tr th {\n",
              "        vertical-align: top;\n",
              "    }\n",
              "\n",
              "    .dataframe thead th {\n",
              "        text-align: right;\n",
              "    }\n",
              "</style>\n",
              "<table border=\"1\" class=\"dataframe\">\n",
              "  <thead>\n",
              "    <tr style=\"text-align: right;\">\n",
              "      <th></th>\n",
              "      <th>age</th>\n",
              "      <th>job</th>\n",
              "      <th>marital</th>\n",
              "      <th>education</th>\n",
              "      <th>default</th>\n",
              "      <th>balance</th>\n",
              "      <th>housing</th>\n",
              "      <th>loan</th>\n",
              "      <th>contact</th>\n",
              "      <th>day</th>\n",
              "      <th>month</th>\n",
              "      <th>duration</th>\n",
              "      <th>campaign</th>\n",
              "      <th>pdays</th>\n",
              "      <th>previous</th>\n",
              "      <th>poutcome</th>\n",
              "      <th>y</th>\n",
              "    </tr>\n",
              "  </thead>\n",
              "  <tbody>\n",
              "    <tr>\n",
              "      <th>0</th>\n",
              "      <td>58</td>\n",
              "      <td>12.0</td>\n",
              "      <td>2</td>\n",
              "      <td>2</td>\n",
              "      <td>1</td>\n",
              "      <td>2143</td>\n",
              "      <td>0</td>\n",
              "      <td>1</td>\n",
              "      <td>1</td>\n",
              "      <td>5</td>\n",
              "      <td>12</td>\n",
              "      <td>261</td>\n",
              "      <td>1</td>\n",
              "      <td>-1</td>\n",
              "      <td>0</td>\n",
              "      <td>3</td>\n",
              "      <td>0</td>\n",
              "    </tr>\n",
              "    <tr>\n",
              "      <th>1</th>\n",
              "      <td>44</td>\n",
              "      <td>11.0</td>\n",
              "      <td>1</td>\n",
              "      <td>3</td>\n",
              "      <td>1</td>\n",
              "      <td>29</td>\n",
              "      <td>0</td>\n",
              "      <td>1</td>\n",
              "      <td>1</td>\n",
              "      <td>5</td>\n",
              "      <td>12</td>\n",
              "      <td>151</td>\n",
              "      <td>1</td>\n",
              "      <td>-1</td>\n",
              "      <td>0</td>\n",
              "      <td>3</td>\n",
              "      <td>0</td>\n",
              "    </tr>\n",
              "    <tr>\n",
              "      <th>2</th>\n",
              "      <td>33</td>\n",
              "      <td>3.0</td>\n",
              "      <td>2</td>\n",
              "      <td>3</td>\n",
              "      <td>1</td>\n",
              "      <td>2</td>\n",
              "      <td>0</td>\n",
              "      <td>0</td>\n",
              "      <td>1</td>\n",
              "      <td>5</td>\n",
              "      <td>12</td>\n",
              "      <td>76</td>\n",
              "      <td>1</td>\n",
              "      <td>-1</td>\n",
              "      <td>0</td>\n",
              "      <td>3</td>\n",
              "      <td>0</td>\n",
              "    </tr>\n",
              "    <tr>\n",
              "      <th>3</th>\n",
              "      <td>47</td>\n",
              "      <td>10.0</td>\n",
              "      <td>2</td>\n",
              "      <td>0</td>\n",
              "      <td>1</td>\n",
              "      <td>1506</td>\n",
              "      <td>0</td>\n",
              "      <td>1</td>\n",
              "      <td>1</td>\n",
              "      <td>5</td>\n",
              "      <td>12</td>\n",
              "      <td>92</td>\n",
              "      <td>1</td>\n",
              "      <td>-1</td>\n",
              "      <td>0</td>\n",
              "      <td>3</td>\n",
              "      <td>0</td>\n",
              "    </tr>\n",
              "    <tr>\n",
              "      <th>4</th>\n",
              "      <td>33</td>\n",
              "      <td>0.0</td>\n",
              "      <td>1</td>\n",
              "      <td>0</td>\n",
              "      <td>1</td>\n",
              "      <td>1</td>\n",
              "      <td>1</td>\n",
              "      <td>1</td>\n",
              "      <td>1</td>\n",
              "      <td>5</td>\n",
              "      <td>12</td>\n",
              "      <td>198</td>\n",
              "      <td>1</td>\n",
              "      <td>-1</td>\n",
              "      <td>0</td>\n",
              "      <td>3</td>\n",
              "      <td>0</td>\n",
              "    </tr>\n",
              "    <tr>\n",
              "      <th>...</th>\n",
              "      <td>...</td>\n",
              "      <td>...</td>\n",
              "      <td>...</td>\n",
              "      <td>...</td>\n",
              "      <td>...</td>\n",
              "      <td>...</td>\n",
              "      <td>...</td>\n",
              "      <td>...</td>\n",
              "      <td>...</td>\n",
              "      <td>...</td>\n",
              "      <td>...</td>\n",
              "      <td>...</td>\n",
              "      <td>...</td>\n",
              "      <td>...</td>\n",
              "      <td>...</td>\n",
              "      <td>...</td>\n",
              "      <td>...</td>\n",
              "    </tr>\n",
              "    <tr>\n",
              "      <th>45206</th>\n",
              "      <td>51</td>\n",
              "      <td>11.0</td>\n",
              "      <td>2</td>\n",
              "      <td>2</td>\n",
              "      <td>1</td>\n",
              "      <td>825</td>\n",
              "      <td>1</td>\n",
              "      <td>1</td>\n",
              "      <td>2</td>\n",
              "      <td>17</td>\n",
              "      <td>6</td>\n",
              "      <td>977</td>\n",
              "      <td>3</td>\n",
              "      <td>-1</td>\n",
              "      <td>0</td>\n",
              "      <td>3</td>\n",
              "      <td>1</td>\n",
              "    </tr>\n",
              "    <tr>\n",
              "      <th>45207</th>\n",
              "      <td>71</td>\n",
              "      <td>8.0</td>\n",
              "      <td>0</td>\n",
              "      <td>1</td>\n",
              "      <td>1</td>\n",
              "      <td>1729</td>\n",
              "      <td>1</td>\n",
              "      <td>1</td>\n",
              "      <td>2</td>\n",
              "      <td>17</td>\n",
              "      <td>6</td>\n",
              "      <td>456</td>\n",
              "      <td>2</td>\n",
              "      <td>-1</td>\n",
              "      <td>0</td>\n",
              "      <td>3</td>\n",
              "      <td>1</td>\n",
              "    </tr>\n",
              "    <tr>\n",
              "      <th>45208</th>\n",
              "      <td>72</td>\n",
              "      <td>8.0</td>\n",
              "      <td>2</td>\n",
              "      <td>3</td>\n",
              "      <td>1</td>\n",
              "      <td>5715</td>\n",
              "      <td>1</td>\n",
              "      <td>1</td>\n",
              "      <td>2</td>\n",
              "      <td>17</td>\n",
              "      <td>6</td>\n",
              "      <td>1127</td>\n",
              "      <td>5</td>\n",
              "      <td>184</td>\n",
              "      <td>3</td>\n",
              "      <td>2</td>\n",
              "      <td>1</td>\n",
              "    </tr>\n",
              "    <tr>\n",
              "      <th>45209</th>\n",
              "      <td>57</td>\n",
              "      <td>10.0</td>\n",
              "      <td>2</td>\n",
              "      <td>3</td>\n",
              "      <td>1</td>\n",
              "      <td>668</td>\n",
              "      <td>1</td>\n",
              "      <td>1</td>\n",
              "      <td>0</td>\n",
              "      <td>17</td>\n",
              "      <td>6</td>\n",
              "      <td>508</td>\n",
              "      <td>4</td>\n",
              "      <td>-1</td>\n",
              "      <td>0</td>\n",
              "      <td>3</td>\n",
              "      <td>0</td>\n",
              "    </tr>\n",
              "    <tr>\n",
              "      <th>45210</th>\n",
              "      <td>37</td>\n",
              "      <td>3.0</td>\n",
              "      <td>2</td>\n",
              "      <td>3</td>\n",
              "      <td>1</td>\n",
              "      <td>2971</td>\n",
              "      <td>1</td>\n",
              "      <td>1</td>\n",
              "      <td>2</td>\n",
              "      <td>17</td>\n",
              "      <td>6</td>\n",
              "      <td>361</td>\n",
              "      <td>2</td>\n",
              "      <td>188</td>\n",
              "      <td>11</td>\n",
              "      <td>0</td>\n",
              "      <td>0</td>\n",
              "    </tr>\n",
              "  </tbody>\n",
              "</table>\n",
              "<p>45211 rows × 17 columns</p>\n",
              "</div>"
            ],
            "text/plain": [
              "       age   job  marital  education  default  balance  housing  loan  \\\n",
              "0       58  12.0        2          2        1     2143        0     1   \n",
              "1       44  11.0        1          3        1       29        0     1   \n",
              "2       33   3.0        2          3        1        2        0     0   \n",
              "3       47  10.0        2          0        1     1506        0     1   \n",
              "4       33   0.0        1          0        1        1        1     1   \n",
              "...    ...   ...      ...        ...      ...      ...      ...   ...   \n",
              "45206   51  11.0        2          2        1      825        1     1   \n",
              "45207   71   8.0        0          1        1     1729        1     1   \n",
              "45208   72   8.0        2          3        1     5715        1     1   \n",
              "45209   57  10.0        2          3        1      668        1     1   \n",
              "45210   37   3.0        2          3        1     2971        1     1   \n",
              "\n",
              "       contact  day  month  duration  campaign  pdays  previous  poutcome  y  \n",
              "0            1    5     12       261         1     -1         0         3  0  \n",
              "1            1    5     12       151         1     -1         0         3  0  \n",
              "2            1    5     12        76         1     -1         0         3  0  \n",
              "3            1    5     12        92         1     -1         0         3  0  \n",
              "4            1    5     12       198         1     -1         0         3  0  \n",
              "...        ...  ...    ...       ...       ...    ...       ...       ... ..  \n",
              "45206        2   17      6       977         3     -1         0         3  1  \n",
              "45207        2   17      6       456         2     -1         0         3  1  \n",
              "45208        2   17      6      1127         5    184         3         2  1  \n",
              "45209        0   17      6       508         4     -1         0         3  0  \n",
              "45210        2   17      6       361         2    188        11         0  0  \n",
              "\n",
              "[45211 rows x 17 columns]"
            ]
          },
          "execution_count": 221,
          "metadata": {},
          "output_type": "execute_result"
        }
      ],
      "source": [
        "df"
      ]
    },
    {
      "cell_type": "markdown",
      "id": "0651c0a8",
      "metadata": {
        "id": "0651c0a8"
      },
      "source": [
        "## 3. Correlation and Heat Map"
      ]
    },
    {
      "cell_type": "code",
      "execution_count": null,
      "id": "413c3ca6",
      "metadata": {
        "colab": {
          "base_uri": "https://localhost:8080/",
          "height": 488
        },
        "id": "413c3ca6",
        "outputId": "e096ec4a-bcd4-496c-f00b-48157b07d33b",
        "scrolled": false
      },
      "outputs": [
        {
          "data": {
            "text/plain": [
              "y            1.000000\n",
              "duration     0.394521\n",
              "housing      0.139173\n",
              "pdays        0.103621\n",
              "contact      0.100822\n",
              "previous     0.093236\n",
              "loan         0.068185\n",
              "balance      0.052838\n",
              "age          0.025155\n",
              "default      0.022419\n",
              "job         -0.005085\n",
              "education   -0.009795\n",
              "day         -0.028348\n",
              "marital     -0.043846\n",
              "campaign    -0.073172\n",
              "poutcome    -0.096257\n",
              "month       -0.150419\n",
              "Name: y, dtype: float64"
            ]
          },
          "execution_count": 222,
          "metadata": {},
          "output_type": "execute_result"
        }
      ],
      "source": [
        "# Finding the correlation\n",
        "corr_data = df.corr()\n",
        "corr_y = corr_data[\"y\"]\n",
        "corr_y.sort_values(ascending = False)"
      ]
    },
    {
      "cell_type": "code",
      "execution_count": null,
      "id": "88ae6cdd",
      "metadata": {
        "colab": {
          "base_uri": "https://localhost:8080/",
          "height": 327
        },
        "id": "88ae6cdd",
        "outputId": "c97d302a-1af7-48cd-9ce9-a254965ebc8c"
      },
      "outputs": [
        {
          "data": {
            "image/png": "[encoded data removed]",
            "text/plain": [
              "<Figure size 432x288 with 2 Axes>"
            ]
          },
          "metadata": {
            "needs_background": "light"
          },
          "output_type": "display_data"
        }
      ],
      "source": [
        "# Displaying the Heat Map\n",
        "sns.heatmap(df.corr())\n",
        "plt.savefig(\"Heatmap.png\")"
      ]
    },
    {
      "cell_type": "markdown",
      "id": "0f7049a1",
      "metadata": {
        "id": "0f7049a1"
      },
      "source": [
        "## 4. Training and Testing the Data"
      ]
    },
    {
      "cell_type": "code",
      "execution_count": null,
      "id": "8c4a473b",
      "metadata": {
        "id": "8c4a473b"
      },
      "outputs": [],
      "source": [
        "# training the dataset\n",
        "X = df.drop(\"y\", axis=1)\n",
        "y = df[\"y\"]"
      ]
    },
    {
      "cell_type": "code",
      "execution_count": null,
      "id": "aaad89b8",
      "metadata": {
        "id": "aaad89b8",
        "outputId": "f98091a6-6338-4748-ab30-cf1fe7ed8267"
      },
      "outputs": [
        {
          "name": "stderr",
          "output_type": "stream",
          "text": [
            "C:\\Users\\kondr\\anaconda3\\lib\\site-packages\\sklearn\\utils\\validation.py:70: FutureWarning: Pass classes=[0 1], y=0        0\n",
            "1        0\n",
            "2        0\n",
            "3        0\n",
            "4        0\n",
            "        ..\n",
            "45206    1\n",
            "45207    1\n",
            "45208    1\n",
            "45209    0\n",
            "45210    0\n",
            "Name: y, Length: 45211, dtype: int32 as keyword args. From version 1.0 (renaming of 0.25) passing these as positional arguments will result in an error\n",
            "  warnings.warn(f\"Pass {args_msg} as keyword args. From version \"\n"
          ]
        },
        {
          "data": {
            "text/plain": [
              "array([0.56624167, 4.27405937])"
            ]
          },
          "execution_count": 225,
          "metadata": {},
          "output_type": "execute_result"
        }
      ],
      "source": [
        "#Checking weights of classes\n",
        "class_weights = compute_class_weight('balanced', np.unique(y), y)\n",
        "class_weights"
      ]
    },
    {
      "cell_type": "code",
      "execution_count": null,
      "id": "458d76af",
      "metadata": {
        "id": "458d76af"
      },
      "outputs": [],
      "source": [
        "np.random.seed(3)\n",
        "X_train, X_test, y_train, y_test = train_test_split(X, y, test_size=0.2, random_state=42)"
      ]
    },
    {
      "cell_type": "code",
      "execution_count": null,
      "id": "799ed644",
      "metadata": {
        "colab": {
          "base_uri": "https://localhost:8080/"
        },
        "id": "799ed644",
        "outputId": "34f026bd-b162-4bcc-9f23-b24210fde7b3"
      },
      "outputs": [
        {
          "name": "stdout",
          "output_type": "stream",
          "text": [
            "==============================\n",
            "DecisionTreeClassifier\n",
            "****Results****\n",
            "Accuracy:\t100.0000%\n",
            "ROC AUC:\t 1.0\n",
            "Precision:\t 1.0\n",
            "F1 Score:\t 1.0\n",
            "Log Loss:\t 9.992007221626413e-16\n",
            "Confusion Matrix: \n",
            " [[31970     0]\n",
            " [    0  4198]]\n",
            "==============================\n",
            "RandomForestClassifier\n",
            "****Results****\n",
            "Accuracy:\t100.0000%\n",
            "ROC AUC:\t 1.0\n",
            "Precision:\t 1.0\n",
            "F1 Score:\t 1.0\n",
            "Log Loss:\t 9.992007221626413e-16\n",
            "Confusion Matrix: \n",
            " [[31970     0]\n",
            " [    0  4198]]\n"
          ]
        },
        {
          "name": "stderr",
          "output_type": "stream",
          "text": [
            "C:\\Users\\kondr\\anaconda3\\lib\\site-packages\\sklearn\\linear_model\\_logistic.py:763: ConvergenceWarning: lbfgs failed to converge (status=1):\n",
            "STOP: TOTAL NO. of ITERATIONS REACHED LIMIT.\n",
            "\n",
            "Increase the number of iterations (max_iter) or scale the data as shown in:\n",
            "    https://scikit-learn.org/stable/modules/preprocessing.html\n",
            "Please also refer to the documentation for alternative solver options:\n",
            "    https://scikit-learn.org/stable/modules/linear_model.html#logistic-regression\n",
            "  n_iter_i = _check_optimize_result(\n"
          ]
        },
        {
          "name": "stdout",
          "output_type": "stream",
          "text": [
            "==============================\n",
            "LogisticRegression\n",
            "****Results****\n",
            "Accuracy:\t88.8493%\n",
            "ROC AUC:\t 0.5829725953479195\n",
            "Precision:\t 0.5593952483801296\n",
            "F1 Score:\t 0.2781456953642384\n",
            "Log Loss:\t 3.8513430257216896\n",
            "Confusion Matrix: \n",
            " [[31358   612]\n",
            " [ 3421   777]]\n",
            "==============================\n",
            "GradientBoostingClassifier\n",
            "****Results****\n",
            "Accuracy:\t91.0142%\n",
            "ROC AUC:\t 0.6970276892805204\n",
            "Precision:\t 0.6841491841491841\n",
            "F1 Score:\t 0.5200826934435911\n",
            "Log Loss:\t 3.103618484742604\n",
            "Confusion Matrix: \n",
            " [[31157   813]\n",
            " [ 2437  1761]]\n",
            "==============================\n",
            "GaussianNB\n",
            "****Results****\n",
            "Accuracy:\t84.1296%\n",
            "ROC AUC:\t 0.673604631426288\n",
            "Precision:\t 0.35626398210290827\n",
            "F1 Score:\t 0.3997071742313324\n",
            "Log Loss:\t 5.481512317980363\n",
            "Confusion Matrix: \n",
            " [[28517  3453]\n",
            " [ 2287  1911]]\n",
            "==============================\n"
          ]
        }
      ],
      "source": [
        "# Implementing different models\n",
        "classifiers = [\n",
        "    DecisionTreeClassifier(),\n",
        "    RandomForestClassifier(),\n",
        "    LogisticRegression(),\n",
        "    GradientBoostingClassifier(),\n",
        "    GaussianNB()]\n",
        "\n",
        "# Logging for Visual Comparison\n",
        "log_cols=[\"Classifier\", \"Accuracy\", 'Log Loss']\n",
        "log = pd.DataFrame(columns=log_cols)\n",
        "\n",
        "for clf in classifiers:\n",
        "    clf.fit(X_train, y_train)\n",
        "    name = clf.__class__.__name__\n",
        "    \n",
        "    print(\"=\"*30)\n",
        "    print(name)\n",
        "    try:\n",
        "        print('****Results****')\n",
        "        train_predictions = clf.predict(X_train)\n",
        "        acc = accuracy_score(y_train, train_predictions)\n",
        "        print(\"Accuracy:\\t{:.4%}\".format(acc))\n",
        "        print(\"ROC AUC:\\t\", roc_auc_score(y_train, train_predictions))\n",
        "        print(\"Precision:\\t\",precision_score(y_train, train_predictions))\n",
        "        print(\"F1 Score:\\t\",f1_score(y_train, train_predictions))\n",
        "        print(\"Log Loss:\\t\",log_loss(y_train, train_predictions))\n",
        "        print(\"Confusion Matrix: \\n\",confusion_matrix(y_train, train_predictions))\n",
        "        log_entry = pd.DataFrame([[name, acc*100, log_loss(y_train, train_predictions)]], columns=log_cols)\n",
        "        log = log.append(log_entry)\n",
        "    except Exception as e:\n",
        "        print (e)\n",
        "    \n",
        "print(\"=\"*30)"
      ]
    },
    {
      "cell_type": "code",
      "execution_count": null,
      "id": "8490f6e7",
      "metadata": {
        "colab": {
          "base_uri": "https://localhost:8080/",
          "height": 573
        },
        "id": "8490f6e7",
        "outputId": "8f544977-38e6-4ede-c3d2-71ca1a75473d"
      },
      "outputs": [
        {
          "data": {
            "image/png": "[encoded data removed]",
            "text/plain": [
              "<Figure size 432x288 with 1 Axes>"
            ]
          },
          "metadata": {
            "needs_background": "light"
          },
          "output_type": "display_data"
        },
        {
          "data": {
            "image/png": "[encoded data removed]",
            "text/plain": [
              "<Figure size 432x288 with 1 Axes>"
            ]
          },
          "metadata": {
            "needs_background": "light"
          },
          "output_type": "display_data"
        }
      ],
      "source": [
        "# Comparison between Classifier Accuracy and Log loss on train data\n",
        "sns.set_color_codes(\"muted\")\n",
        "sns.barplot(x='Accuracy', y='Classifier', data=log, color=\"b\")\n",
        "\n",
        "plt.xlabel('Accuracy %')\n",
        "plt.title('Classifier Accuracy')\n",
        "plt.savefig(\"TrainACC.png\")\n",
        "plt.show()\n",
        "\n",
        "\n",
        "sns.set_color_codes(\"muted\")\n",
        "sns.barplot(x='Log Loss', y='Classifier', data=log, color=\"g\")\n",
        "\n",
        "plt.xlabel('Log Loss')\n",
        "plt.title('Classifier Log Loss')\n",
        "plt.savefig(\"TrainLog.png\")\n",
        "plt.show()"
      ]
    },
    {
      "cell_type": "code",
      "execution_count": null,
      "id": "6e342556",
      "metadata": {
        "colab": {
          "base_uri": "https://localhost:8080/"
        },
        "id": "6e342556",
        "outputId": "90d65631-3013-4ae3-c6e2-7922bd42db4e"
      },
      "outputs": [
        {
          "name": "stdout",
          "output_type": "stream",
          "text": [
            "==============================\n",
            "DecisionTreeClassifier\n",
            "****Results****\n",
            "Accuracy:\t87.2830%\n",
            "ROC AUC:\t 0.7038846276559448\n",
            "Precision:\t 0.4733994589720469\n",
            "F1 Score:\t 0.4772727272727273\n",
            "Log Loss:\t 4.392354287188601\n",
            "Confusion Matrix: \n",
            " [[7368  584]\n",
            " [ 566  525]]\n",
            "==============================\n",
            "RandomForestClassifier\n",
            "****Results****\n",
            "Accuracy:\t90.2024%\n",
            "ROC AUC:\t 0.6932003916256475\n",
            "Precision:\t 0.6449787835926449\n",
            "F1 Score:\t 0.507230255839822\n",
            "Log Loss:\t 3.3840049303158075\n",
            "Confusion Matrix: \n",
            " [[7701  251]\n",
            " [ 635  456]]\n"
          ]
        },
        {
          "name": "stderr",
          "output_type": "stream",
          "text": [
            "C:\\Users\\kondr\\anaconda3\\lib\\site-packages\\sklearn\\linear_model\\_logistic.py:763: ConvergenceWarning: lbfgs failed to converge (status=1):\n",
            "STOP: TOTAL NO. of ITERATIONS REACHED LIMIT.\n",
            "\n",
            "Increase the number of iterations (max_iter) or scale the data as shown in:\n",
            "    https://scikit-learn.org/stable/modules/preprocessing.html\n",
            "Please also refer to the documentation for alternative solver options:\n",
            "    https://scikit-learn.org/stable/modules/linear_model.html#logistic-regression\n",
            "  n_iter_i = _check_optimize_result(\n"
          ]
        },
        {
          "name": "stdout",
          "output_type": "stream",
          "text": [
            "==============================\n",
            "LogisticRegression\n",
            "****Results****\n",
            "Accuracy:\t88.3999%\n",
            "ROC AUC:\t 0.5825152565254035\n",
            "Precision:\t 0.5580110497237569\n",
            "F1 Score:\t 0.27804542326221615\n",
            "Log Loss:\t 4.0065580420048805\n",
            "Confusion Matrix: \n",
            " [[7792  160]\n",
            " [ 889  202]]\n",
            "==============================\n",
            "GradientBoostingClassifier\n",
            "****Results****\n",
            "Accuracy:\t90.1360%\n",
            "ROC AUC:\t 0.6841239347173785\n",
            "Precision:\t 0.648729446935725\n",
            "F1 Score:\t 0.49318181818181817\n",
            "Log Loss:\t 3.4069198772151306\n",
            "Confusion Matrix: \n",
            " [[7717  235]\n",
            " [ 657  434]]\n",
            "==============================\n",
            "GaussianNB\n",
            "****Results****\n",
            "Accuracy:\t83.7333%\n",
            "ROC AUC:\t 0.6722339075700766\n",
            "Precision:\t 0.36151603498542273\n",
            "F1 Score:\t 0.40276086073893624\n",
            "Log Loss:\t 5.618405454413631\n",
            "Confusion Matrix: \n",
            " [[7076  876]\n",
            " [ 595  496]]\n",
            "==============================\n"
          ]
        }
      ],
      "source": [
        "# Testing all models\n",
        "classifiers = [\n",
        "    DecisionTreeClassifier(),\n",
        "    RandomForestClassifier(),\n",
        "    LogisticRegression(),\n",
        "    GradientBoostingClassifier(),\n",
        "    GaussianNB()]\n",
        "\n",
        "# Logging for Visual Comparison\n",
        "log_cols=[\"Classifier\", \"Accuracy\", 'Log Loss']\n",
        "log = pd.DataFrame(columns=log_cols)\n",
        "\n",
        "for clf in classifiers:\n",
        "    clf.fit(X_train, y_train)\n",
        "    name = clf.__class__.__name__\n",
        "    \n",
        "    print(\"=\"*30)\n",
        "    print(name)\n",
        "    try:\n",
        "        print('****Results****')\n",
        "        test_predictions = clf.predict(X_test)\n",
        "        acc = accuracy_score(y_test, test_predictions)\n",
        "        print(\"Accuracy:\\t{:.4%}\".format(acc))\n",
        "        print(\"ROC AUC:\\t\", roc_auc_score(y_test, test_predictions))\n",
        "        print(\"Precision:\\t\",precision_score(y_test, test_predictions))\n",
        "        print(\"F1 Score:\\t\",f1_score(y_test, test_predictions))\n",
        "        print(\"Log Loss:\\t\",log_loss(y_test, test_predictions))\n",
        "        print(\"Confusion Matrix: \\n\",confusion_matrix(y_test, test_predictions))\n",
        "        log_entry = pd.DataFrame([[name, acc*100, log_loss(y_test, test_predictions)]], columns=log_cols)\n",
        "        log = log.append(log_entry)\n",
        "    except Exception as e:\n",
        "        print (e)\n",
        "    \n",
        "print(\"=\"*30)"
      ]
    },
    {
      "cell_type": "code",
      "execution_count": null,
      "id": "05c46cba",
      "metadata": {
        "id": "05c46cba",
        "outputId": "3e00d0d8-73cb-4d90-9e35-9a8cbb380e0e"
      },
      "outputs": [
        {
          "data": {
            "image/png": "[encoded data removed]",
            "text/plain": [
              "<Figure size 432x288 with 1 Axes>"
            ]
          },
          "metadata": {
            "needs_background": "light"
          },
          "output_type": "display_data"
        },
        {
          "data": {
            "image/png": "[encoded data removed]",
            "text/plain": [
              "<Figure size 432x288 with 1 Axes>"
            ]
          },
          "metadata": {
            "needs_background": "light"
          },
          "output_type": "display_data"
        }
      ],
      "source": [
        "# Comparison between Classifier Accuracy and Log loss on test data\n",
        "sns.set_color_codes(\"muted\")\n",
        "sns.barplot(x='Accuracy', y='Classifier', data=log, color=\"b\")\n",
        "\n",
        "plt.xlabel('Accuracy %')\n",
        "plt.title('Classifier Accuracy')\n",
        "plt.savefig(\"TestACC.png\")\n",
        "plt.show()\n",
        "\n",
        "\n",
        "sns.set_color_codes(\"muted\")\n",
        "sns.barplot(x='Log Loss', y='Classifier', data=log, color=\"g\")\n",
        "\n",
        "plt.xlabel('Log Loss')\n",
        "plt.title('Classifier Log Loss')\n",
        "plt.savefig(\"TestLog.png\")\n",
        "plt.show()"
      ]
    },
    {
      "cell_type": "markdown",
      "id": "a2a10713",
      "metadata": {
        "id": "a2a10713"
      },
      "source": [
        "## SMOTE"
      ]
    },
    {
      "cell_type": "code",
      "execution_count": null,
      "id": "1bf9c15e",
      "metadata": {
        "id": "1bf9c15e"
      },
      "outputs": [],
      "source": [
        "#Implementing SMOTE (oversampling minority class in data)\n",
        "\n",
        "## Normalize data\n",
        "sc_X = StandardScaler()\n",
        "X_train_norm = sc_X.fit_transform(X_train)\n",
        "X_test_norm = sc_X.transform(X_test)\n",
        "\n",
        "## SMOTE only on training data\n",
        "# sm = SMOTE(sampling_strategy='all')\n",
        "sm = SMOTE(random_state = 42)\n",
        "X_train_smote, y_train_smote = sm.fit_resample(X_train_norm, y_train)"
      ]
    },
    {
      "cell_type": "markdown",
      "id": "0c248c5b",
      "metadata": {
        "id": "0c248c5b"
      },
      "source": [
        "## Hyperparameter Tuning"
      ]
    },
    {
      "cell_type": "code",
      "execution_count": null,
      "id": "1b45201d",
      "metadata": {
        "id": "1b45201d"
      },
      "outputs": [],
      "source": [
        "def met(model,X_train1,y_train1,X_test1,y_test1):\n",
        "  model.fit(X_train1,y_train1)\n",
        "\n",
        "  print('................Train .......................')\n",
        "\n",
        "  y_train_pred=model.predict(X_train1)\n",
        "  print(accuracy_score(y_train1, y_train_pred), \": is the accuracy score\")\n",
        "  print(roc_auc_score(y_train1, y_train_pred), \": is the roc auc score\")\n",
        "  print(precision_score(y_train1, y_train_pred), \": is the precision score\")\n",
        "  print(f1_score(y_train1, y_train_pred), \": is the f1 score\")\n",
        "  print(log_loss(y_train1, y_train_pred), \": is the logloss\")\n",
        "  print(confusion_matrix(y_train1, y_train_pred), \": is the confusion matrix\")\n",
        "\n",
        "  print('................Test.......................')\n",
        "\n",
        "  y_pred=model.predict(X_test1)\n",
        "  print(accuracy_score(y_test1, y_pred), \": is the accuracy score\")\n",
        "  print(roc_auc_score(y_test1, y_pred), \": is the roc auc score\")\n",
        "  print(precision_score(y_test1, y_pred), \": is the precision score\")\n",
        "  print(f1_score(y_test1, y_pred), \": is the f1 score\")\n",
        "  print(log_loss(y_test1, y_pred), \": is the logloss\")\n",
        "  print(confusion_matrix(y_test1, y_pred), \": is the confusion matrix\")"
      ]
    },
    {
      "cell_type": "markdown",
      "id": "65ebebef",
      "metadata": {
        "id": "65ebebef"
      },
      "source": [
        "### 1. Decision Tree"
      ]
    },
    {
      "cell_type": "code",
      "execution_count": null,
      "id": "c94e2c74",
      "metadata": {
        "id": "c94e2c74"
      },
      "outputs": [],
      "source": [
        "param_dict = {\n",
        "    \"criterion\": ['gini', 'entropy'],\n",
        "    \"max_depth\": range (1,10),\n",
        "    \"min_samples_split\":range (1,10),\n",
        "    \"min_samples_leaf\":range (1,5)\n",
        "}\n",
        "\n",
        "#After grid search on SMOTE\n",
        "# {'criterion': 'gini', 'max_depth': 9, 'min_samples_leaf': 1, 'min_samples_split': 4}\n",
        "#After grid search on SMOTE, balanced\n",
        "# {'criterion': 'gini', 'max_depth': 9, 'min_samples_leaf': 2, 'min_samples_split': 5}\n",
        "######\n"
      ]
    },
    {
      "cell_type": "code",
      "execution_count": null,
      "id": "aeb4653f",
      "metadata": {
        "id": "aeb4653f",
        "outputId": "86ba809c-7250-4361-c1a7-52ea1d533954"
      },
      "outputs": [
        {
          "name": "stdout",
          "output_type": "stream",
          "text": [
            "Fitting 5 folds for each of 648 candidates, totalling 3240 fits\n"
          ]
        },
        {
          "name": "stderr",
          "output_type": "stream",
          "text": [
            "C:\\Users\\kondr\\anaconda3\\lib\\site-packages\\sklearn\\model_selection\\_search.py:918: UserWarning: One or more of the test scores are non-finite: [       nan 0.72411636 0.72411636 0.72411636 0.72411636 0.72411636\n",
            " 0.72411636 0.72411636 0.72411636        nan 0.72411636 0.72411636\n",
            " 0.72411636 0.72411636 0.72411636 0.72411636 0.72411636 0.72411636\n",
            "        nan 0.72411636 0.72411636 0.72411636 0.72411636 0.72411636\n",
            " 0.72411636 0.72411636 0.72411636        nan 0.72411636 0.72411636\n",
            " 0.72411636 0.72411636 0.72411636 0.72411636 0.72411636 0.72411636\n",
            "        nan 0.79633908 0.79633908 0.79633908 0.79633908 0.79633908\n",
            " 0.79633908 0.79633908 0.79633908        nan 0.79633908 0.79633908\n",
            " 0.79633908 0.79633908 0.79633908 0.79633908 0.79633908 0.79633908\n",
            "        nan 0.79633908 0.79633908 0.79633908 0.79633908 0.79633908\n",
            " 0.79633908 0.79633908 0.79633908        nan 0.79633908 0.79633908\n",
            " 0.79633908 0.79633908 0.79633908 0.79633908 0.79633908 0.79633908\n",
            "        nan 0.84122798 0.84122798 0.84122798 0.84122798 0.84122798\n",
            " 0.84122798 0.84122798 0.84122798        nan 0.84122798 0.84122798\n",
            " 0.84122798 0.84122798 0.84122798 0.84122798 0.84122798 0.84122798\n",
            "        nan 0.84122798 0.84122798 0.84122798 0.84122798 0.84122798\n",
            " 0.84122798 0.84122798 0.84122798        nan 0.84122798 0.84122798\n",
            " 0.84122798 0.84122798 0.84122798 0.84122798 0.84122798 0.84122798\n",
            "        nan 0.87345117 0.87345117 0.87345117 0.87345117 0.87345117\n",
            " 0.87345117 0.87345117 0.87345117        nan 0.87345117 0.87345117\n",
            " 0.87345117 0.87345117 0.87345117 0.87345117 0.87345117 0.87345117\n",
            "        nan 0.87345117 0.87345117 0.87345117 0.87345117 0.87345117\n",
            " 0.87345117 0.87345117 0.87345117        nan 0.87345117 0.87345117\n",
            " 0.87345117 0.87345117 0.87345117 0.87345117 0.87345117 0.87345117\n",
            "        nan 0.89641074 0.89641074 0.89637702 0.89641074 0.89637702\n",
            " 0.89637702 0.89637702 0.89637702        nan 0.89637702 0.89641074\n",
            " 0.89641074 0.89641074 0.89637702 0.89637702 0.89641074 0.89641074\n",
            "        nan 0.89637702 0.89641074 0.89637702 0.89641074 0.89637702\n",
            " 0.89641074 0.89641074 0.89637702        nan 0.89639355 0.89642726\n",
            " 0.89639355 0.89639355 0.89642726 0.89642726 0.89639355 0.89642726\n",
            "        nan 0.91981092 0.91971833 0.91986125 0.91978077 0.91986125\n",
            " 0.91977865 0.91976437 0.91986666        nan 0.9198292  0.91990281\n",
            " 0.91978011 0.91984937 0.91987952 0.91990996 0.91987781 0.91981543\n",
            "        nan 0.91990784 0.9199009  0.91990415 0.91990756 0.91990767\n",
            " 0.9198475  0.91988004 0.91988014        nan 0.91995814 0.91991931\n",
            " 0.91992207 0.91990774 0.91990469 0.91990774 0.91992533 0.91992695\n",
            "        nan 0.92920427 0.92920464 0.92920794 0.92923141 0.92919935\n",
            " 0.92913463 0.92916257 0.92925077        nan 0.92920896 0.92912434\n",
            " 0.92918381 0.92915188 0.92917661 0.92918055 0.92917323 0.92920875\n",
            "        nan 0.92929324 0.92924489 0.92928866 0.92926362 0.92925955\n",
            " 0.92923376 0.92925742 0.92928933        nan 0.92934424 0.92935933\n",
            " 0.92934841 0.92933166 0.92934761 0.92933194 0.92937374 0.92932687\n",
            "        nan 0.93678843 0.93685521 0.93683722 0.93686505 0.93680379\n",
            " 0.93683282 0.93682262 0.93684477        nan 0.93671768 0.93667277\n",
            " 0.93676179 0.93675261 0.9366558  0.93679054 0.93684471 0.93699683\n",
            "        nan 0.93708863 0.93704682 0.9369389  0.93701419 0.93703787\n",
            " 0.93707606 0.93700696 0.93705904        nan 0.9371709  0.93714036\n",
            " 0.93724984 0.93722272 0.93731285 0.9372944  0.93721296 0.93719011\n",
            "        nan 0.94170006 0.9417699  0.94181841 0.94196383 0.94197962\n",
            " 0.94187444 0.94195679 0.94218442        nan 0.94196297 0.94216271\n",
            " 0.94218226 0.9419532  0.9420399  0.94190853 0.94226242 0.94200277\n",
            "        nan 0.94218845 0.94233528 0.94249219 0.94247925 0.94229847\n",
            " 0.94234347 0.94244467 0.94251034        nan 0.94308101 0.94295877\n",
            " 0.943083   0.94294036 0.9430517  0.94293601 0.9429407  0.94283663\n",
            "        nan 0.71923678 0.71923678 0.71923678 0.71923678 0.71923678\n",
            " 0.71923678 0.71923678 0.71923678        nan 0.71923678 0.71923678\n",
            " 0.71923678 0.71923678 0.71923678 0.71923678 0.71923678 0.71923678\n",
            "        nan 0.71923678 0.71923678 0.71923678 0.71923678 0.71923678\n",
            " 0.71923678 0.71923678 0.71923678        nan 0.71923678 0.71923678\n",
            " 0.71923678 0.71923678 0.71923678 0.71923678 0.71923678 0.71923678\n",
            "        nan 0.79368519 0.79368519 0.79368519 0.79368519 0.79368519\n",
            " 0.79368519 0.79368519 0.79368519        nan 0.79368519 0.79368519\n",
            " 0.79368519 0.79368519 0.79368519 0.79368519 0.79368519 0.79368519\n",
            "        nan 0.79368519 0.79368519 0.79368519 0.79368519 0.79368519\n",
            " 0.79368519 0.79368519 0.79368519        nan 0.79368519 0.79368519\n",
            " 0.79368519 0.79368519 0.79368519 0.79368519 0.79368519 0.79368519\n",
            "        nan 0.83923205 0.83923205 0.83923205 0.83923205 0.83923205\n",
            " 0.83923205 0.83923205 0.83923205        nan 0.83923205 0.83923205\n",
            " 0.83923205 0.83923205 0.83923205 0.83923205 0.83923205 0.83923205\n",
            "        nan 0.83923205 0.83923205 0.83923205 0.83923205 0.83923205\n",
            " 0.83923205 0.83923205 0.83923205        nan 0.83923205 0.83923205\n",
            " 0.83923205 0.83923205 0.83923205 0.83923205 0.83923205 0.83923205\n",
            "        nan 0.86791668 0.86791668 0.86791668 0.86791668 0.86791668\n",
            " 0.86791668 0.86791668 0.86791668        nan 0.86791668 0.86791668\n",
            " 0.86791668 0.86791668 0.86791668 0.86791668 0.86791668 0.86791668\n",
            "        nan 0.86791668 0.86791668 0.86791668 0.86791668 0.86791668\n",
            " 0.86791668 0.86791668 0.86791668        nan 0.86791668 0.86791668\n",
            " 0.86791668 0.86791668 0.86791668 0.86791668 0.86791668 0.86791668\n",
            "        nan 0.89457851 0.89457851 0.89457851 0.89457851 0.89457851\n",
            " 0.89457851 0.89457851 0.89457851        nan 0.89457851 0.89457851\n",
            " 0.89457851 0.89457851 0.89457851 0.89457851 0.89457851 0.89457851\n",
            "        nan 0.89457851 0.89457851 0.89457851 0.89457851 0.89457851\n",
            " 0.89457851 0.89457851 0.89457851        nan 0.89474112 0.89474112\n",
            " 0.89474112 0.89474112 0.89474112 0.89474112 0.89474112 0.89474112\n",
            "        nan 0.91863652 0.91867746 0.91866648 0.91866648 0.91863652\n",
            " 0.91863652 0.91867746 0.9186475         nan 0.9186475  0.91866648\n",
            " 0.91863652 0.91866648 0.91867746 0.91867746 0.91863652 0.91866648\n",
            "        nan 0.91866489 0.91865389 0.91866489 0.91866489 0.91866489\n",
            " 0.91865389 0.91865389 0.91866489        nan 0.9186834  0.9186834\n",
            " 0.91871697 0.9186834  0.91871697 0.9186834  0.9186834  0.91871697\n",
            "        nan 0.92899847 0.92897112 0.92902426 0.92906179 0.92900387\n",
            " 0.92903237 0.92902217 0.92906063        nan 0.92908557 0.92911614\n",
            " 0.92908557 0.92912518 0.92908674 0.92912634 0.92912518 0.92909577\n",
            "        nan 0.92914747 0.92916365 0.9291648  0.9291648  0.92914631\n",
            " 0.92915344 0.92915344 0.92914631        nan 0.92922614 0.92922316\n",
            " 0.92923544 0.92923727 0.92922316 0.92922498 0.92922432 0.92922498\n",
            "        nan 0.93649273 0.93650398 0.93639918 0.93638739 0.93651918\n",
            " 0.936373   0.93652666 0.93643021        nan 0.93662235 0.93659095\n",
            " 0.93652383 0.93654799 0.93657916 0.93654484 0.93659925 0.93653106\n",
            "        nan 0.93653627 0.93655886 0.93664514 0.93657306 0.93659806\n",
            " 0.93653401 0.93660838 0.93659577        nan 0.93673343 0.9367411\n",
            " 0.93683528 0.93681815 0.93670641 0.93673478 0.93675383 0.9367491\n",
            "        nan 0.94281295 0.94288001 0.94309249 0.94299369 0.94303841\n",
            " 0.94313994 0.94312447 0.94321904        nan 0.94329599 0.94321634\n",
            " 0.94300218 0.94331039 0.94294853 0.94327429 0.94339662 0.94335347\n",
            "        nan 0.94322764 0.94324264 0.94334673 0.94329604 0.94321179\n",
            " 0.94330533 0.94332736 0.94349073        nan 0.943555   0.94369434\n",
            " 0.94361175 0.94361273 0.94366332 0.94360562 0.94353352 0.9435153 ]\n",
            "  warnings.warn(\n"
          ]
        },
        {
          "data": {
            "text/plain": [
              "GridSearchCV(cv=5, estimator=DecisionTreeClassifier(class_weight='balanced'),\n",
              "             n_jobs=-1,\n",
              "             param_grid={'criterion': ['gini', 'entropy'],\n",
              "                         'max_depth': range(1, 10),\n",
              "                         'min_samples_leaf': range(1, 5),\n",
              "                         'min_samples_split': range(1, 10)},\n",
              "             scoring='roc_auc', verbose=1)"
            ]
          },
          "execution_count": 239,
          "metadata": {},
          "output_type": "execute_result"
        }
      ],
      "source": [
        "grid = GridSearchCV(estimator=DecisionTreeClassifier(class_weight = \"balanced\"),\n",
        "                    param_grid=param_dict,\n",
        "                    cv = 5 ,\n",
        "                    verbose = 1 ,\n",
        "                    scoring = 'roc_auc',\n",
        "                    n_jobs=-1)\n",
        "\n",
        "grid.fit(X_train_smote, y_train_smote)"
      ]
    },
    {
      "cell_type": "code",
      "execution_count": null,
      "id": "912f2544",
      "metadata": {
        "id": "912f2544",
        "outputId": "f0689489-f0db-41b3-c337-8a74b9489fb1"
      },
      "outputs": [
        {
          "name": "stdout",
          "output_type": "stream",
          "text": [
            "Best Params:  {'criterion': 'entropy', 'max_depth': 9, 'min_samples_leaf': 4, 'min_samples_split': 3}\n"
          ]
        }
      ],
      "source": [
        "print('Best Params: ', grid.best_params_)"
      ]
    },
    {
      "cell_type": "code",
      "execution_count": null,
      "id": "acb3d3ed",
      "metadata": {
        "id": "acb3d3ed",
        "outputId": "58e2bb5c-733c-4847-d313-3834a9951978"
      },
      "outputs": [
        {
          "name": "stdout",
          "output_type": "stream",
          "text": [
            "Best Score:  0.9436943372095106\n"
          ]
        }
      ],
      "source": [
        "print('Best Score: ', grid.best_score_)"
      ]
    },
    {
      "cell_type": "code",
      "execution_count": null,
      "id": "885cf58f",
      "metadata": {
        "id": "885cf58f"
      },
      "outputs": [],
      "source": [
        "# Best Params:  {'criterion': 'entropy', 'max_depth': 9, 'min_samples_leaf': 4, 'min_samples_split': 3}"
      ]
    },
    {
      "cell_type": "code",
      "execution_count": null,
      "id": "ab62b4cd",
      "metadata": {
        "id": "ab62b4cd"
      },
      "outputs": [],
      "source": [
        "model = DecisionTreeClassifier(criterion= 'entropy',\n",
        "                               max_depth= 9,\n",
        "                               min_samples_leaf= 4,\n",
        "                               min_samples_split= 3,\n",
        "                               class_weight = \"balanced\"\n",
        "                              )"
      ]
    },
    {
      "cell_type": "code",
      "execution_count": null,
      "id": "72270f65",
      "metadata": {
        "id": "72270f65",
        "outputId": "9f8153fa-3fa0-4bb1-8e8f-ff7f0335837f"
      },
      "outputs": [
        {
          "name": "stdout",
          "output_type": "stream",
          "text": [
            "................Train .......................\n",
            "0.8784641851736003 : is the accuracy score\n",
            "0.8784641851736003 : is the roc auc score\n",
            "0.8764740657767821 : is the precision score\n",
            "0.8787845700291691 : is the f1 score\n",
            "4.197747978834045 : is the logloss\n",
            "[[28000  3970]\n",
            " [ 3801 28169]] : is the confusion matrix\n",
            "................Test.......................\n",
            "0.8517085038151057 : is the accuracy score\n",
            "0.8101050159803921 : is the roc auc score\n",
            "0.43414120126448896 : is the precision score\n",
            "0.551354968216795 : is the f1 score\n",
            "5.121901792902274 : is the logloss\n",
            "[[6878 1074]\n",
            " [ 267  824]] : is the confusion matrix\n"
          ]
        }
      ],
      "source": [
        "met(model, X_train_smote, y_train_smote, X_test_norm, y_test)"
      ]
    },
    {
      "cell_type": "markdown",
      "id": "e9a5c937",
      "metadata": {
        "id": "e9a5c937"
      },
      "source": [
        "### 2. Random Forest"
      ]
    },
    {
      "cell_type": "code",
      "execution_count": null,
      "id": "f738d11f",
      "metadata": {
        "id": "f738d11f"
      },
      "outputs": [],
      "source": [
        "param_grid = {\n",
        "    'bootstrap': [True],\n",
        "    'max_depth': [15, 20],\n",
        "    'min_samples_leaf': [3,4],\n",
        "    'min_samples_split': [3,4],\n",
        "    'n_estimators': [1350, 1400, 1450, 1500, 1550, 1600, 1650]\n",
        "}\n",
        "\n",
        "# Create a based model\n",
        "rf = RandomForestClassifier(max_features = 4, class_weight = \"balanced\")\n",
        "\n",
        "# Instantiate the grid search model\n",
        "grid = GridSearchCV(estimator = rf,\n",
        "                           param_grid = param_grid, \n",
        "                           cv = 5,\n",
        "                           scoring = 'roc_auc',\n",
        "                           n_jobs = -1, \n",
        "                           verbose = 1)\n",
        "\n",
        "#Before\n",
        "#  {'bootstrap': True, 'max_depth': 15, 'max_features': 3, 'min_samples_leaf': 3, 'min_samples_split': 3, 'n_estimators': 1150}\n",
        "#No tuning\n",
        "#  {'bootstrap': True, 'max_depth': 15, 'max_features': 4, 'min_samples_leaf': 4, 'min_samples_split': 4, 'n_estimators': 1300}\n",
        "# best score 0.8943\n",
        "#After final tuning\n",
        "# {'bootstrap': True, 'max_depth': 15, 'max_features': 3, 'min_samples_leaf': 3, 'min_samples_split': 6, 'n_estimators': 1350}"
      ]
    },
    {
      "cell_type": "code",
      "execution_count": null,
      "id": "ddeb3be9",
      "metadata": {
        "id": "ddeb3be9",
        "outputId": "d260193b-9ac5-4ee8-bc0a-b3fd8313a7ad"
      },
      "outputs": [
        {
          "name": "stdout",
          "output_type": "stream",
          "text": [
            "Fitting 5 folds for each of 56 candidates, totalling 280 fits\n"
          ]
        },
        {
          "data": {
            "text/plain": [
              "GridSearchCV(cv=5,\n",
              "             estimator=RandomForestClassifier(class_weight='balanced',\n",
              "                                              max_features=4),\n",
              "             n_jobs=-1,\n",
              "             param_grid={'bootstrap': [True], 'max_depth': [15, 20],\n",
              "                         'min_samples_leaf': [3, 4],\n",
              "                         'min_samples_split': [3, 4],\n",
              "                         'n_estimators': [1350, 1400, 1450, 1500, 1550, 1600,\n",
              "                                          1650]},\n",
              "             scoring='roc_auc', verbose=1)"
            ]
          },
          "execution_count": 246,
          "metadata": {},
          "output_type": "execute_result"
        }
      ],
      "source": [
        "grid.fit(X_train_smote, y_train_smote)"
      ]
    },
    {
      "cell_type": "code",
      "execution_count": null,
      "id": "861e7654",
      "metadata": {
        "id": "861e7654",
        "outputId": "53bb113d-e9fe-4a36-c6d9-cd3840561544"
      },
      "outputs": [
        {
          "name": "stdout",
          "output_type": "stream",
          "text": [
            "Best Score:  0.9885726951751079\n"
          ]
        }
      ],
      "source": [
        "print('Best Score: ', grid.best_score_)"
      ]
    },
    {
      "cell_type": "code",
      "execution_count": null,
      "id": "f2e23ce7",
      "metadata": {
        "id": "f2e23ce7",
        "outputId": "60eacdfe-1df6-4844-c096-e0ec6021d884"
      },
      "outputs": [
        {
          "name": "stdout",
          "output_type": "stream",
          "text": [
            "Best Params:  {'bootstrap': True, 'max_depth': 20, 'min_samples_leaf': 3, 'min_samples_split': 4, 'n_estimators': 1450}\n"
          ]
        }
      ],
      "source": [
        "print('Best Params: ', grid.best_params_)"
      ]
    },
    {
      "cell_type": "code",
      "execution_count": null,
      "id": "67becd6d",
      "metadata": {
        "id": "67becd6d"
      },
      "outputs": [],
      "source": [
        "# Best Params:  {'bootstrap': True, 'max_depth': 20, 'min_samples_leaf': 3, 'min_samples_split': 4, 'n_estimators': 1450}"
      ]
    },
    {
      "cell_type": "code",
      "execution_count": null,
      "id": "ef208870",
      "metadata": {
        "id": "ef208870"
      },
      "outputs": [],
      "source": [
        "rfc = RandomForestClassifier(bootstrap = True,\n",
        "                               max_depth = 20,\n",
        "                               max_features = 4, \n",
        "                               min_samples_leaf = 3, \n",
        "                               min_samples_split = 4, \n",
        "                               n_estimators = 1450,\n",
        "                            class_weight = \"balanced\")"
      ]
    },
    {
      "cell_type": "code",
      "execution_count": null,
      "id": "775e9c83",
      "metadata": {
        "id": "775e9c83",
        "outputId": "0a28a132-3985-4608-d08f-dcf8d682f76b"
      },
      "outputs": [
        {
          "name": "stdout",
          "output_type": "stream",
          "text": [
            "................Train .......................\n",
            "0.9824679386925242 : is the accuracy score\n",
            "0.9824679386925242 : is the roc auc score\n",
            "0.9742935334091818 : is the precision score\n",
            "0.9826177296056814 : is the f1 score\n",
            "0.6055463997833371 : is the logloss\n",
            "[[31134   836]\n",
            " [  285 31685]] : is the confusion matrix\n",
            "................Test.......................\n",
            "0.891850049762247 : is the accuracy score\n",
            "0.809204389951072 : is the roc auc score\n",
            "0.5399293286219081 : is the precision score\n",
            "0.6097366320830008 : is the f1 score\n",
            "3.735424510908958 : is the logloss\n",
            "[[7301  651]\n",
            " [ 327  764]] : is the confusion matrix\n"
          ]
        }
      ],
      "source": [
        "met(rfc, X_train_smote, y_train_smote, X_test_norm, y_test)"
      ]
    },
    {
      "cell_type": "markdown",
      "id": "60c03b6b",
      "metadata": {
        "id": "60c03b6b"
      },
      "source": [
        "### 3. Logistic Regression"
      ]
    },
    {
      "cell_type": "code",
      "execution_count": null,
      "id": "pHzFTQK6tdlm",
      "metadata": {
        "id": "pHzFTQK6tdlm"
      },
      "outputs": [],
      "source": [
        "penalty = ['l1', 'l2', 'elasticnet']\n",
        "C = [0.0001, 0.001, 0.01, 0.1, 1, 10, 100, 1000]\n",
        "solver = ['liblinear', 'saga', 'lbfgs']\n",
        "\n",
        "param_grid = dict(penalty=penalty,\n",
        "                  C=C,\n",
        "                  solver=solver)\n",
        "\n",
        "grid = GridSearchCV(estimator=LogisticRegression(class_weight = \"balanced\"),\n",
        "                    param_grid=param_grid,\n",
        "                    scoring='roc_auc',\n",
        "                    verbose=1,\n",
        "                    n_jobs=-1)\n",
        "\n",
        "#Parameter with smote and balanced data\n",
        "#  {'C': 0.0001, 'penalty': 'l2', 'solver': 'liblinear'}"
      ]
    },
    {
      "cell_type": "code",
      "execution_count": null,
      "id": "vjGnFHYztdjW",
      "metadata": {
        "colab": {
          "base_uri": "https://localhost:8080/"
        },
        "id": "vjGnFHYztdjW",
        "outputId": "aec05232-f534-49da-915b-e299595694da"
      },
      "outputs": [
        {
          "name": "stdout",
          "output_type": "stream",
          "text": [
            "Fitting 5 folds for each of 72 candidates, totalling 360 fits\n"
          ]
        },
        {
          "name": "stderr",
          "output_type": "stream",
          "text": [
            "C:\\Users\\kondr\\anaconda3\\lib\\site-packages\\sklearn\\model_selection\\_search.py:918: UserWarning: One or more of the test scores are non-finite: [0.8177281  0.8177281         nan 0.8766393  0.8762509  0.87624899\n",
            "        nan        nan        nan 0.88101871 0.88112606        nan\n",
            " 0.8816166  0.88136151 0.88136282        nan        nan        nan\n",
            " 0.88238098 0.88233747        nan 0.8823097  0.88226541 0.88226645\n",
            "        nan        nan        nan 0.88237432 0.88236831        nan\n",
            " 0.88235253 0.88234633 0.88234834        nan        nan        nan\n",
            " 0.88235835 0.88235703        nan 0.88235601 0.88235493 0.88235554\n",
            "        nan        nan        nan 0.88235631 0.88235563        nan\n",
            " 0.88235626 0.88235567 0.88235632        nan        nan        nan\n",
            " 0.88235644 0.88235571        nan 0.88235624 0.88235565 0.88235644\n",
            "        nan        nan        nan 0.88235611 0.88235699        nan\n",
            " 0.88235624 0.88235615 0.88235646        nan        nan        nan]\n",
            "  warnings.warn(\n"
          ]
        }
      ],
      "source": [
        "grid = grid.fit(X_train_smote, y_train_smote)"
      ]
    },
    {
      "cell_type": "code",
      "execution_count": null,
      "id": "T3G8xdk9y8kv",
      "metadata": {
        "id": "T3G8xdk9y8kv",
        "outputId": "b99bbefe-6102-4829-a5f5-64de6a5f9973"
      },
      "outputs": [
        {
          "name": "stdout",
          "output_type": "stream",
          "text": [
            "Best Score:  0.8823809788442383\n"
          ]
        }
      ],
      "source": [
        "print('Best Score: ', grid.best_score_)"
      ]
    },
    {
      "cell_type": "code",
      "execution_count": null,
      "id": "Mc1Kle8MtdbJ",
      "metadata": {
        "id": "Mc1Kle8MtdbJ",
        "outputId": "e15dc071-dab9-4e76-94a3-469f02ddfce1"
      },
      "outputs": [
        {
          "name": "stdout",
          "output_type": "stream",
          "text": [
            "Best Params:  {'C': 0.01, 'penalty': 'l1', 'solver': 'liblinear'}\n"
          ]
        }
      ],
      "source": [
        "print('Best Params: ', grid.best_params_)"
      ]
    },
    {
      "cell_type": "code",
      "execution_count": null,
      "id": "Er9a4nQdtdYq",
      "metadata": {
        "id": "Er9a4nQdtdYq"
      },
      "outputs": [],
      "source": [
        "model = LogisticRegression(C=0.01, class_weight=\"balanced\", penalty='l1', solver='liblinear')"
      ]
    },
    {
      "cell_type": "code",
      "execution_count": null,
      "id": "98d6a7d7",
      "metadata": {
        "id": "98d6a7d7",
        "outputId": "c5b4a9b7-b858-4821-bbcf-702426c16522"
      },
      "outputs": [
        {
          "name": "stdout",
          "output_type": "stream",
          "text": [
            "................Train .......................\n",
            "0.8051767281826713 : is the accuracy score\n",
            "0.8051767281826713 : is the roc auc score\n",
            "0.8066249725007071 : is the precision score\n",
            "0.80471554656759 : is the f1 score\n",
            "6.729034367757122 : is the logloss\n",
            "[[25817  6153]\n",
            " [ 6304 25666]] : is the confusion matrix\n",
            "................Test.......................\n",
            "0.8019462567731948 : is the accuracy score\n",
            "0.794068201601912 : is the roc auc score\n",
            "0.35477178423236516 : is the precision score\n",
            "0.4884318766066838 : is the f1 score\n",
            "6.840671447228683 : is the logloss\n",
            "[[6397 1555]\n",
            " [ 236  855]] : is the confusion matrix\n"
          ]
        }
      ],
      "source": [
        "met(model, X_train_smote, y_train_smote, X_test_norm, y_test)"
      ]
    },
    {
      "cell_type": "markdown",
      "id": "a22d29ce",
      "metadata": {
        "id": "a22d29ce"
      },
      "source": [
        "### 4. XGboost"
      ]
    },
    {
      "cell_type": "code",
      "execution_count": null,
      "id": "1d325075",
      "metadata": {
        "id": "1d325075"
      },
      "outputs": [],
      "source": [
        "from xgboost import XGBClassifier\n",
        "estimator = XGBClassifier(\n",
        "    objective= 'binary:logistic',\n",
        "    njob = -1,\n",
        "    cv = 5,\n",
        "    scoring = 'roc_auc',\n",
        "    seed=42,\n",
        ")"
      ]
    },
    {
      "cell_type": "code",
      "execution_count": null,
      "id": "090f039e",
      "metadata": {
        "id": "090f039e",
        "outputId": "9aaab32e-0726-499d-aac7-d07a499f4cf2"
      },
      "outputs": [
        {
          "data": {
            "text/plain": [
              "0    39922\n",
              "1     5289\n",
              "Name: y, dtype: int64"
            ]
          },
          "execution_count": 259,
          "metadata": {},
          "output_type": "execute_result"
        }
      ],
      "source": [
        "df['y'].value_counts()"
      ]
    },
    {
      "cell_type": "code",
      "execution_count": null,
      "id": "9a1a056c",
      "metadata": {
        "id": "9a1a056c"
      },
      "outputs": [],
      "source": [
        "#Calculating values for scale_pos_weight\n",
        "# FORMULA: scale_pos_weight = count(negative class)/count(positive class)\n",
        "\n",
        "#scale_pos_weight=7.5481 #count(negative class)/count(positive class)\n",
        "#scale_pos_weight=2.7473 #sqrt(count(negative class/count(positive class))"
      ]
    },
    {
      "cell_type": "code",
      "execution_count": null,
      "id": "62442191",
      "metadata": {
        "id": "62442191"
      },
      "outputs": [],
      "source": [
        "parameters = {\n",
        "    'max_depth': range (2, 10, 1),\n",
        "    'n_estimators': range(60, 220, 40),\n",
        "    'learning_rate': [0.1, 0.01, 0.05],\n",
        "    'scale_pos_weight': [7.5481, 2.7473]\n",
        "}"
      ]
    },
    {
      "cell_type": "code",
      "execution_count": null,
      "id": "9fe35d0b",
      "metadata": {
        "id": "9fe35d0b"
      },
      "outputs": [],
      "source": [
        "grid = GridSearchCV(\n",
        "    estimator=estimator,\n",
        "    param_grid=parameters,\n",
        "    verbose=True\n",
        ")"
      ]
    },
    {
      "cell_type": "code",
      "execution_count": null,
      "id": "2476021e",
      "metadata": {
        "id": "2476021e"
      },
      "outputs": [],
      "source": [
        "grid.fit(X_train_smote, y_train_smote)"
      ]
    },
    {
      "cell_type": "code",
      "execution_count": null,
      "id": "97eaaf75",
      "metadata": {
        "id": "97eaaf75",
        "outputId": "2f20f6e9-55e2-42a8-8760-db0d4806e311"
      },
      "outputs": [
        {
          "name": "stdout",
          "output_type": "stream",
          "text": [
            "Best Score:  0.9237879261807944\n"
          ]
        }
      ],
      "source": [
        "print('Best Score: ', grid.best_score_)"
      ]
    },
    {
      "cell_type": "code",
      "execution_count": null,
      "id": "f7e0d368",
      "metadata": {
        "id": "f7e0d368",
        "outputId": "63f42d50-fd9e-4935-d418-eb932f856210"
      },
      "outputs": [
        {
          "name": "stdout",
          "output_type": "stream",
          "text": [
            "Best Params:  {'learning_rate': 0.05, 'max_depth': 9, 'n_estimators': 140, 'scale_pos_weight': 2.7473}\n"
          ]
        }
      ],
      "source": [
        "print('Best Params: ', grid.best_params_)"
      ]
    },
    {
      "cell_type": "code",
      "execution_count": null,
      "id": "39215139",
      "metadata": {
        "id": "39215139"
      },
      "outputs": [],
      "source": [
        "# Best Params:  {'learning_rate': 0.05, 'max_depth': 9, 'n_estimators': 140, 'scale_pos_weight': 2.7473}"
      ]
    },
    {
      "cell_type": "code",
      "execution_count": null,
      "id": "6d0a2b37",
      "metadata": {
        "id": "6d0a2b37",
        "outputId": "da26560b-312b-4037-d098-f30ae4b13a74"
      },
      "outputs": [
        {
          "data": {
            "text/plain": [
              "XGBClassifier(base_score=0.5, booster='gbtree', colsample_bylevel=1,\n",
              "              colsample_bynode=1, colsample_bytree=1, cv=5,\n",
              "              enable_categorical=False, gamma=0, gpu_id=-1,\n",
              "              importance_type=None, interaction_constraints='',\n",
              "              learning_rate=0.05, max_delta_step=0, max_depth=9,\n",
              "              min_child_weight=1, missing=nan, monotone_constraints='()',\n",
              "              n_estimators=140, n_jobs=16, njob=-1, num_parallel_tree=1,\n",
              "              predictor='auto', random_state=42, reg_alpha=0, reg_lambda=1,\n",
              "              scale_pos_weight=2.7473, scoring='roc_auc', seed=42, subsample=1,\n",
              "              tree_method='exact', ...)"
            ]
          },
          "execution_count": 267,
          "metadata": {},
          "output_type": "execute_result"
        }
      ],
      "source": [
        "grid.best_estimator_"
      ]
    },
    {
      "cell_type": "code",
      "execution_count": null,
      "id": "be49999b",
      "metadata": {
        "id": "be49999b"
      },
      "outputs": [],
      "source": [
        "model = XGBClassifier(cv=5,learning_rate=0.05, max_depth=9, n_estimators=140, njob=-1, scoring='roc_auc',\n",
        "              seed=42, class_weight=\"balanced\", scale_pos_weight= 2.7473)"
      ]
    },
    {
      "cell_type": "code",
      "execution_count": null,
      "id": "a845c544",
      "metadata": {
        "id": "a845c544",
        "outputId": "ad0e2eeb-7ebc-488b-9e51-c3884b155a3e"
      },
      "outputs": [
        {
          "name": "stdout",
          "output_type": "stream",
          "text": [
            "[21:33:19] WARNING: C:/Users/Administrator/workspace/xgboost-win64_release_1.5.1/src/learner.cc:576: \n",
            "Parameters: { \"class_weight\", \"cv\", \"njob\", \"scoring\" } might not be used.\n",
            "\n",
            "  This could be a false alarm, with some parameters getting used by language bindings but\n",
            "  then being mistakenly passed down to XGBoost core, or some parameter actually being used\n",
            "  but getting flagged wrongly here. Please open an issue if you find any such cases.\n",
            "\n",
            "\n",
            "[21:33:20] WARNING: C:/Users/Administrator/workspace/xgboost-win64_release_1.5.1/src/learner.cc:1115: Starting in XGBoost 1.3.0, the default evaluation metric used with the objective 'binary:logistic' was changed from 'error' to 'logloss'. Explicitly set eval_metric if you'd like to restore the old behavior.\n",
            "................Train .......................\n",
            "0.954426024397873 : is the accuracy score\n",
            "0.954426024397873 : is the roc auc score\n",
            "0.9220801859384079 : is the precision score\n",
            "0.9561078475674046 : is the f1 score\n",
            "1.5741028923221387 : is the logloss\n",
            "[[29288  2682]\n",
            " [  232 31738]] : is the confusion matrix\n",
            "................Test.......................\n",
            "0.8778060378193078 : is the accuracy score\n",
            "0.8443195262316336 : is the roc auc score\n",
            "0.4960227272727273 : is the precision score\n",
            "0.6124166958961769 : is the f1 score\n",
            "4.220508366614718 : is the logloss\n",
            "[[7065  887]\n",
            " [ 218  873]] : is the confusion matrix\n"
          ]
        }
      ],
      "source": [
        "met(model, X_train_smote, y_train_smote, X_test_norm, y_test)"
      ]
    },
    {
      "cell_type": "markdown",
      "id": "d521c25a",
      "metadata": {
        "id": "d521c25a"
      },
      "source": [
        "### 5. Naive Bayes"
      ]
    },
    {
      "cell_type": "code",
      "execution_count": null,
      "id": "f91c7298",
      "metadata": {
        "id": "f91c7298"
      },
      "outputs": [],
      "source": [
        "param_grid_nb = {\n",
        "    'var_smoothing': np.logspace(0,-9, num=100)\n",
        "}"
      ]
    },
    {
      "cell_type": "code",
      "execution_count": null,
      "id": "686e6c4c",
      "metadata": {
        "id": "686e6c4c"
      },
      "outputs": [],
      "source": [
        "nbModel_grid = GridSearchCV(estimator=GaussianNB(),\n",
        "                            param_grid=param_grid_nb, \n",
        "                            scoring = 'roc_auc',\n",
        "                            verbose=1, \n",
        "                            cv=5, \n",
        "                            n_jobs=-1)"
      ]
    },
    {
      "cell_type": "code",
      "execution_count": null,
      "id": "86e9f11b",
      "metadata": {
        "id": "86e9f11b",
        "outputId": "362a1315-c999-49e6-f377-8ea4e7abc982"
      },
      "outputs": [
        {
          "name": "stdout",
          "output_type": "stream",
          "text": [
            "Fitting 5 folds for each of 100 candidates, totalling 500 fits\n"
          ]
        },
        {
          "data": {
            "text/plain": [
              "GridSearchCV(cv=5, estimator=GaussianNB(), n_jobs=-1,\n",
              "             param_grid={'var_smoothing': array([1.00000000e+00, 8.11130831e-01, 6.57933225e-01, 5.33669923e-01,\n",
              "       4.32876128e-01, 3.51119173e-01, 2.84803587e-01, 2.31012970e-01,\n",
              "       1.87381742e-01, 1.51991108e-01, 1.23284674e-01, 1.00000000e-01,\n",
              "       8.11130831e-02, 6.57933225e-02, 5.33669923e-02, 4.32876128e-02,\n",
              "       3.51119173e-02, 2.8480358...\n",
              "       1.23284674e-07, 1.00000000e-07, 8.11130831e-08, 6.57933225e-08,\n",
              "       5.33669923e-08, 4.32876128e-08, 3.51119173e-08, 2.84803587e-08,\n",
              "       2.31012970e-08, 1.87381742e-08, 1.51991108e-08, 1.23284674e-08,\n",
              "       1.00000000e-08, 8.11130831e-09, 6.57933225e-09, 5.33669923e-09,\n",
              "       4.32876128e-09, 3.51119173e-09, 2.84803587e-09, 2.31012970e-09,\n",
              "       1.87381742e-09, 1.51991108e-09, 1.23284674e-09, 1.00000000e-09])},\n",
              "             scoring='roc_auc', verbose=1)"
            ]
          },
          "execution_count": 272,
          "metadata": {},
          "output_type": "execute_result"
        }
      ],
      "source": [
        "nbModel_grid.fit(X_train_smote, y_train_smote)"
      ]
    },
    {
      "cell_type": "code",
      "execution_count": null,
      "id": "6046099b",
      "metadata": {
        "id": "6046099b",
        "outputId": "086ecb12-1af1-483d-c6d9-743f7df560cb"
      },
      "outputs": [
        {
          "name": "stdout",
          "output_type": "stream",
          "text": [
            "GaussianNB(var_smoothing=1.0)\n"
          ]
        }
      ],
      "source": [
        "print(nbModel_grid.best_estimator_)"
      ]
    },
    {
      "cell_type": "code",
      "execution_count": null,
      "id": "2383869a",
      "metadata": {
        "id": "2383869a",
        "outputId": "c882722b-abb6-471a-c5e6-a829b9f9b91d"
      },
      "outputs": [
        {
          "name": "stdout",
          "output_type": "stream",
          "text": [
            "Best Score:  0.8444752220690163\n"
          ]
        }
      ],
      "source": [
        "print('Best Score: ', nbModel_grid.best_score_)"
      ]
    },
    {
      "cell_type": "code",
      "execution_count": null,
      "id": "9f71560a",
      "metadata": {
        "id": "9f71560a",
        "outputId": "4d0a1b3b-6088-41c8-e8f9-64e24654fd00"
      },
      "outputs": [
        {
          "name": "stdout",
          "output_type": "stream",
          "text": [
            "Best Params:  {'var_smoothing': 1.0}\n"
          ]
        }
      ],
      "source": [
        "print('Best Params: ', nbModel_grid.best_params_)"
      ]
    },
    {
      "cell_type": "code",
      "execution_count": null,
      "id": "204a9721",
      "metadata": {
        "id": "204a9721"
      },
      "outputs": [],
      "source": [
        "model = GaussianNB(var_smoothing=1.0)"
      ]
    },
    {
      "cell_type": "code",
      "execution_count": null,
      "id": "e8894513",
      "metadata": {
        "id": "e8894513",
        "outputId": "5728e58d-9760-47f2-faa8-519ac3dd7c5d"
      },
      "outputs": [
        {
          "name": "stdout",
          "output_type": "stream",
          "text": [
            "................Train .......................\n",
            "0.7740850797622771 : is the accuracy score\n",
            "0.7740850797622771 : is the roc auc score\n",
            "0.7653614366615185 : is the precision score\n",
            "0.7777384560939208 : is the f1 score\n",
            "7.802921806465029 : is the logloss\n",
            "[[24222  7748]\n",
            " [ 6697 25273]] : is the confusion matrix\n",
            "................Test.......................\n",
            "0.7569390688930665 : is the accuracy score\n",
            "0.768872573202736 : is the roc auc score\n",
            "0.3036537779354381 : is the precision score\n",
            "0.43785166240409207 : is the f1 score\n",
            "8.395200721637638 : is the logloss\n",
            "[[5989 1963]\n",
            " [ 235  856]] : is the confusion matrix\n"
          ]
        }
      ],
      "source": [
        "met(model, X_train_smote, y_train_smote, X_test_norm, y_test)"
      ]
    },
    {
      "cell_type": "markdown",
      "id": "lw4F0pYoRMwz",
      "metadata": {
        "id": "lw4F0pYoRMwz"
      },
      "source": [
        "## Hyperparameter Metrics :\n"
      ]
    },
    {
      "cell_type": "code",
      "execution_count": null,
      "id": "1407f0e7",
      "metadata": {
        "colab": {
          "base_uri": "https://localhost:8080/"
        },
        "id": "1407f0e7",
        "outputId": "729c755b-8d78-421c-fa7a-5599ea3db0b8"
      },
      "outputs": [
        {
          "name": "stdout",
          "output_type": "stream",
          "text": [
            "==============================\n",
            "DecisionTreeClassifier\n",
            "------------------------------\n",
            "ROC AUC:\t 0.8784016265248671\n",
            "==============================\n",
            "RandomForestClassifier\n",
            "------------------------------\n",
            "ROC AUC:\t 0.9824835783547075\n",
            "==============================\n",
            "LogisticRegression\n",
            "------------------------------\n",
            "ROC AUC:\t 0.8051923678448545\n"
          ]
        },
        {
          "name": "stderr",
          "output_type": "stream",
          "text": [
            "C:\\Users\\kondr\\anaconda3\\lib\\site-packages\\xgboost\\sklearn.py:1224: UserWarning: The use of label encoder in XGBClassifier is deprecated and will be removed in a future release. To remove this warning, do the following: 1) Pass option use_label_encoder=False when constructing XGBClassifier object; and 2) Encode your labels (y) as integers starting with 0, i.e. 0, 1, 2, ..., [num_class - 1].\n",
            "  warnings.warn(label_encoder_deprecation_msg, UserWarning)\n"
          ]
        },
        {
          "name": "stdout",
          "output_type": "stream",
          "text": [
            "[22:02:13] WARNING: C:/Users/Administrator/workspace/xgboost-win64_release_1.5.1/src/learner.cc:576: \n",
            "Parameters: { \"class_weight\", \"cv\", \"njob\", \"scoring\" } might not be used.\n",
            "\n",
            "  This could be a false alarm, with some parameters getting used by language bindings but\n",
            "  then being mistakenly passed down to XGBoost core, or some parameter actually being used\n",
            "  but getting flagged wrongly here. Please open an issue if you find any such cases.\n",
            "\n",
            "\n",
            "[22:02:13] WARNING: C:/Users/Administrator/workspace/xgboost-win64_release_1.5.1/src/learner.cc:1115: Starting in XGBoost 1.3.0, the default evaluation metric used with the objective 'binary:logistic' was changed from 'error' to 'logloss'. Explicitly set eval_metric if you'd like to restore the old behavior.\n",
            "==============================\n",
            "XGBClassifier\n",
            "------------------------------\n",
            "ROC AUC:\t 0.954426024397873\n",
            "==============================\n",
            "GaussianNB\n",
            "------------------------------\n",
            "ROC AUC:\t 0.7740850797622771\n",
            "==============================\n"
          ]
        }
      ],
      "source": [
        "#Final models\n",
        "classifiers = [\n",
        "    DecisionTreeClassifier(criterion= 'entropy',\n",
        "                               max_depth= 9,\n",
        "                               min_samples_leaf= 4,\n",
        "                               min_samples_split= 3,\n",
        "                               class_weight = \"balanced\"\n",
        "                              ),\n",
        "    RandomForestClassifier(bootstrap = True,\n",
        "                               max_depth = 20,\n",
        "                               max_features = 4, \n",
        "                               min_samples_leaf = 3, \n",
        "                               min_samples_split = 4, \n",
        "                               n_estimators = 1450,\n",
        "                            class_weight = \"balanced\"),\n",
        "    LogisticRegression(C=0.01, class_weight=\"balanced\", penalty='l1', solver='liblinear'),\n",
        "    XGBClassifier(cv=5,learning_rate=0.05, max_depth=9, n_estimators=140, njob=-1, scoring='roc_auc',\n",
        "              seed=42, class_weight=\"balanced\", scale_pos_weight= 2.7473),\n",
        "    GaussianNB(var_smoothing=1.0)\n",
        "]\n",
        "\n",
        "# Logging for Visual Comparison\n",
        "log_cols=[\"Classifier\", \"ROC\"]\n",
        "log = pd.DataFrame(columns=log_cols)\n",
        "\n",
        "for clf in classifiers:\n",
        "    clf.fit(X_train_smote, y_train_smote)\n",
        "    name = clf.__class__.__name__\n",
        "    \n",
        "    print(\"=\"*30)\n",
        "    print(name)\n",
        "    try:\n",
        "        print(\"-\"*30)\n",
        "        train_predictions_smote = clf.predict(X_train_smote)\n",
        "        print(\"ROC AUC:\\t\",roc_auc_score(y_train_smote, train_predictions_smote))\n",
        "        log_entry = pd.DataFrame([[name, roc_auc_score(y_train_smote, train_predictions_smote)]], columns=log_cols)\n",
        "        log = log.append(log_entry)\n",
        "    except Exception as e:\n",
        "        print (e)\n",
        "    \n",
        "print(\"=\"*30)"
      ]
    },
    {
      "cell_type": "code",
      "execution_count": null,
      "id": "U8EnP9QiRwcB",
      "metadata": {
        "colab": {
          "base_uri": "https://localhost:8080/",
          "height": 573
        },
        "id": "U8EnP9QiRwcB",
        "outputId": "3f965382-294d-4deb-d459-de8fa7ca8b0a"
      },
      "outputs": [
        {
          "data": {
            "image/png": "[encoded data removed]",
            "text/plain": [
              "<Figure size 432x288 with 1 Axes>"
            ]
          },
          "metadata": {
            "needs_background": "light"
          },
          "output_type": "display_data"
        }
      ],
      "source": [
        "# Ploting ROC AUC on train data\n",
        "sns.set_color_codes(\"muted\")\n",
        "sns.barplot(x='ROC', y='Classifier', data=log, color=\"r\")\n",
        "\n",
        "plt.xlabel('ROC AUC Score')\n",
        "plt.title('Classifier ROC AUC score on Train data')\n",
        "plt.show()\n"
      ]
    },
    {
      "cell_type": "code",
      "execution_count": null,
      "id": "3J3KLiY7RwfW",
      "metadata": {
        "colab": {
          "base_uri": "https://localhost:8080/"
        },
        "id": "3J3KLiY7RwfW",
        "outputId": "e4313d42-d04d-4fdb-be33-ff5dc3889819"
      },
      "outputs": [
        {
          "name": "stdout",
          "output_type": "stream",
          "text": [
            "==============================\n",
            "DecisionTreeClassifier\n",
            "------------------------------\n",
            "ROC AUC:\t 0.8085233444664319\n",
            "==============================\n",
            "RandomForestClassifier\n",
            "------------------------------\n",
            "ROC AUC:\t 0.8102648890593792\n",
            "==============================\n",
            "LogisticRegression\n",
            "------------------------------\n",
            "ROC AUC:\t 0.794068201601912\n",
            "[22:08:37] WARNING: C:/Users/Administrator/workspace/xgboost-win64_release_1.5.1/src/learner.cc:576: \n",
            "Parameters: { \"class_weight\", \"cv\", \"njob\", \"scoring\" } might not be used.\n",
            "\n",
            "  This could be a false alarm, with some parameters getting used by language bindings but\n",
            "  then being mistakenly passed down to XGBoost core, or some parameter actually being used\n",
            "  but getting flagged wrongly here. Please open an issue if you find any such cases.\n",
            "\n",
            "\n",
            "[22:08:37] WARNING: C:/Users/Administrator/workspace/xgboost-win64_release_1.5.1/src/learner.cc:1115: Starting in XGBoost 1.3.0, the default evaluation metric used with the objective 'binary:logistic' was changed from 'error' to 'logloss'. Explicitly set eval_metric if you'd like to restore the old behavior.\n"
          ]
        },
        {
          "name": "stderr",
          "output_type": "stream",
          "text": [
            "C:\\Users\\kondr\\anaconda3\\lib\\site-packages\\xgboost\\sklearn.py:1224: UserWarning: The use of label encoder in XGBClassifier is deprecated and will be removed in a future release. To remove this warning, do the following: 1) Pass option use_label_encoder=False when constructing XGBClassifier object; and 2) Encode your labels (y) as integers starting with 0, i.e. 0, 1, 2, ..., [num_class - 1].\n",
            "  warnings.warn(label_encoder_deprecation_msg, UserWarning)\n"
          ]
        },
        {
          "name": "stdout",
          "output_type": "stream",
          "text": [
            "==============================\n",
            "XGBClassifier\n",
            "------------------------------\n",
            "ROC AUC:\t 0.8443195262316336\n",
            "==============================\n",
            "GaussianNB\n",
            "------------------------------\n",
            "ROC AUC:\t 0.768872573202736\n",
            "==============================\n"
          ]
        }
      ],
      "source": [
        "#Final models Test data\n",
        "classifiers = [\n",
        "    DecisionTreeClassifier(criterion= 'entropy',\n",
        "                               max_depth= 9,\n",
        "                               min_samples_leaf= 4,\n",
        "                               min_samples_split= 3,\n",
        "                               class_weight = \"balanced\"\n",
        "                              ),\n",
        "    RandomForestClassifier(bootstrap = True,\n",
        "                               max_depth = 20,\n",
        "                               max_features = 4, \n",
        "                               min_samples_leaf = 3, \n",
        "                               min_samples_split = 4, \n",
        "                               n_estimators = 1450,\n",
        "                            class_weight = \"balanced\"),\n",
        "    LogisticRegression(C=0.01, class_weight=\"balanced\", penalty='l1', solver='liblinear'),\n",
        "    XGBClassifier(cv=5,learning_rate=0.05, max_depth=9, n_estimators=140, njob=-1, scoring='roc_auc',\n",
        "              seed=42, class_weight=\"balanced\", scale_pos_weight= 2.7473),\n",
        "    GaussianNB(var_smoothing=1.0)\n",
        "]\n",
        "\n",
        "# Logging for Visual Comparison\n",
        "log_cols=[\"Classifier\", \"ROC\"]\n",
        "log = pd.DataFrame(columns=log_cols)\n",
        "\n",
        "for clf in classifiers:\n",
        "    clf.fit(X_train_smote, y_train_smote)\n",
        "    name = clf.__class__.__name__\n",
        "    \n",
        "    print(\"=\"*30)\n",
        "    print(name)\n",
        "    try:\n",
        "        print(\"-\"*30)\n",
        "        test_predictions_smote = clf.predict(X_test_norm)\n",
        "        print(\"ROC AUC:\\t\",roc_auc_score(y_test, test_predictions_smote))\n",
        "        log_entry = pd.DataFrame([[name, roc_auc_score(y_test, test_predictions_smote)]], columns=log_cols)\n",
        "        log = log.append(log_entry)\n",
        "    except Exception as e:\n",
        "        print (e)\n",
        "    \n",
        "print(\"=\"*30)"
      ]
    },
    {
      "cell_type": "code",
      "execution_count": null,
      "id": "-7y8ealSRwi5",
      "metadata": {
        "colab": {
          "base_uri": "https://localhost:8080/",
          "height": 573
        },
        "id": "-7y8ealSRwi5",
        "outputId": "16fda854-8907-4791-efb8-98367badd5b9"
      },
      "outputs": [
        {
          "data": {
            "image/png": "[encoded data removed]",
            "text/plain": [
              "<Figure size 432x288 with 1 Axes>"
            ]
          },
          "metadata": {
            "needs_background": "light"
          },
          "output_type": "display_data"
        }
      ],
      "source": [
        "# Ploting ROC AUC on test data\n",
        "sns.set_color_codes(\"muted\")\n",
        "sns.barplot(x='ROC', y='Classifier', data=log, color=\"r\")\n",
        "\n",
        "plt.xlabel('ROC AUC Score')\n",
        "plt.title('Classifier ROC AUC score on Test data')\n",
        "plt.show()"
      ]
    },
    {
      "cell_type": "markdown",
      "id": "kLOHbdfpg0fh",
      "metadata": {
        "id": "kLOHbdfpg0fh"
      },
      "source": [
        "# THE END"
      ]
    }
  ],
  "metadata": {
    "colab": {
      "name": "SMOTE_code.ipynb",
      "provenance": [],
      "collapsed_sections": [
        "0651c0a8",
        "0f7049a1",
        "a2a10713",
        "0c248c5b",
        "65ebebef",
        "e9a5c937",
        "60c03b6b",
        "a22d29ce",
        "d521c25a"
      ]
    },
    "kernelspec": {
      "display_name": "Python 3",
      "language": "python",
      "name": "python3"
    },
    "language_info": {
      "codemirror_mode": {
        "name": "ipython",
        "version": 3
      },
      "file_extension": ".py",
      "mimetype": "text/x-python",
      "name": "python",
      "nbconvert_exporter": "python",
      "pygments_lexer": "ipython3",
      "version": "3.8.8"
    }
  },
  "nbformat": 4,
  "nbformat_minor": 5
}